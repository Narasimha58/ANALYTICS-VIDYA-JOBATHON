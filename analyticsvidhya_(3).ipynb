{
  "nbformat": 4,
  "nbformat_minor": 0,
  "metadata": {
    "colab": {
      "name": "analyticsvidhya (3).ipynb",
      "provenance": [],
      "collapsed_sections": []
    },
    "kernelspec": {
      "name": "python3",
      "display_name": "Python 3"
    },
    "language_info": {
      "name": "python"
    }
  },
  "cells": [
    {
      "cell_type": "markdown",
      "source": [
        "###Importing library \n"
      ],
      "metadata": {
        "id": "AmJED--HNwLK"
      }
    },
    {
      "cell_type": "code",
      "execution_count": null,
      "metadata": {
        "id": "fqcyV4ry45Dj"
      },
      "outputs": [],
      "source": [
        "#loading modules \n",
        "import numpy as np \n",
        "import pandas as pd \n",
        "import seaborn as sns \n",
        "import matplotlib.pyplot as plt\n"
      ]
    },
    {
      "cell_type": "code",
      "source": [
        "from google.colab import drive\n",
        "drive.mount('/content/grive')\n"
      ],
      "metadata": {
        "colab": {
          "base_uri": "https://localhost:8080/"
        },
        "id": "9CFQLTfXAQby",
        "outputId": "ff95d89a-b807-4b9c-a02c-79010d626584"
      },
      "execution_count": null,
      "outputs": [
        {
          "output_type": "stream",
          "name": "stdout",
          "text": [
            "Drive already mounted at /content/grive; to attempt to forcibly remount, call drive.mount(\"/content/grive\", force_remount=True).\n"
          ]
        }
      ]
    },
    {
      "cell_type": "code",
      "source": [
        " \n",
        "train = pd.read_csv('/content/grive/MyDrive/train_E1GspfA.csv')"
      ],
      "metadata": {
        "id": "W-Ep29y_49Ui"
      },
      "execution_count": null,
      "outputs": []
    },
    {
      "cell_type": "markdown",
      "source": [
        "###Basic overview "
      ],
      "metadata": {
        "id": "xsUY8h4uN3fq"
      }
    },
    {
      "cell_type": "code",
      "source": [
        "train.head()"
      ],
      "metadata": {
        "colab": {
          "base_uri": "https://localhost:8080/",
          "height": 206
        },
        "id": "pfsEN4TDAHv0",
        "outputId": "9ba18cf8-deb0-40f3-daa3-22adacb570b2"
      },
      "execution_count": null,
      "outputs": [
        {
          "output_type": "execute_result",
          "data": {
            "text/plain": [
              "         date  hour  demand\n",
              "0  2018-08-18     9      91\n",
              "1  2018-08-18    10      21\n",
              "2  2018-08-18    13      23\n",
              "3  2018-08-18    14     104\n",
              "4  2018-08-18    15      81"
            ],
            "text/html": [
              "\n",
              "  <div id=\"df-6cbf2251-b9b7-4d05-bd04-509fbecba80a\">\n",
              "    <div class=\"colab-df-container\">\n",
              "      <div>\n",
              "<style scoped>\n",
              "    .dataframe tbody tr th:only-of-type {\n",
              "        vertical-align: middle;\n",
              "    }\n",
              "\n",
              "    .dataframe tbody tr th {\n",
              "        vertical-align: top;\n",
              "    }\n",
              "\n",
              "    .dataframe thead th {\n",
              "        text-align: right;\n",
              "    }\n",
              "</style>\n",
              "<table border=\"1\" class=\"dataframe\">\n",
              "  <thead>\n",
              "    <tr style=\"text-align: right;\">\n",
              "      <th></th>\n",
              "      <th>date</th>\n",
              "      <th>hour</th>\n",
              "      <th>demand</th>\n",
              "    </tr>\n",
              "  </thead>\n",
              "  <tbody>\n",
              "    <tr>\n",
              "      <th>0</th>\n",
              "      <td>2018-08-18</td>\n",
              "      <td>9</td>\n",
              "      <td>91</td>\n",
              "    </tr>\n",
              "    <tr>\n",
              "      <th>1</th>\n",
              "      <td>2018-08-18</td>\n",
              "      <td>10</td>\n",
              "      <td>21</td>\n",
              "    </tr>\n",
              "    <tr>\n",
              "      <th>2</th>\n",
              "      <td>2018-08-18</td>\n",
              "      <td>13</td>\n",
              "      <td>23</td>\n",
              "    </tr>\n",
              "    <tr>\n",
              "      <th>3</th>\n",
              "      <td>2018-08-18</td>\n",
              "      <td>14</td>\n",
              "      <td>104</td>\n",
              "    </tr>\n",
              "    <tr>\n",
              "      <th>4</th>\n",
              "      <td>2018-08-18</td>\n",
              "      <td>15</td>\n",
              "      <td>81</td>\n",
              "    </tr>\n",
              "  </tbody>\n",
              "</table>\n",
              "</div>\n",
              "      <button class=\"colab-df-convert\" onclick=\"convertToInteractive('df-6cbf2251-b9b7-4d05-bd04-509fbecba80a')\"\n",
              "              title=\"Convert this dataframe to an interactive table.\"\n",
              "              style=\"display:none;\">\n",
              "        \n",
              "  <svg xmlns=\"http://www.w3.org/2000/svg\" height=\"24px\"viewBox=\"0 0 24 24\"\n",
              "       width=\"24px\">\n",
              "    <path d=\"M0 0h24v24H0V0z\" fill=\"none\"/>\n",
              "    <path d=\"M18.56 5.44l.94 2.06.94-2.06 2.06-.94-2.06-.94-.94-2.06-.94 2.06-2.06.94zm-11 1L8.5 8.5l.94-2.06 2.06-.94-2.06-.94L8.5 2.5l-.94 2.06-2.06.94zm10 10l.94 2.06.94-2.06 2.06-.94-2.06-.94-.94-2.06-.94 2.06-2.06.94z\"/><path d=\"M17.41 7.96l-1.37-1.37c-.4-.4-.92-.59-1.43-.59-.52 0-1.04.2-1.43.59L10.3 9.45l-7.72 7.72c-.78.78-.78 2.05 0 2.83L4 21.41c.39.39.9.59 1.41.59.51 0 1.02-.2 1.41-.59l7.78-7.78 2.81-2.81c.8-.78.8-2.07 0-2.86zM5.41 20L4 18.59l7.72-7.72 1.47 1.35L5.41 20z\"/>\n",
              "  </svg>\n",
              "      </button>\n",
              "      \n",
              "  <style>\n",
              "    .colab-df-container {\n",
              "      display:flex;\n",
              "      flex-wrap:wrap;\n",
              "      gap: 12px;\n",
              "    }\n",
              "\n",
              "    .colab-df-convert {\n",
              "      background-color: #E8F0FE;\n",
              "      border: none;\n",
              "      border-radius: 50%;\n",
              "      cursor: pointer;\n",
              "      display: none;\n",
              "      fill: #1967D2;\n",
              "      height: 32px;\n",
              "      padding: 0 0 0 0;\n",
              "      width: 32px;\n",
              "    }\n",
              "\n",
              "    .colab-df-convert:hover {\n",
              "      background-color: #E2EBFA;\n",
              "      box-shadow: 0px 1px 2px rgba(60, 64, 67, 0.3), 0px 1px 3px 1px rgba(60, 64, 67, 0.15);\n",
              "      fill: #174EA6;\n",
              "    }\n",
              "\n",
              "    [theme=dark] .colab-df-convert {\n",
              "      background-color: #3B4455;\n",
              "      fill: #D2E3FC;\n",
              "    }\n",
              "\n",
              "    [theme=dark] .colab-df-convert:hover {\n",
              "      background-color: #434B5C;\n",
              "      box-shadow: 0px 1px 3px 1px rgba(0, 0, 0, 0.15);\n",
              "      filter: drop-shadow(0px 1px 2px rgba(0, 0, 0, 0.3));\n",
              "      fill: #FFFFFF;\n",
              "    }\n",
              "  </style>\n",
              "\n",
              "      <script>\n",
              "        const buttonEl =\n",
              "          document.querySelector('#df-6cbf2251-b9b7-4d05-bd04-509fbecba80a button.colab-df-convert');\n",
              "        buttonEl.style.display =\n",
              "          google.colab.kernel.accessAllowed ? 'block' : 'none';\n",
              "\n",
              "        async function convertToInteractive(key) {\n",
              "          const element = document.querySelector('#df-6cbf2251-b9b7-4d05-bd04-509fbecba80a');\n",
              "          const dataTable =\n",
              "            await google.colab.kernel.invokeFunction('convertToInteractive',\n",
              "                                                     [key], {});\n",
              "          if (!dataTable) return;\n",
              "\n",
              "          const docLinkHtml = 'Like what you see? Visit the ' +\n",
              "            '<a target=\"_blank\" href=https://colab.research.google.com/notebooks/data_table.ipynb>data table notebook</a>'\n",
              "            + ' to learn more about interactive tables.';\n",
              "          element.innerHTML = '';\n",
              "          dataTable['output_type'] = 'display_data';\n",
              "          await google.colab.output.renderOutput(dataTable, element);\n",
              "          const docLink = document.createElement('div');\n",
              "          docLink.innerHTML = docLinkHtml;\n",
              "          element.appendChild(docLink);\n",
              "        }\n",
              "      </script>\n",
              "    </div>\n",
              "  </div>\n",
              "  "
            ]
          },
          "metadata": {},
          "execution_count": 4
        }
      ]
    },
    {
      "cell_type": "code",
      "source": [
        "train.tail()"
      ],
      "metadata": {
        "colab": {
          "base_uri": "https://localhost:8080/",
          "height": 206
        },
        "id": "IF0BfFFfLmY_",
        "outputId": "4a7bf45f-afab-4b77-db78-18ace90e4ca0"
      },
      "execution_count": null,
      "outputs": [
        {
          "output_type": "execute_result",
          "data": {
            "text/plain": [
              "             date  hour  demand\n",
              "18242  2021-02-28    19      95\n",
              "18243  2021-02-28    20      88\n",
              "18244  2021-02-28    21      39\n",
              "18245  2021-02-28    22     104\n",
              "18246  2021-02-28    23      85"
            ],
            "text/html": [
              "\n",
              "  <div id=\"df-4f45ab28-eed3-4d02-8790-560c9280ca15\">\n",
              "    <div class=\"colab-df-container\">\n",
              "      <div>\n",
              "<style scoped>\n",
              "    .dataframe tbody tr th:only-of-type {\n",
              "        vertical-align: middle;\n",
              "    }\n",
              "\n",
              "    .dataframe tbody tr th {\n",
              "        vertical-align: top;\n",
              "    }\n",
              "\n",
              "    .dataframe thead th {\n",
              "        text-align: right;\n",
              "    }\n",
              "</style>\n",
              "<table border=\"1\" class=\"dataframe\">\n",
              "  <thead>\n",
              "    <tr style=\"text-align: right;\">\n",
              "      <th></th>\n",
              "      <th>date</th>\n",
              "      <th>hour</th>\n",
              "      <th>demand</th>\n",
              "    </tr>\n",
              "  </thead>\n",
              "  <tbody>\n",
              "    <tr>\n",
              "      <th>18242</th>\n",
              "      <td>2021-02-28</td>\n",
              "      <td>19</td>\n",
              "      <td>95</td>\n",
              "    </tr>\n",
              "    <tr>\n",
              "      <th>18243</th>\n",
              "      <td>2021-02-28</td>\n",
              "      <td>20</td>\n",
              "      <td>88</td>\n",
              "    </tr>\n",
              "    <tr>\n",
              "      <th>18244</th>\n",
              "      <td>2021-02-28</td>\n",
              "      <td>21</td>\n",
              "      <td>39</td>\n",
              "    </tr>\n",
              "    <tr>\n",
              "      <th>18245</th>\n",
              "      <td>2021-02-28</td>\n",
              "      <td>22</td>\n",
              "      <td>104</td>\n",
              "    </tr>\n",
              "    <tr>\n",
              "      <th>18246</th>\n",
              "      <td>2021-02-28</td>\n",
              "      <td>23</td>\n",
              "      <td>85</td>\n",
              "    </tr>\n",
              "  </tbody>\n",
              "</table>\n",
              "</div>\n",
              "      <button class=\"colab-df-convert\" onclick=\"convertToInteractive('df-4f45ab28-eed3-4d02-8790-560c9280ca15')\"\n",
              "              title=\"Convert this dataframe to an interactive table.\"\n",
              "              style=\"display:none;\">\n",
              "        \n",
              "  <svg xmlns=\"http://www.w3.org/2000/svg\" height=\"24px\"viewBox=\"0 0 24 24\"\n",
              "       width=\"24px\">\n",
              "    <path d=\"M0 0h24v24H0V0z\" fill=\"none\"/>\n",
              "    <path d=\"M18.56 5.44l.94 2.06.94-2.06 2.06-.94-2.06-.94-.94-2.06-.94 2.06-2.06.94zm-11 1L8.5 8.5l.94-2.06 2.06-.94-2.06-.94L8.5 2.5l-.94 2.06-2.06.94zm10 10l.94 2.06.94-2.06 2.06-.94-2.06-.94-.94-2.06-.94 2.06-2.06.94z\"/><path d=\"M17.41 7.96l-1.37-1.37c-.4-.4-.92-.59-1.43-.59-.52 0-1.04.2-1.43.59L10.3 9.45l-7.72 7.72c-.78.78-.78 2.05 0 2.83L4 21.41c.39.39.9.59 1.41.59.51 0 1.02-.2 1.41-.59l7.78-7.78 2.81-2.81c.8-.78.8-2.07 0-2.86zM5.41 20L4 18.59l7.72-7.72 1.47 1.35L5.41 20z\"/>\n",
              "  </svg>\n",
              "      </button>\n",
              "      \n",
              "  <style>\n",
              "    .colab-df-container {\n",
              "      display:flex;\n",
              "      flex-wrap:wrap;\n",
              "      gap: 12px;\n",
              "    }\n",
              "\n",
              "    .colab-df-convert {\n",
              "      background-color: #E8F0FE;\n",
              "      border: none;\n",
              "      border-radius: 50%;\n",
              "      cursor: pointer;\n",
              "      display: none;\n",
              "      fill: #1967D2;\n",
              "      height: 32px;\n",
              "      padding: 0 0 0 0;\n",
              "      width: 32px;\n",
              "    }\n",
              "\n",
              "    .colab-df-convert:hover {\n",
              "      background-color: #E2EBFA;\n",
              "      box-shadow: 0px 1px 2px rgba(60, 64, 67, 0.3), 0px 1px 3px 1px rgba(60, 64, 67, 0.15);\n",
              "      fill: #174EA6;\n",
              "    }\n",
              "\n",
              "    [theme=dark] .colab-df-convert {\n",
              "      background-color: #3B4455;\n",
              "      fill: #D2E3FC;\n",
              "    }\n",
              "\n",
              "    [theme=dark] .colab-df-convert:hover {\n",
              "      background-color: #434B5C;\n",
              "      box-shadow: 0px 1px 3px 1px rgba(0, 0, 0, 0.15);\n",
              "      filter: drop-shadow(0px 1px 2px rgba(0, 0, 0, 0.3));\n",
              "      fill: #FFFFFF;\n",
              "    }\n",
              "  </style>\n",
              "\n",
              "      <script>\n",
              "        const buttonEl =\n",
              "          document.querySelector('#df-4f45ab28-eed3-4d02-8790-560c9280ca15 button.colab-df-convert');\n",
              "        buttonEl.style.display =\n",
              "          google.colab.kernel.accessAllowed ? 'block' : 'none';\n",
              "\n",
              "        async function convertToInteractive(key) {\n",
              "          const element = document.querySelector('#df-4f45ab28-eed3-4d02-8790-560c9280ca15');\n",
              "          const dataTable =\n",
              "            await google.colab.kernel.invokeFunction('convertToInteractive',\n",
              "                                                     [key], {});\n",
              "          if (!dataTable) return;\n",
              "\n",
              "          const docLinkHtml = 'Like what you see? Visit the ' +\n",
              "            '<a target=\"_blank\" href=https://colab.research.google.com/notebooks/data_table.ipynb>data table notebook</a>'\n",
              "            + ' to learn more about interactive tables.';\n",
              "          element.innerHTML = '';\n",
              "          dataTable['output_type'] = 'display_data';\n",
              "          await google.colab.output.renderOutput(dataTable, element);\n",
              "          const docLink = document.createElement('div');\n",
              "          docLink.innerHTML = docLinkHtml;\n",
              "          element.appendChild(docLink);\n",
              "        }\n",
              "      </script>\n",
              "    </div>\n",
              "  </div>\n",
              "  "
            ]
          },
          "metadata": {},
          "execution_count": 5
        }
      ]
    },
    {
      "cell_type": "code",
      "source": [
        "train.shape"
      ],
      "metadata": {
        "colab": {
          "base_uri": "https://localhost:8080/"
        },
        "id": "alscf_M9CfUT",
        "outputId": "aab667cf-4001-4224-9033-a56d9d72dff0"
      },
      "execution_count": null,
      "outputs": [
        {
          "output_type": "execute_result",
          "data": {
            "text/plain": [
              "(18247, 3)"
            ]
          },
          "metadata": {},
          "execution_count": 6
        }
      ]
    },
    {
      "cell_type": "code",
      "source": [
        "train.info()"
      ],
      "metadata": {
        "colab": {
          "base_uri": "https://localhost:8080/"
        },
        "id": "zGL9AqQXH1Ys",
        "outputId": "b380e252-b87e-4c51-fde7-28903fc19c78"
      },
      "execution_count": null,
      "outputs": [
        {
          "output_type": "stream",
          "name": "stdout",
          "text": [
            "<class 'pandas.core.frame.DataFrame'>\n",
            "RangeIndex: 18247 entries, 0 to 18246\n",
            "Data columns (total 3 columns):\n",
            " #   Column  Non-Null Count  Dtype \n",
            "---  ------  --------------  ----- \n",
            " 0   date    18247 non-null  object\n",
            " 1   hour    18247 non-null  int64 \n",
            " 2   demand  18247 non-null  int64 \n",
            "dtypes: int64(2), object(1)\n",
            "memory usage: 427.8+ KB\n"
          ]
        }
      ]
    },
    {
      "cell_type": "code",
      "source": [
        "train.isna().sum()"
      ],
      "metadata": {
        "colab": {
          "base_uri": "https://localhost:8080/"
        },
        "id": "ndD5rEy9H4VW",
        "outputId": "21aa480b-b59b-46ee-af31-9af8a64eeb2a"
      },
      "execution_count": null,
      "outputs": [
        {
          "output_type": "execute_result",
          "data": {
            "text/plain": [
              "date      0\n",
              "hour      0\n",
              "demand    0\n",
              "dtype: int64"
            ]
          },
          "metadata": {},
          "execution_count": 8
        }
      ]
    },
    {
      "cell_type": "code",
      "source": [
        "train[\"hour\"].value_counts()"
      ],
      "metadata": {
        "colab": {
          "base_uri": "https://localhost:8080/"
        },
        "id": "VJg9MwwjH8OO",
        "outputId": "a6b605dd-5f66-4be7-8435-23b51900d111"
      },
      "execution_count": null,
      "outputs": [
        {
          "output_type": "execute_result",
          "data": {
            "text/plain": [
              "16    892\n",
              "15    890\n",
              "13    889\n",
              "17    889\n",
              "12    888\n",
              "14    886\n",
              "18    884\n",
              "10    884\n",
              "11    883\n",
              "9     878\n",
              "19    878\n",
              "8     870\n",
              "20    864\n",
              "21    858\n",
              "22    837\n",
              "7     806\n",
              "23    776\n",
              "0     726\n",
              "6     679\n",
              "1     587\n",
              "2     553\n",
              "5     338\n",
              "4     325\n",
              "3     287\n",
              "Name: hour, dtype: int64"
            ]
          },
          "metadata": {},
          "execution_count": 9
        }
      ]
    },
    {
      "cell_type": "code",
      "source": [
        "# FE Data so that we can get max information \n",
        "train['month'] = pd.to_datetime(train['date']).dt.month\n",
        "train['year'] = pd.to_datetime(train['date']).dt.year\n",
        "train['date1']=pd.to_datetime(train['date']).dt.day\n",
        "train[\"week\"]=pd.to_datetime(train['date']).dt.dayofweek\n"
      ],
      "metadata": {
        "id": "MqhAneY0IhfK"
      },
      "execution_count": null,
      "outputs": []
    },
    {
      "cell_type": "code",
      "source": [
        "train[\"year\"].unique() # total 4 unique values "
      ],
      "metadata": {
        "colab": {
          "base_uri": "https://localhost:8080/"
        },
        "id": "xOc7J4BDUG5B",
        "outputId": "f8e1b7b2-eed7-4d95-d051-86963f545df3"
      },
      "execution_count": null,
      "outputs": [
        {
          "output_type": "execute_result",
          "data": {
            "text/plain": [
              "array([2018, 2019, 2020, 2021])"
            ]
          },
          "metadata": {},
          "execution_count": 11
        }
      ]
    },
    {
      "cell_type": "code",
      "source": [
        "train[\"demand\"].min(),train[\"demand\"].max()"
      ],
      "metadata": {
        "colab": {
          "base_uri": "https://localhost:8080/"
        },
        "id": "t0J6SWLlHv2S",
        "outputId": "586ea23b-fc37-498e-e68f-b2d4d51c639d"
      },
      "execution_count": null,
      "outputs": [
        {
          "output_type": "execute_result",
          "data": {
            "text/plain": [
              "(1, 379)"
            ]
          },
          "metadata": {},
          "execution_count": 12
        }
      ]
    },
    {
      "cell_type": "code",
      "source": [
        "train['year'].value_counts() # more data from 2019 "
      ],
      "metadata": {
        "colab": {
          "base_uri": "https://localhost:8080/"
        },
        "id": "W1bPXzqSUQcE",
        "outputId": "72e4b570-0207-41de-c3e7-470551b6cfec"
      },
      "execution_count": null,
      "outputs": [
        {
          "output_type": "execute_result",
          "data": {
            "text/plain": [
              "2019    7286\n",
              "2020    7145\n",
              "2018    2511\n",
              "2021    1305\n",
              "Name: year, dtype: int64"
            ]
          },
          "metadata": {},
          "execution_count": 13
        }
      ]
    },
    {
      "cell_type": "code",
      "source": [
        "train"
      ],
      "metadata": {
        "colab": {
          "base_uri": "https://localhost:8080/",
          "height": 423
        },
        "id": "kbom31tPN4Ly",
        "outputId": "d122168c-cb2d-4a1f-af83-1b6860023d98"
      },
      "execution_count": null,
      "outputs": [
        {
          "output_type": "execute_result",
          "data": {
            "text/plain": [
              "             date  hour  demand  month  year  date1  week\n",
              "0      2018-08-18     9      91      8  2018     18     5\n",
              "1      2018-08-18    10      21      8  2018     18     5\n",
              "2      2018-08-18    13      23      8  2018     18     5\n",
              "3      2018-08-18    14     104      8  2018     18     5\n",
              "4      2018-08-18    15      81      8  2018     18     5\n",
              "...           ...   ...     ...    ...   ...    ...   ...\n",
              "18242  2021-02-28    19      95      2  2021     28     6\n",
              "18243  2021-02-28    20      88      2  2021     28     6\n",
              "18244  2021-02-28    21      39      2  2021     28     6\n",
              "18245  2021-02-28    22     104      2  2021     28     6\n",
              "18246  2021-02-28    23      85      2  2021     28     6\n",
              "\n",
              "[18247 rows x 7 columns]"
            ],
            "text/html": [
              "\n",
              "  <div id=\"df-dfa66da2-cb3c-4341-a7ff-511f32112420\">\n",
              "    <div class=\"colab-df-container\">\n",
              "      <div>\n",
              "<style scoped>\n",
              "    .dataframe tbody tr th:only-of-type {\n",
              "        vertical-align: middle;\n",
              "    }\n",
              "\n",
              "    .dataframe tbody tr th {\n",
              "        vertical-align: top;\n",
              "    }\n",
              "\n",
              "    .dataframe thead th {\n",
              "        text-align: right;\n",
              "    }\n",
              "</style>\n",
              "<table border=\"1\" class=\"dataframe\">\n",
              "  <thead>\n",
              "    <tr style=\"text-align: right;\">\n",
              "      <th></th>\n",
              "      <th>date</th>\n",
              "      <th>hour</th>\n",
              "      <th>demand</th>\n",
              "      <th>month</th>\n",
              "      <th>year</th>\n",
              "      <th>date1</th>\n",
              "      <th>week</th>\n",
              "    </tr>\n",
              "  </thead>\n",
              "  <tbody>\n",
              "    <tr>\n",
              "      <th>0</th>\n",
              "      <td>2018-08-18</td>\n",
              "      <td>9</td>\n",
              "      <td>91</td>\n",
              "      <td>8</td>\n",
              "      <td>2018</td>\n",
              "      <td>18</td>\n",
              "      <td>5</td>\n",
              "    </tr>\n",
              "    <tr>\n",
              "      <th>1</th>\n",
              "      <td>2018-08-18</td>\n",
              "      <td>10</td>\n",
              "      <td>21</td>\n",
              "      <td>8</td>\n",
              "      <td>2018</td>\n",
              "      <td>18</td>\n",
              "      <td>5</td>\n",
              "    </tr>\n",
              "    <tr>\n",
              "      <th>2</th>\n",
              "      <td>2018-08-18</td>\n",
              "      <td>13</td>\n",
              "      <td>23</td>\n",
              "      <td>8</td>\n",
              "      <td>2018</td>\n",
              "      <td>18</td>\n",
              "      <td>5</td>\n",
              "    </tr>\n",
              "    <tr>\n",
              "      <th>3</th>\n",
              "      <td>2018-08-18</td>\n",
              "      <td>14</td>\n",
              "      <td>104</td>\n",
              "      <td>8</td>\n",
              "      <td>2018</td>\n",
              "      <td>18</td>\n",
              "      <td>5</td>\n",
              "    </tr>\n",
              "    <tr>\n",
              "      <th>4</th>\n",
              "      <td>2018-08-18</td>\n",
              "      <td>15</td>\n",
              "      <td>81</td>\n",
              "      <td>8</td>\n",
              "      <td>2018</td>\n",
              "      <td>18</td>\n",
              "      <td>5</td>\n",
              "    </tr>\n",
              "    <tr>\n",
              "      <th>...</th>\n",
              "      <td>...</td>\n",
              "      <td>...</td>\n",
              "      <td>...</td>\n",
              "      <td>...</td>\n",
              "      <td>...</td>\n",
              "      <td>...</td>\n",
              "      <td>...</td>\n",
              "    </tr>\n",
              "    <tr>\n",
              "      <th>18242</th>\n",
              "      <td>2021-02-28</td>\n",
              "      <td>19</td>\n",
              "      <td>95</td>\n",
              "      <td>2</td>\n",
              "      <td>2021</td>\n",
              "      <td>28</td>\n",
              "      <td>6</td>\n",
              "    </tr>\n",
              "    <tr>\n",
              "      <th>18243</th>\n",
              "      <td>2021-02-28</td>\n",
              "      <td>20</td>\n",
              "      <td>88</td>\n",
              "      <td>2</td>\n",
              "      <td>2021</td>\n",
              "      <td>28</td>\n",
              "      <td>6</td>\n",
              "    </tr>\n",
              "    <tr>\n",
              "      <th>18244</th>\n",
              "      <td>2021-02-28</td>\n",
              "      <td>21</td>\n",
              "      <td>39</td>\n",
              "      <td>2</td>\n",
              "      <td>2021</td>\n",
              "      <td>28</td>\n",
              "      <td>6</td>\n",
              "    </tr>\n",
              "    <tr>\n",
              "      <th>18245</th>\n",
              "      <td>2021-02-28</td>\n",
              "      <td>22</td>\n",
              "      <td>104</td>\n",
              "      <td>2</td>\n",
              "      <td>2021</td>\n",
              "      <td>28</td>\n",
              "      <td>6</td>\n",
              "    </tr>\n",
              "    <tr>\n",
              "      <th>18246</th>\n",
              "      <td>2021-02-28</td>\n",
              "      <td>23</td>\n",
              "      <td>85</td>\n",
              "      <td>2</td>\n",
              "      <td>2021</td>\n",
              "      <td>28</td>\n",
              "      <td>6</td>\n",
              "    </tr>\n",
              "  </tbody>\n",
              "</table>\n",
              "<p>18247 rows × 7 columns</p>\n",
              "</div>\n",
              "      <button class=\"colab-df-convert\" onclick=\"convertToInteractive('df-dfa66da2-cb3c-4341-a7ff-511f32112420')\"\n",
              "              title=\"Convert this dataframe to an interactive table.\"\n",
              "              style=\"display:none;\">\n",
              "        \n",
              "  <svg xmlns=\"http://www.w3.org/2000/svg\" height=\"24px\"viewBox=\"0 0 24 24\"\n",
              "       width=\"24px\">\n",
              "    <path d=\"M0 0h24v24H0V0z\" fill=\"none\"/>\n",
              "    <path d=\"M18.56 5.44l.94 2.06.94-2.06 2.06-.94-2.06-.94-.94-2.06-.94 2.06-2.06.94zm-11 1L8.5 8.5l.94-2.06 2.06-.94-2.06-.94L8.5 2.5l-.94 2.06-2.06.94zm10 10l.94 2.06.94-2.06 2.06-.94-2.06-.94-.94-2.06-.94 2.06-2.06.94z\"/><path d=\"M17.41 7.96l-1.37-1.37c-.4-.4-.92-.59-1.43-.59-.52 0-1.04.2-1.43.59L10.3 9.45l-7.72 7.72c-.78.78-.78 2.05 0 2.83L4 21.41c.39.39.9.59 1.41.59.51 0 1.02-.2 1.41-.59l7.78-7.78 2.81-2.81c.8-.78.8-2.07 0-2.86zM5.41 20L4 18.59l7.72-7.72 1.47 1.35L5.41 20z\"/>\n",
              "  </svg>\n",
              "      </button>\n",
              "      \n",
              "  <style>\n",
              "    .colab-df-container {\n",
              "      display:flex;\n",
              "      flex-wrap:wrap;\n",
              "      gap: 12px;\n",
              "    }\n",
              "\n",
              "    .colab-df-convert {\n",
              "      background-color: #E8F0FE;\n",
              "      border: none;\n",
              "      border-radius: 50%;\n",
              "      cursor: pointer;\n",
              "      display: none;\n",
              "      fill: #1967D2;\n",
              "      height: 32px;\n",
              "      padding: 0 0 0 0;\n",
              "      width: 32px;\n",
              "    }\n",
              "\n",
              "    .colab-df-convert:hover {\n",
              "      background-color: #E2EBFA;\n",
              "      box-shadow: 0px 1px 2px rgba(60, 64, 67, 0.3), 0px 1px 3px 1px rgba(60, 64, 67, 0.15);\n",
              "      fill: #174EA6;\n",
              "    }\n",
              "\n",
              "    [theme=dark] .colab-df-convert {\n",
              "      background-color: #3B4455;\n",
              "      fill: #D2E3FC;\n",
              "    }\n",
              "\n",
              "    [theme=dark] .colab-df-convert:hover {\n",
              "      background-color: #434B5C;\n",
              "      box-shadow: 0px 1px 3px 1px rgba(0, 0, 0, 0.15);\n",
              "      filter: drop-shadow(0px 1px 2px rgba(0, 0, 0, 0.3));\n",
              "      fill: #FFFFFF;\n",
              "    }\n",
              "  </style>\n",
              "\n",
              "      <script>\n",
              "        const buttonEl =\n",
              "          document.querySelector('#df-dfa66da2-cb3c-4341-a7ff-511f32112420 button.colab-df-convert');\n",
              "        buttonEl.style.display =\n",
              "          google.colab.kernel.accessAllowed ? 'block' : 'none';\n",
              "\n",
              "        async function convertToInteractive(key) {\n",
              "          const element = document.querySelector('#df-dfa66da2-cb3c-4341-a7ff-511f32112420');\n",
              "          const dataTable =\n",
              "            await google.colab.kernel.invokeFunction('convertToInteractive',\n",
              "                                                     [key], {});\n",
              "          if (!dataTable) return;\n",
              "\n",
              "          const docLinkHtml = 'Like what you see? Visit the ' +\n",
              "            '<a target=\"_blank\" href=https://colab.research.google.com/notebooks/data_table.ipynb>data table notebook</a>'\n",
              "            + ' to learn more about interactive tables.';\n",
              "          element.innerHTML = '';\n",
              "          dataTable['output_type'] = 'display_data';\n",
              "          await google.colab.output.renderOutput(dataTable, element);\n",
              "          const docLink = document.createElement('div');\n",
              "          docLink.innerHTML = docLinkHtml;\n",
              "          element.appendChild(docLink);\n",
              "        }\n",
              "      </script>\n",
              "    </div>\n",
              "  </div>\n",
              "  "
            ]
          },
          "metadata": {},
          "execution_count": 14
        }
      ]
    },
    {
      "cell_type": "code",
      "source": [
        "train.tail()"
      ],
      "metadata": {
        "colab": {
          "base_uri": "https://localhost:8080/",
          "height": 206
        },
        "id": "sYKH5gsfaDuq",
        "outputId": "bf302279-bb77-4c58-c684-a5a4d183b668"
      },
      "execution_count": null,
      "outputs": [
        {
          "output_type": "execute_result",
          "data": {
            "text/plain": [
              "             date  hour  demand  month  year  date1  week\n",
              "18242  2021-02-28    19      95      2  2021     28     6\n",
              "18243  2021-02-28    20      88      2  2021     28     6\n",
              "18244  2021-02-28    21      39      2  2021     28     6\n",
              "18245  2021-02-28    22     104      2  2021     28     6\n",
              "18246  2021-02-28    23      85      2  2021     28     6"
            ],
            "text/html": [
              "\n",
              "  <div id=\"df-131188e8-d6d7-4af5-8d4f-2e94a360728d\">\n",
              "    <div class=\"colab-df-container\">\n",
              "      <div>\n",
              "<style scoped>\n",
              "    .dataframe tbody tr th:only-of-type {\n",
              "        vertical-align: middle;\n",
              "    }\n",
              "\n",
              "    .dataframe tbody tr th {\n",
              "        vertical-align: top;\n",
              "    }\n",
              "\n",
              "    .dataframe thead th {\n",
              "        text-align: right;\n",
              "    }\n",
              "</style>\n",
              "<table border=\"1\" class=\"dataframe\">\n",
              "  <thead>\n",
              "    <tr style=\"text-align: right;\">\n",
              "      <th></th>\n",
              "      <th>date</th>\n",
              "      <th>hour</th>\n",
              "      <th>demand</th>\n",
              "      <th>month</th>\n",
              "      <th>year</th>\n",
              "      <th>date1</th>\n",
              "      <th>week</th>\n",
              "    </tr>\n",
              "  </thead>\n",
              "  <tbody>\n",
              "    <tr>\n",
              "      <th>18242</th>\n",
              "      <td>2021-02-28</td>\n",
              "      <td>19</td>\n",
              "      <td>95</td>\n",
              "      <td>2</td>\n",
              "      <td>2021</td>\n",
              "      <td>28</td>\n",
              "      <td>6</td>\n",
              "    </tr>\n",
              "    <tr>\n",
              "      <th>18243</th>\n",
              "      <td>2021-02-28</td>\n",
              "      <td>20</td>\n",
              "      <td>88</td>\n",
              "      <td>2</td>\n",
              "      <td>2021</td>\n",
              "      <td>28</td>\n",
              "      <td>6</td>\n",
              "    </tr>\n",
              "    <tr>\n",
              "      <th>18244</th>\n",
              "      <td>2021-02-28</td>\n",
              "      <td>21</td>\n",
              "      <td>39</td>\n",
              "      <td>2</td>\n",
              "      <td>2021</td>\n",
              "      <td>28</td>\n",
              "      <td>6</td>\n",
              "    </tr>\n",
              "    <tr>\n",
              "      <th>18245</th>\n",
              "      <td>2021-02-28</td>\n",
              "      <td>22</td>\n",
              "      <td>104</td>\n",
              "      <td>2</td>\n",
              "      <td>2021</td>\n",
              "      <td>28</td>\n",
              "      <td>6</td>\n",
              "    </tr>\n",
              "    <tr>\n",
              "      <th>18246</th>\n",
              "      <td>2021-02-28</td>\n",
              "      <td>23</td>\n",
              "      <td>85</td>\n",
              "      <td>2</td>\n",
              "      <td>2021</td>\n",
              "      <td>28</td>\n",
              "      <td>6</td>\n",
              "    </tr>\n",
              "  </tbody>\n",
              "</table>\n",
              "</div>\n",
              "      <button class=\"colab-df-convert\" onclick=\"convertToInteractive('df-131188e8-d6d7-4af5-8d4f-2e94a360728d')\"\n",
              "              title=\"Convert this dataframe to an interactive table.\"\n",
              "              style=\"display:none;\">\n",
              "        \n",
              "  <svg xmlns=\"http://www.w3.org/2000/svg\" height=\"24px\"viewBox=\"0 0 24 24\"\n",
              "       width=\"24px\">\n",
              "    <path d=\"M0 0h24v24H0V0z\" fill=\"none\"/>\n",
              "    <path d=\"M18.56 5.44l.94 2.06.94-2.06 2.06-.94-2.06-.94-.94-2.06-.94 2.06-2.06.94zm-11 1L8.5 8.5l.94-2.06 2.06-.94-2.06-.94L8.5 2.5l-.94 2.06-2.06.94zm10 10l.94 2.06.94-2.06 2.06-.94-2.06-.94-.94-2.06-.94 2.06-2.06.94z\"/><path d=\"M17.41 7.96l-1.37-1.37c-.4-.4-.92-.59-1.43-.59-.52 0-1.04.2-1.43.59L10.3 9.45l-7.72 7.72c-.78.78-.78 2.05 0 2.83L4 21.41c.39.39.9.59 1.41.59.51 0 1.02-.2 1.41-.59l7.78-7.78 2.81-2.81c.8-.78.8-2.07 0-2.86zM5.41 20L4 18.59l7.72-7.72 1.47 1.35L5.41 20z\"/>\n",
              "  </svg>\n",
              "      </button>\n",
              "      \n",
              "  <style>\n",
              "    .colab-df-container {\n",
              "      display:flex;\n",
              "      flex-wrap:wrap;\n",
              "      gap: 12px;\n",
              "    }\n",
              "\n",
              "    .colab-df-convert {\n",
              "      background-color: #E8F0FE;\n",
              "      border: none;\n",
              "      border-radius: 50%;\n",
              "      cursor: pointer;\n",
              "      display: none;\n",
              "      fill: #1967D2;\n",
              "      height: 32px;\n",
              "      padding: 0 0 0 0;\n",
              "      width: 32px;\n",
              "    }\n",
              "\n",
              "    .colab-df-convert:hover {\n",
              "      background-color: #E2EBFA;\n",
              "      box-shadow: 0px 1px 2px rgba(60, 64, 67, 0.3), 0px 1px 3px 1px rgba(60, 64, 67, 0.15);\n",
              "      fill: #174EA6;\n",
              "    }\n",
              "\n",
              "    [theme=dark] .colab-df-convert {\n",
              "      background-color: #3B4455;\n",
              "      fill: #D2E3FC;\n",
              "    }\n",
              "\n",
              "    [theme=dark] .colab-df-convert:hover {\n",
              "      background-color: #434B5C;\n",
              "      box-shadow: 0px 1px 3px 1px rgba(0, 0, 0, 0.15);\n",
              "      filter: drop-shadow(0px 1px 2px rgba(0, 0, 0, 0.3));\n",
              "      fill: #FFFFFF;\n",
              "    }\n",
              "  </style>\n",
              "\n",
              "      <script>\n",
              "        const buttonEl =\n",
              "          document.querySelector('#df-131188e8-d6d7-4af5-8d4f-2e94a360728d button.colab-df-convert');\n",
              "        buttonEl.style.display =\n",
              "          google.colab.kernel.accessAllowed ? 'block' : 'none';\n",
              "\n",
              "        async function convertToInteractive(key) {\n",
              "          const element = document.querySelector('#df-131188e8-d6d7-4af5-8d4f-2e94a360728d');\n",
              "          const dataTable =\n",
              "            await google.colab.kernel.invokeFunction('convertToInteractive',\n",
              "                                                     [key], {});\n",
              "          if (!dataTable) return;\n",
              "\n",
              "          const docLinkHtml = 'Like what you see? Visit the ' +\n",
              "            '<a target=\"_blank\" href=https://colab.research.google.com/notebooks/data_table.ipynb>data table notebook</a>'\n",
              "            + ' to learn more about interactive tables.';\n",
              "          element.innerHTML = '';\n",
              "          dataTable['output_type'] = 'display_data';\n",
              "          await google.colab.output.renderOutput(dataTable, element);\n",
              "          const docLink = document.createElement('div');\n",
              "          docLink.innerHTML = docLinkHtml;\n",
              "          element.appendChild(docLink);\n",
              "        }\n",
              "      </script>\n",
              "    </div>\n",
              "  </div>\n",
              "  "
            ]
          },
          "metadata": {},
          "execution_count": 15
        }
      ]
    },
    {
      "cell_type": "markdown",
      "source": [
        "##EDA"
      ],
      "metadata": {
        "id": "qhNcHbp2uIx9"
      }
    },
    {
      "cell_type": "code",
      "source": [
        "# lets look at monthly trend \n",
        "sns.scatterplot(data=train,x='hour',y='demand')\n",
        "# most demand for vechicle is at 3 pm , \n",
        "# demand for rental vechical will start from 10am-8pm \n"
      ],
      "metadata": {
        "colab": {
          "base_uri": "https://localhost:8080/",
          "height": 296
        },
        "id": "HBS4dUzwODVN",
        "outputId": "6638e95d-6f17-4b60-a278-29068e79a0aa"
      },
      "execution_count": null,
      "outputs": [
        {
          "output_type": "execute_result",
          "data": {
            "text/plain": [
              "<matplotlib.axes._subplots.AxesSubplot at 0x7fdde2e221d0>"
            ]
          },
          "metadata": {},
          "execution_count": 16
        },
        {
          "output_type": "display_data",
          "data": {
            "text/plain": [
              "<Figure size 432x288 with 1 Axes>"
            ],
            "image/png": "[encoded data removed]"
          },
          "metadata": {
            "needs_background": "light"
          }
        }
      ]
    },
    {
      "cell_type": "code",
      "source": [
        "plt.figure(figsize=(30,10))\n",
        "ax = sns.countplot(x=\"demand\", data=train)\n",
        "\n",
        "ax.set_xticklabels(ax.get_xticklabels(), rotation=90, ha=\"right\")\n",
        "plt.tight_layout()\n",
        "plt.show()"
      ],
      "metadata": {
        "colab": {
          "base_uri": "https://localhost:8080/",
          "height": 485
        },
        "id": "f_HZc3nHIbCX",
        "outputId": "49c74d9b-341e-4b3f-8be3-9c08930d040a"
      },
      "execution_count": null,
      "outputs": [
        {
          "output_type": "display_data",
          "data": {
            "text/plain": [
              "<Figure size 2160x720 with 1 Axes>"
            ],
            "image/png": "[encoded data removed]"
          },
          "metadata": {
            "needs_background": "light"
          }
        }
      ]
    },
    {
      "cell_type": "code",
      "source": [
        "train[\"demand\"].skew()"
      ],
      "metadata": {
        "colab": {
          "base_uri": "https://localhost:8080/"
        },
        "id": "xgnvSls8MYYN",
        "outputId": "d286a8e6-777d-44cd-a7ba-f7f8722395b4"
      },
      "execution_count": null,
      "outputs": [
        {
          "output_type": "execute_result",
          "data": {
            "text/plain": [
              "1.1284378365098429"
            ]
          },
          "metadata": {},
          "execution_count": 18
        }
      ]
    },
    {
      "cell_type": "code",
      "source": [
        "sns.countplot(data=train,x=\"month\")\n",
        "# More demand for rental cars in months of january,feburary,October,and November.\n",
        "# least demand in July month "
      ],
      "metadata": {
        "colab": {
          "base_uri": "https://localhost:8080/",
          "height": 296
        },
        "id": "lCnIIoP8Ulq1",
        "outputId": "e53be526-77b6-4624-b81a-45428bef3032"
      },
      "execution_count": null,
      "outputs": [
        {
          "output_type": "execute_result",
          "data": {
            "text/plain": [
              "<matplotlib.axes._subplots.AxesSubplot at 0x7fdddf8f9a10>"
            ]
          },
          "metadata": {},
          "execution_count": 19
        },
        {
          "output_type": "display_data",
          "data": {
            "text/plain": [
              "<Figure size 432x288 with 1 Axes>"
            ],
            "image/png": "[encoded data removed]"
          },
          "metadata": {
            "needs_background": "light"
          }
        }
      ]
    },
    {
      "cell_type": "code",
      "source": [
        "sns.countplot(data=train,x=\"year\")\n",
        "#More demand has shot up in 2019 and 2020."
      ],
      "metadata": {
        "colab": {
          "base_uri": "https://localhost:8080/",
          "height": 296
        },
        "id": "Cj10mzirSGnl",
        "outputId": "5a699718-e8af-4de2-a49f-454b66f96182"
      },
      "execution_count": null,
      "outputs": [
        {
          "output_type": "execute_result",
          "data": {
            "text/plain": [
              "<matplotlib.axes._subplots.AxesSubplot at 0x7fdddf878750>"
            ]
          },
          "metadata": {},
          "execution_count": 20
        },
        {
          "output_type": "display_data",
          "data": {
            "text/plain": [
              "<Figure size 432x288 with 1 Axes>"
            ],
            "image/png": "[encoded data removed]"
          },
          "metadata": {
            "needs_background": "light"
          }
        }
      ]
    },
    {
      "cell_type": "code",
      "source": [
        "plt.hist(train[\"hour\"],bins=[0,4,8,12,16,20,24])\n",
        "plt.xlabel(\"Hours\")\n",
        "plt.ylabel(\"count\")\n",
        "plt.title(\"Frequency of demand in hours\")\n",
        "# more demand for car is starting at 10 am to night 8pm "
      ],
      "metadata": {
        "colab": {
          "base_uri": "https://localhost:8080/",
          "height": 312
        },
        "id": "hqry5tP4uWxB",
        "outputId": "8da27529-2b98-4acd-fdcf-e6d12dfc980b"
      },
      "execution_count": null,
      "outputs": [
        {
          "output_type": "execute_result",
          "data": {
            "text/plain": [
              "Text(0.5, 1.0, 'Frequency of demand in hours')"
            ]
          },
          "metadata": {},
          "execution_count": 21
        },
        {
          "output_type": "display_data",
          "data": {
            "text/plain": [
              "<Figure size 432x288 with 1 Axes>"
            ],
            "image/png": "[encoded data removed]"
          },
          "metadata": {
            "needs_background": "light"
          }
        }
      ]
    },
    {
      "cell_type": "code",
      "source": [
        "train[\"week\"].value_counts()"
      ],
      "metadata": {
        "colab": {
          "base_uri": "https://localhost:8080/"
        },
        "id": "jj9nMQbywe1C",
        "outputId": "6fba228b-1079-4ecd-ed1f-a6fa54575c14"
      },
      "execution_count": null,
      "outputs": [
        {
          "output_type": "execute_result",
          "data": {
            "text/plain": [
              "4    2671\n",
              "5    2657\n",
              "6    2649\n",
              "0    2589\n",
              "2    2565\n",
              "1    2564\n",
              "3    2552\n",
              "Name: week, dtype: int64"
            ]
          },
          "metadata": {},
          "execution_count": 22
        }
      ]
    },
    {
      "cell_type": "code",
      "source": [
        "sns.countplot(data=train,x=\"week\")\n",
        "#from monday to tuesday demand is almost same but on friday demand is more compared to rest of other days followed by thursday.\n",
        "#day of the week with Monday=0, Sunday=6."
      ],
      "metadata": {
        "colab": {
          "base_uri": "https://localhost:8080/",
          "height": 296
        },
        "id": "1n8VxKcevStd",
        "outputId": "e6ad4643-8e54-4f77-fe0f-8137a4986daa"
      },
      "execution_count": null,
      "outputs": [
        {
          "output_type": "execute_result",
          "data": {
            "text/plain": [
              "<matplotlib.axes._subplots.AxesSubplot at 0x7fdddf8d8a90>"
            ]
          },
          "metadata": {},
          "execution_count": 23
        },
        {
          "output_type": "display_data",
          "data": {
            "text/plain": [
              "<Figure size 432x288 with 1 Axes>"
            ],
            "image/png": "[encoded data removed]"
          },
          "metadata": {
            "needs_background": "light"
          }
        }
      ]
    },
    {
      "cell_type": "code",
      "source": [
        "plt.figure(figsize=(8,8))\n",
        "plt.plot(train[\"month\"],train[\"demand\"])\n",
        "plt.xlabel(\"Year\")\n",
        "plt.ylabel(\"Demand year wise\")\n",
        "\n",
        "plt.show()\n",
        "# looking at data in time series : data looks stationary "
      ],
      "metadata": {
        "colab": {
          "base_uri": "https://localhost:8080/",
          "height": 497
        },
        "id": "4mDXot-xXcTP",
        "outputId": "2309f6ec-5438-4bea-9f26-ce1a6a27dfb0"
      },
      "execution_count": null,
      "outputs": [
        {
          "output_type": "display_data",
          "data": {
            "text/plain": [
              "<Figure size 576x576 with 1 Axes>"
            ],
            "image/png": "[encoded data removed]"
          },
          "metadata": {
            "needs_background": "light"
          }
        }
      ]
    },
    {
      "cell_type": "markdown",
      "source": [
        "#Summary\n",
        "A.**observations**\n",
        "    \n",
        "\n",
        "1.   More demand for rental cars in months of january,feburary,October,and November.Least in july.\n",
        "2.  More demand for car is starting at 10 am to night 8pm. And minimum at 12 am \n",
        "3. From monday to tuesday demand is almost same but on friday demand is more compared to rest of other days followed by thursday.\n",
        "4.  More demand has shot up in 2019 and 2020.\n",
        "\n",
        "B.**Wayforwards**\n",
        "\n",
        "\n",
        "1.  Introducte new offer like 5-10% off per 1km in the month of july to increase revenue.\n",
        "2.   Need to allocate more cars in the months of January ,feburary ,october to match with the supply.And also increase the Car collecting points areas.\n",
        "3. Add some attractive offers on thurdays since its demand ranked at 2nd ,it can have potential to attract new customers and add more revenue to company.\n",
        "\n",
        "\n",
        "\n",
        "\n",
        "\n",
        "\n",
        "\n",
        "\n",
        "\n",
        "\n"
      ],
      "metadata": {
        "id": "Ze3rJsetyECl"
      }
    },
    {
      "cell_type": "code",
      "source": [
        "train.info()"
      ],
      "metadata": {
        "colab": {
          "base_uri": "https://localhost:8080/"
        },
        "id": "4fuj_AezT7gt",
        "outputId": "7040f921-5585-4514-f4b6-465042d3a488"
      },
      "execution_count": null,
      "outputs": [
        {
          "output_type": "stream",
          "name": "stdout",
          "text": [
            "<class 'pandas.core.frame.DataFrame'>\n",
            "RangeIndex: 18247 entries, 0 to 18246\n",
            "Data columns (total 7 columns):\n",
            " #   Column  Non-Null Count  Dtype \n",
            "---  ------  --------------  ----- \n",
            " 0   date    18247 non-null  object\n",
            " 1   hour    18247 non-null  int64 \n",
            " 2   demand  18247 non-null  int64 \n",
            " 3   month   18247 non-null  int64 \n",
            " 4   year    18247 non-null  int64 \n",
            " 5   date1   18247 non-null  int64 \n",
            " 6   week    18247 non-null  int64 \n",
            "dtypes: int64(6), object(1)\n",
            "memory usage: 998.0+ KB\n"
          ]
        }
      ]
    },
    {
      "cell_type": "code",
      "source": [
        "train1=train.drop([\"date\"],axis=1)"
      ],
      "metadata": {
        "id": "6facVFIng7er"
      },
      "execution_count": null,
      "outputs": []
    },
    {
      "cell_type": "code",
      "source": [
        "train1.head()"
      ],
      "metadata": {
        "colab": {
          "base_uri": "https://localhost:8080/",
          "height": 206
        },
        "id": "_2iJosFy1I-4",
        "outputId": "a2f996c9-83b7-45c2-fa8a-8fb5510a0e77"
      },
      "execution_count": null,
      "outputs": [
        {
          "output_type": "execute_result",
          "data": {
            "text/plain": [
              "   hour  demand  month  year  date1  week\n",
              "0     9      91      8  2018     18     5\n",
              "1    10      21      8  2018     18     5\n",
              "2    13      23      8  2018     18     5\n",
              "3    14     104      8  2018     18     5\n",
              "4    15      81      8  2018     18     5"
            ],
            "text/html": [
              "\n",
              "  <div id=\"df-cfb115a9-ed4b-4ba6-883e-1fac6bc00d0d\">\n",
              "    <div class=\"colab-df-container\">\n",
              "      <div>\n",
              "<style scoped>\n",
              "    .dataframe tbody tr th:only-of-type {\n",
              "        vertical-align: middle;\n",
              "    }\n",
              "\n",
              "    .dataframe tbody tr th {\n",
              "        vertical-align: top;\n",
              "    }\n",
              "\n",
              "    .dataframe thead th {\n",
              "        text-align: right;\n",
              "    }\n",
              "</style>\n",
              "<table border=\"1\" class=\"dataframe\">\n",
              "  <thead>\n",
              "    <tr style=\"text-align: right;\">\n",
              "      <th></th>\n",
              "      <th>hour</th>\n",
              "      <th>demand</th>\n",
              "      <th>month</th>\n",
              "      <th>year</th>\n",
              "      <th>date1</th>\n",
              "      <th>week</th>\n",
              "    </tr>\n",
              "  </thead>\n",
              "  <tbody>\n",
              "    <tr>\n",
              "      <th>0</th>\n",
              "      <td>9</td>\n",
              "      <td>91</td>\n",
              "      <td>8</td>\n",
              "      <td>2018</td>\n",
              "      <td>18</td>\n",
              "      <td>5</td>\n",
              "    </tr>\n",
              "    <tr>\n",
              "      <th>1</th>\n",
              "      <td>10</td>\n",
              "      <td>21</td>\n",
              "      <td>8</td>\n",
              "      <td>2018</td>\n",
              "      <td>18</td>\n",
              "      <td>5</td>\n",
              "    </tr>\n",
              "    <tr>\n",
              "      <th>2</th>\n",
              "      <td>13</td>\n",
              "      <td>23</td>\n",
              "      <td>8</td>\n",
              "      <td>2018</td>\n",
              "      <td>18</td>\n",
              "      <td>5</td>\n",
              "    </tr>\n",
              "    <tr>\n",
              "      <th>3</th>\n",
              "      <td>14</td>\n",
              "      <td>104</td>\n",
              "      <td>8</td>\n",
              "      <td>2018</td>\n",
              "      <td>18</td>\n",
              "      <td>5</td>\n",
              "    </tr>\n",
              "    <tr>\n",
              "      <th>4</th>\n",
              "      <td>15</td>\n",
              "      <td>81</td>\n",
              "      <td>8</td>\n",
              "      <td>2018</td>\n",
              "      <td>18</td>\n",
              "      <td>5</td>\n",
              "    </tr>\n",
              "  </tbody>\n",
              "</table>\n",
              "</div>\n",
              "      <button class=\"colab-df-convert\" onclick=\"convertToInteractive('df-cfb115a9-ed4b-4ba6-883e-1fac6bc00d0d')\"\n",
              "              title=\"Convert this dataframe to an interactive table.\"\n",
              "              style=\"display:none;\">\n",
              "        \n",
              "  <svg xmlns=\"http://www.w3.org/2000/svg\" height=\"24px\"viewBox=\"0 0 24 24\"\n",
              "       width=\"24px\">\n",
              "    <path d=\"M0 0h24v24H0V0z\" fill=\"none\"/>\n",
              "    <path d=\"M18.56 5.44l.94 2.06.94-2.06 2.06-.94-2.06-.94-.94-2.06-.94 2.06-2.06.94zm-11 1L8.5 8.5l.94-2.06 2.06-.94-2.06-.94L8.5 2.5l-.94 2.06-2.06.94zm10 10l.94 2.06.94-2.06 2.06-.94-2.06-.94-.94-2.06-.94 2.06-2.06.94z\"/><path d=\"M17.41 7.96l-1.37-1.37c-.4-.4-.92-.59-1.43-.59-.52 0-1.04.2-1.43.59L10.3 9.45l-7.72 7.72c-.78.78-.78 2.05 0 2.83L4 21.41c.39.39.9.59 1.41.59.51 0 1.02-.2 1.41-.59l7.78-7.78 2.81-2.81c.8-.78.8-2.07 0-2.86zM5.41 20L4 18.59l7.72-7.72 1.47 1.35L5.41 20z\"/>\n",
              "  </svg>\n",
              "      </button>\n",
              "      \n",
              "  <style>\n",
              "    .colab-df-container {\n",
              "      display:flex;\n",
              "      flex-wrap:wrap;\n",
              "      gap: 12px;\n",
              "    }\n",
              "\n",
              "    .colab-df-convert {\n",
              "      background-color: #E8F0FE;\n",
              "      border: none;\n",
              "      border-radius: 50%;\n",
              "      cursor: pointer;\n",
              "      display: none;\n",
              "      fill: #1967D2;\n",
              "      height: 32px;\n",
              "      padding: 0 0 0 0;\n",
              "      width: 32px;\n",
              "    }\n",
              "\n",
              "    .colab-df-convert:hover {\n",
              "      background-color: #E2EBFA;\n",
              "      box-shadow: 0px 1px 2px rgba(60, 64, 67, 0.3), 0px 1px 3px 1px rgba(60, 64, 67, 0.15);\n",
              "      fill: #174EA6;\n",
              "    }\n",
              "\n",
              "    [theme=dark] .colab-df-convert {\n",
              "      background-color: #3B4455;\n",
              "      fill: #D2E3FC;\n",
              "    }\n",
              "\n",
              "    [theme=dark] .colab-df-convert:hover {\n",
              "      background-color: #434B5C;\n",
              "      box-shadow: 0px 1px 3px 1px rgba(0, 0, 0, 0.15);\n",
              "      filter: drop-shadow(0px 1px 2px rgba(0, 0, 0, 0.3));\n",
              "      fill: #FFFFFF;\n",
              "    }\n",
              "  </style>\n",
              "\n",
              "      <script>\n",
              "        const buttonEl =\n",
              "          document.querySelector('#df-cfb115a9-ed4b-4ba6-883e-1fac6bc00d0d button.colab-df-convert');\n",
              "        buttonEl.style.display =\n",
              "          google.colab.kernel.accessAllowed ? 'block' : 'none';\n",
              "\n",
              "        async function convertToInteractive(key) {\n",
              "          const element = document.querySelector('#df-cfb115a9-ed4b-4ba6-883e-1fac6bc00d0d');\n",
              "          const dataTable =\n",
              "            await google.colab.kernel.invokeFunction('convertToInteractive',\n",
              "                                                     [key], {});\n",
              "          if (!dataTable) return;\n",
              "\n",
              "          const docLinkHtml = 'Like what you see? Visit the ' +\n",
              "            '<a target=\"_blank\" href=https://colab.research.google.com/notebooks/data_table.ipynb>data table notebook</a>'\n",
              "            + ' to learn more about interactive tables.';\n",
              "          element.innerHTML = '';\n",
              "          dataTable['output_type'] = 'display_data';\n",
              "          await google.colab.output.renderOutput(dataTable, element);\n",
              "          const docLink = document.createElement('div');\n",
              "          docLink.innerHTML = docLinkHtml;\n",
              "          element.appendChild(docLink);\n",
              "        }\n",
              "      </script>\n",
              "    </div>\n",
              "  </div>\n",
              "  "
            ]
          },
          "metadata": {},
          "execution_count": 27
        }
      ]
    },
    {
      "cell_type": "code",
      "source": [
        "train1.shape"
      ],
      "metadata": {
        "colab": {
          "base_uri": "https://localhost:8080/"
        },
        "id": "cDKR1vXkhir2",
        "outputId": "9a86a591-5021-4d2e-a935-c11c88b13d42"
      },
      "execution_count": null,
      "outputs": [
        {
          "output_type": "execute_result",
          "data": {
            "text/plain": [
              "(18247, 6)"
            ]
          },
          "metadata": {},
          "execution_count": 28
        }
      ]
    },
    {
      "cell_type": "code",
      "source": [
        "sns.heatmap(train1.corr(),annot=True)\n",
        "plt.title(\"Correlation Heatmap\",size=15)\n",
        "plt.show()"
      ],
      "metadata": {
        "colab": {
          "base_uri": "https://localhost:8080/",
          "height": 283
        },
        "id": "9bGSIaYghmO3",
        "outputId": "fd79debe-1af8-4c6a-d718-60fd95bdc882"
      },
      "execution_count": null,
      "outputs": [
        {
          "output_type": "display_data",
          "data": {
            "text/plain": [
              "<Figure size 432x288 with 2 Axes>"
            ],
            "image/png": "[encoded data removed]"
          },
          "metadata": {
            "needs_background": "light"
          }
        }
      ]
    },
    {
      "cell_type": "code",
      "source": [
        "# co-releation with respective to demand is more for: hour >year >month."
      ],
      "metadata": {
        "id": "Uuv_dvWdh8uy"
      },
      "execution_count": null,
      "outputs": []
    },
    {
      "cell_type": "markdown",
      "source": [
        "##Splitting data into train and test in a chronological order"
      ],
      "metadata": {
        "id": "oXGm-e6AOLH7"
      }
    },
    {
      "cell_type": "code",
      "source": [
        "x=train1.drop([\"demand\"],axis=1)\n",
        "y=train1[\"demand\"]"
      ],
      "metadata": {
        "id": "wbwYqOmimnFG"
      },
      "execution_count": null,
      "outputs": []
    },
    {
      "cell_type": "code",
      "source": [
        "x.shape"
      ],
      "metadata": {
        "colab": {
          "base_uri": "https://localhost:8080/"
        },
        "id": "fTLarxHKm2Jl",
        "outputId": "2808b325-7ff4-4542-e43a-608f130a281c"
      },
      "execution_count": null,
      "outputs": [
        {
          "output_type": "execute_result",
          "data": {
            "text/plain": [
              "(18247, 5)"
            ]
          },
          "metadata": {},
          "execution_count": 32
        }
      ]
    },
    {
      "cell_type": "code",
      "source": [
        "y.shape"
      ],
      "metadata": {
        "colab": {
          "base_uri": "https://localhost:8080/"
        },
        "id": "Q6qd1DmKm57p",
        "outputId": "b42a3de1-e5a6-436a-e730-85725432d4d7"
      },
      "execution_count": null,
      "outputs": [
        {
          "output_type": "execute_result",
          "data": {
            "text/plain": [
              "(18247,)"
            ]
          },
          "metadata": {},
          "execution_count": 33
        }
      ]
    },
    {
      "cell_type": "code",
      "source": [
        "x.shape"
      ],
      "metadata": {
        "colab": {
          "base_uri": "https://localhost:8080/"
        },
        "id": "fBqyBg0743--",
        "outputId": "98a122b5-57ea-4472-909b-15c343181b77"
      },
      "execution_count": null,
      "outputs": [
        {
          "output_type": "execute_result",
          "data": {
            "text/plain": [
              "(18247, 5)"
            ]
          },
          "metadata": {},
          "execution_count": 34
        }
      ]
    },
    {
      "cell_type": "code",
      "source": [
        "18247-3650"
      ],
      "metadata": {
        "colab": {
          "base_uri": "https://localhost:8080/"
        },
        "id": "7jbC3JXP4-2v",
        "outputId": "853f218e-4fca-4eec-f686-593dd04589e6"
      },
      "execution_count": null,
      "outputs": [
        {
          "output_type": "execute_result",
          "data": {
            "text/plain": [
              "14597"
            ]
          },
          "metadata": {},
          "execution_count": 35
        }
      ]
    },
    {
      "cell_type": "code",
      "source": [
        "x_train ,x_valid =x[:14597],x[14597:]"
      ],
      "metadata": {
        "id": "mQkGlAM15_Cq"
      },
      "execution_count": null,
      "outputs": []
    },
    {
      "cell_type": "code",
      "source": [
        "y_train,y_valid=y[:14597],y[14597:]"
      ],
      "metadata": {
        "id": "ns4ZqhIq6E6E"
      },
      "execution_count": null,
      "outputs": []
    },
    {
      "cell_type": "code",
      "source": [
        "x_train.shape , y_train.shape\n"
      ],
      "metadata": {
        "colab": {
          "base_uri": "https://localhost:8080/"
        },
        "id": "NA5ltuhmnIPx",
        "outputId": "44634701-7a8b-44ef-dab6-c648004dc862"
      },
      "execution_count": null,
      "outputs": [
        {
          "output_type": "execute_result",
          "data": {
            "text/plain": [
              "((14597, 5), (14597,))"
            ]
          },
          "metadata": {},
          "execution_count": 38
        }
      ]
    },
    {
      "cell_type": "code",
      "source": [
        "x_valid.shape , y_valid.shape"
      ],
      "metadata": {
        "colab": {
          "base_uri": "https://localhost:8080/"
        },
        "id": "eyyNFAUWnN6i",
        "outputId": "224e4a99-94cf-4763-b84b-7522faed52c4"
      },
      "execution_count": null,
      "outputs": [
        {
          "output_type": "execute_result",
          "data": {
            "text/plain": [
              "((3650, 5), (3650,))"
            ]
          },
          "metadata": {},
          "execution_count": 39
        }
      ]
    },
    {
      "cell_type": "code",
      "source": [
        ""
      ],
      "metadata": {
        "id": "qJeskX1foDfj"
      },
      "execution_count": null,
      "outputs": []
    },
    {
      "cell_type": "code",
      "source": [
        "# standardization of data \n",
        "from sklearn.preprocessing import StandardScaler\n",
        "scaler = StandardScaler().fit(x_train)\n",
        "\n",
        "\n",
        "x_train = scaler.transform(x_train)\n",
        "x_valid=scaler.transform(x_valid)"
      ],
      "metadata": {
        "id": "FiHrT4jXRuzU"
      },
      "execution_count": null,
      "outputs": []
    },
    {
      "cell_type": "code",
      "source": [
        "x_train.shape,x_valid.shape"
      ],
      "metadata": {
        "colab": {
          "base_uri": "https://localhost:8080/"
        },
        "id": "2AxNSEchSiDc",
        "outputId": "6b72726b-c47d-4fc9-dcc5-f45b8c525600"
      },
      "execution_count": null,
      "outputs": [
        {
          "output_type": "execute_result",
          "data": {
            "text/plain": [
              "((14597, 5), (3650, 5))"
            ]
          },
          "metadata": {},
          "execution_count": 41
        }
      ]
    },
    {
      "cell_type": "markdown",
      "source": [
        "###Machine learning models testing "
      ],
      "metadata": {
        "id": "bPLp5QLAOiLC"
      }
    },
    {
      "cell_type": "code",
      "source": [
        "#loading machine learning modules \n",
        "from sklearn.linear_model import LinearRegression\n",
        "from sklearn.tree import DecisionTreeRegressor\n",
        "from sklearn.neighbors import KNeighborsRegressor\n",
        "from sklearn.svm import SVR\n",
        "from sklearn.ensemble import RandomForestRegressor\n",
        "from sklearn.model_selection import train_test_split\n",
        "from sklearn.metrics import r2_score,mean_absolute_error,mean_squared_error\n",
        "from math import sqrt"
      ],
      "metadata": {
        "id": "is-8bHMVphcw"
      },
      "execution_count": null,
      "outputs": []
    },
    {
      "cell_type": "code",
      "source": [
        "from math import sqrt\n"
      ],
      "metadata": {
        "id": "IE36I9vbocUZ"
      },
      "execution_count": null,
      "outputs": []
    },
    {
      "cell_type": "code",
      "source": [
        "# we will check for which model is better with rmse score .\n",
        "svr= SVR()\n",
        "lr = LinearRegression()\n",
        "knn = KNeighborsRegressor()\n",
        "dt=DecisionTreeRegressor()\n",
        "rf=RandomForestRegressor()"
      ],
      "metadata": {
        "id": "cuOAH_5EoqsR"
      },
      "execution_count": null,
      "outputs": []
    },
    {
      "cell_type": "code",
      "source": [
        "from math import sqrt\n",
        "  "
      ],
      "metadata": {
        "id": "WSQRsXrDr-so"
      },
      "execution_count": null,
      "outputs": []
    },
    {
      "cell_type": "code",
      "source": [
        "for i in [rf,svr, lr ,knn, dt]:\n",
        "  i.fit(x_train, y_train)\n",
        "  pred = i.predict(x_valid)\n",
        "  testscore = sqrt(mean_squared_error(y_valid,pred))\n",
        "  trainscore= sqrt(mean_squared_error(y_train,i.predict(x_train)))\n",
        "  if abs(trainscore - testscore) <= 8:\n",
        "    print(\"*\"*50)\n",
        "    print(i)\n",
        "    print('root mean square error',sqrt(mean_squared_error(y_valid,pred)))\n",
        "    print('r 2 score',r2_score(y_valid,pred))\n",
        "    print(' train error with rmse score: ',sqrt(mean_squared_error(y_train,i.predict(x_train))))\n",
        "    print('r2 for train data',r2_score(y_train,i.predict(x_train)))\n",
        "    print('*'*50)\n",
        "  else:\n",
        "    print(\"error is large\")"
      ],
      "metadata": {
        "colab": {
          "base_uri": "https://localhost:8080/"
        },
        "id": "tdGwqRAdpluh",
        "outputId": "c53e0d4f-0195-4b44-e68f-46ea274b5fa4"
      },
      "execution_count": null,
      "outputs": [
        {
          "output_type": "stream",
          "name": "stdout",
          "text": [
            "error is large\n",
            "**************************************************\n",
            "SVR()\n",
            "root mean square error 42.999367292676695\n",
            "r 2 score 0.08926224855736875\n",
            " train error with rmse score:  37.51402735469824\n",
            "r2 for train data 0.14974281825517444\n",
            "**************************************************\n",
            "**************************************************\n",
            "LinearRegression()\n",
            "root mean square error 43.824465046405265\n",
            "r 2 score 0.0539753438444881\n",
            " train error with rmse score:  39.63079434417014\n",
            "r2 for train data 0.05108244340718704\n",
            "**************************************************\n",
            "error is large\n",
            "error is large\n"
          ]
        }
      ]
    },
    {
      "cell_type": "markdown",
      "source": [
        "##XGBBOOST"
      ],
      "metadata": {
        "id": "ObJ7gXwX3_5W"
      }
    },
    {
      "cell_type": "code",
      "source": [
        "#loading XGBboost\n",
        "from xgboost import XGBRegressor"
      ],
      "metadata": {
        "id": "Ta2ZbXzjdpon"
      },
      "execution_count": null,
      "outputs": []
    },
    {
      "cell_type": "code",
      "source": [
        "#assigning XBGboost \n",
        "xg_reg= XGBRegressor() "
      ],
      "metadata": {
        "id": "ldDtfGnDd0te"
      },
      "execution_count": null,
      "outputs": []
    },
    {
      "cell_type": "code",
      "source": [
        "#fitting train data to xg\n",
        "xg_reg.fit(x_train,y_train)"
      ],
      "metadata": {
        "colab": {
          "base_uri": "https://localhost:8080/"
        },
        "id": "xxrP5-sqeVQJ",
        "outputId": "da0f4055-1b45-4fc4-a9ad-2b6f9319154c"
      },
      "execution_count": null,
      "outputs": [
        {
          "output_type": "stream",
          "name": "stdout",
          "text": [
            "[08:06:29] WARNING: /workspace/src/objective/regression_obj.cu:152: reg:linear is now deprecated in favor of reg:squarederror.\n"
          ]
        },
        {
          "output_type": "execute_result",
          "data": {
            "text/plain": [
              "XGBRegressor()"
            ]
          },
          "metadata": {},
          "execution_count": 49
        }
      ]
    },
    {
      "cell_type": "code",
      "source": [
        "#predicting it on x_valid to know xg rmse score later we will hyper tune it\n",
        "y_pred_xg=xg_reg.predict(x_valid)"
      ],
      "metadata": {
        "id": "ecWjJF0Wec3_"
      },
      "execution_count": null,
      "outputs": []
    },
    {
      "cell_type": "code",
      "source": [
        "print('root mean square error',sqrt(mean_squared_error(y_pred_xg,y_valid)))"
      ],
      "metadata": {
        "colab": {
          "base_uri": "https://localhost:8080/"
        },
        "id": "h3jA0sE1e2yN",
        "outputId": "14a3c103-8bc9-46b9-dff6-777f84ae42c1"
      },
      "execution_count": null,
      "outputs": [
        {
          "output_type": "stream",
          "name": "stdout",
          "text": [
            "root mean square error 37.587497001282905\n"
          ]
        }
      ]
    },
    {
      "cell_type": "code",
      "source": [
        "#checking for cross validation score\n",
        "from sklearn.model_selection import cross_val_score"
      ],
      "metadata": {
        "id": "IaRlfPnZfnAW"
      },
      "execution_count": null,
      "outputs": []
    },
    {
      "cell_type": "code",
      "source": [
        "#assigngnin objective with squared error .\n",
        "model =XGBRegressor(objective=\"reg:squarederror\")"
      ],
      "metadata": {
        "id": "JA6a0UzffxKK"
      },
      "execution_count": null,
      "outputs": []
    },
    {
      "cell_type": "code",
      "source": [
        "scores_xg=cross_val_score(model,x_train,y_train,scoring=\"neg_mean_squared_error\",cv=8)"
      ],
      "metadata": {
        "id": "57Q8ZmOYgqH9"
      },
      "execution_count": null,
      "outputs": []
    },
    {
      "cell_type": "code",
      "source": [
        "scores_xg"
      ],
      "metadata": {
        "colab": {
          "base_uri": "https://localhost:8080/"
        },
        "id": "omKDLi_yhhuy",
        "outputId": "2d094f64-d9e5-413b-cbf9-81b910f84d33"
      },
      "execution_count": null,
      "outputs": [
        {
          "output_type": "execute_result",
          "data": {
            "text/plain": [
              "array([-1628.28451198, -1033.31008462, -1018.817202  , -1317.09366012,\n",
              "       -2044.83047545, -1144.01545606,  -985.43660273, -1291.78615592])"
            ]
          },
          "metadata": {},
          "execution_count": 55
        }
      ]
    },
    {
      "cell_type": "code",
      "source": [
        "rmse=np.sqrt(-scores_xg) # RMSE  error."
      ],
      "metadata": {
        "id": "lkd38vCVhn-h"
      },
      "execution_count": null,
      "outputs": []
    },
    {
      "cell_type": "code",
      "source": [
        "rmse"
      ],
      "metadata": {
        "colab": {
          "base_uri": "https://localhost:8080/"
        },
        "id": "RAWk1W3ghuYK",
        "outputId": "3d28df5f-ae16-4578-96be-9c8b192774e6"
      },
      "execution_count": null,
      "outputs": [
        {
          "output_type": "execute_result",
          "data": {
            "text/plain": [
              "array([40.35200753, 32.14514092, 31.91891605, 36.29178502, 45.21980181,\n",
              "       33.82329753, 31.39166454, 35.94142674])"
            ]
          },
          "metadata": {},
          "execution_count": 57
        }
      ]
    },
    {
      "cell_type": "markdown",
      "source": [
        "## Machine learning models selection:\n",
        "\n",
        "<p>Based on RMSE score we are able to come down to this models.<p>\n",
        "1.   Linear regression \n",
        "2.   XGBBOOSt\n",
        "\n"
      ],
      "metadata": {
        "id": "XJUrxTbz3Vdp"
      }
    },
    {
      "cell_type": "markdown",
      "source": [
        "###Hyper parametertunning XGBboost"
      ],
      "metadata": {
        "id": "HzEhPRyujb0d"
      }
    },
    {
      "cell_type": "code",
      "source": [
        "xg_reg= XGBRegressor()"
      ],
      "metadata": {
        "id": "0LPdHk3fh3Mi"
      },
      "execution_count": null,
      "outputs": []
    },
    {
      "cell_type": "code",
      "source": [
        "# hyper tuning maxdepth and minchild weight\n",
        "max_depth=[3,5,7,10]\n",
        "min_child_weight=[1,2,6,100]\n",
        "\n",
        "for i in max_depth:\n",
        "  for j in min_child_weight:\n",
        "    model_xg=XGBRegressor( learning_rate =0.1, n_estimators=140, max_depth=i, min_child_weight=j, gamma=0, subsample=0.8, colsample_bytree=0.8,\n",
        "             objective=\"reg:squarederror\", nthread=4, scale_pos_weight=1, seed=27)\n",
        "    model.fit(x_train,y_train)\n",
        "    y_pred_xg=model.predict(x_valid)\n",
        "    print(\"maxdepth\",i)\n",
        "    print(\"minchildweight\",j)\n",
        "    print(\"Root mean square error for i is:\",sqrt(mean_squared_error(y_pred_xg,y_valid)))\n",
        "\n",
        "\n",
        "# RMSE value is same for all the values given,"
      ],
      "metadata": {
        "colab": {
          "base_uri": "https://localhost:8080/"
        },
        "id": "R5IGW5XNkJsZ",
        "outputId": "4a05fbdb-a0b3-44ce-9d55-06fb23e0922f"
      },
      "execution_count": null,
      "outputs": [
        {
          "output_type": "stream",
          "name": "stdout",
          "text": [
            "maxdepth 3\n",
            "minchildweight 1\n",
            "Root mean square error for i is: 37.587497001282905\n",
            "maxdepth 3\n",
            "minchildweight 2\n",
            "Root mean square error for i is: 37.587497001282905\n",
            "maxdepth 3\n",
            "minchildweight 6\n",
            "Root mean square error for i is: 37.587497001282905\n",
            "maxdepth 3\n",
            "minchildweight 100\n",
            "Root mean square error for i is: 37.587497001282905\n",
            "maxdepth 5\n",
            "minchildweight 1\n",
            "Root mean square error for i is: 37.587497001282905\n",
            "maxdepth 5\n",
            "minchildweight 2\n",
            "Root mean square error for i is: 37.587497001282905\n",
            "maxdepth 5\n",
            "minchildweight 6\n",
            "Root mean square error for i is: 37.587497001282905\n",
            "maxdepth 5\n",
            "minchildweight 100\n",
            "Root mean square error for i is: 37.587497001282905\n",
            "maxdepth 7\n",
            "minchildweight 1\n",
            "Root mean square error for i is: 37.587497001282905\n",
            "maxdepth 7\n",
            "minchildweight 2\n",
            "Root mean square error for i is: 37.587497001282905\n",
            "maxdepth 7\n",
            "minchildweight 6\n",
            "Root mean square error for i is: 37.587497001282905\n",
            "maxdepth 7\n",
            "minchildweight 100\n",
            "Root mean square error for i is: 37.587497001282905\n",
            "maxdepth 10\n",
            "minchildweight 1\n",
            "Root mean square error for i is: 37.587497001282905\n",
            "maxdepth 10\n",
            "minchildweight 2\n",
            "Root mean square error for i is: 37.587497001282905\n",
            "maxdepth 10\n",
            "minchildweight 6\n",
            "Root mean square error for i is: 37.587497001282905\n",
            "maxdepth 10\n",
            "minchildweight 100\n",
            "Root mean square error for i is: 37.587497001282905\n"
          ]
        }
      ]
    },
    {
      "cell_type": "code",
      "source": [
        " # assigned with out previous hyper parameters \n",
        "\n",
        "model_xg=XGBRegressor( learning_rate =0.1, n_estimators=140, max_depth=3, min_child_weight=2, gamma=0, subsample=0.8, colsample_bytree=0.8,\n",
        "             objective=\"reg:squarederror\", nthread=4, scale_pos_weight=1, seed=27)"
      ],
      "metadata": {
        "id": "t7etWI3Sj7iS"
      },
      "execution_count": null,
      "outputs": []
    },
    {
      "cell_type": "code",
      "source": [
        "# predicting it on x_valid data \n",
        "\n",
        "y_pred_xg=model.predict(x_valid)\n",
        "print(\"Root mean square error for i is:\",sqrt(mean_squared_error(y_pred_xg,y_valid)))"
      ],
      "metadata": {
        "colab": {
          "base_uri": "https://localhost:8080/"
        },
        "id": "PnqdgDMkmuow",
        "outputId": "9dec8122-1966-4db5-a8ff-975f91932c66"
      },
      "execution_count": null,
      "outputs": [
        {
          "output_type": "stream",
          "name": "stdout",
          "text": [
            "Root mean square error for i is: 37.587497001282905\n"
          ]
        }
      ]
    },
    {
      "cell_type": "code",
      "source": [
        "# hyper tunning gama value\n",
        "\n",
        "gamma =[0,0.01,0.001,1,2,3]\n",
        "for i in gamma:\n",
        "  model_xg=XGBRegressor( learning_rate =0.1, n_estimators=140, max_depth=3, min_child_weight=2, gamma=i, subsample=0.8, colsample_bytree=0.8,\n",
        "             objective=\"reg:squarederror\", nthread=4, scale_pos_weight=1, seed=27)\n",
        "  model_xg.fit(x_train,y_train)\n",
        "  y_pred_xg=model_xg.predict(x_valid)\n",
        "  print(\"gamma\",i)\n",
        "  print(\"Root mean square error for i is:\",sqrt(mean_squared_error(y_pred_xg,y_valid)))\n",
        " \n",
        " # for given all gamma values RMSE values has decreased bit when compared to previous parameters. choosing 1 which is default parameter"
      ],
      "metadata": {
        "colab": {
          "base_uri": "https://localhost:8080/"
        },
        "id": "cqGy6Wd_m2-k",
        "outputId": "760fdae1-c052-4848-a163-6f2102563d57"
      },
      "execution_count": null,
      "outputs": [
        {
          "output_type": "stream",
          "name": "stdout",
          "text": [
            "gamma 0\n",
            "Root mean square error for i is: 37.475210927557406\n",
            "gamma 0.01\n",
            "Root mean square error for i is: 37.475210927557406\n",
            "gamma 0.001\n",
            "Root mean square error for i is: 37.475210927557406\n",
            "gamma 1\n",
            "Root mean square error for i is: 37.475210927557406\n",
            "gamma 2\n",
            "Root mean square error for i is: 37.475210927557406\n",
            "gamma 3\n",
            "Root mean square error for i is: 37.475210927557406\n"
          ]
        }
      ]
    },
    {
      "cell_type": "code",
      "source": [
        "# hyper parameter tunning:\n",
        "\n",
        "learning_rate =[0.1,0.01,0.0001,0.00001]\n",
        "for i in learning_rate:\n",
        "  model_xg=XGBRegressor( learning_rate =i, n_estimators=140, max_depth=3, min_child_weight=2, gamma=1, subsample=0.8, colsample_bytree=0.8,\n",
        "             objective=\"reg:squarederror\", nthread=4, scale_pos_weight=1, seed=27)\n",
        "  model_xg.fit(x_train,y_train)\n",
        "  y_pred_xg=model_xg.predict(x_valid)\n",
        "  print(\"learning rate:\",i)\n",
        "  print(\"Root mean square error for i is:\",sqrt(mean_squared_error(y_pred_xg,y_valid)))\n",
        "   \n",
        "# learning rate =0.1 is good \n"
      ],
      "metadata": {
        "colab": {
          "base_uri": "https://localhost:8080/"
        },
        "id": "q-5_e6NlqiCp",
        "outputId": "05a317eb-d722-4ccc-bc93-b5acb1255af8"
      },
      "execution_count": null,
      "outputs": [
        {
          "output_type": "stream",
          "name": "stdout",
          "text": [
            "learning rate: 0.1\n",
            "Root mean square error for i is: 37.475210927557406\n",
            "learning rate: 0.01\n",
            "Root mean square error for i is: 47.13115909416437\n",
            "learning rate: 0.0001\n",
            "Root mean square error for i is: 89.81377954637712\n",
            "learning rate: 1e-05\n",
            "Root mean square error for i is: 90.62609964223775\n"
          ]
        }
      ]
    },
    {
      "cell_type": "code",
      "source": [
        "# final XBG boost model with our hyper parameter \n",
        "model_xg=XGBRegressor( learning_rate =0.1, n_estimators=140, max_depth=3,gamma=1, min_child_weight=2,subsample=0.8, colsample_bytree=0.8,\n",
        "             objective=\"reg:squarederror\", nthread=4, scale_pos_weight=1, seed=27)\n",
        "model_xg.fit(x_train,y_train)\n",
        "y_pred_xg=model_xg.predict(x_valid)\n",
        "\n",
        "print(\"Root mean square error for i is:\",sqrt(mean_squared_error(y_pred_xg,y_valid)))"
      ],
      "metadata": {
        "colab": {
          "base_uri": "https://localhost:8080/"
        },
        "id": "z0jQiQlhruQ0",
        "outputId": "1ad98293-7962-4417-c5ff-dc90db60e3aa"
      },
      "execution_count": null,
      "outputs": [
        {
          "output_type": "stream",
          "name": "stdout",
          "text": [
            "Root mean square error for i is: 37.475210927557406\n"
          ]
        }
      ]
    },
    {
      "cell_type": "code",
      "source": [
        "\n"
      ],
      "metadata": {
        "id": "zi05dN3LseCP"
      },
      "execution_count": null,
      "outputs": []
    },
    {
      "cell_type": "markdown",
      "source": [
        "###XBBOOST on test data"
      ],
      "metadata": {
        "id": "h3JE2WwT_SM3"
      }
    },
    {
      "cell_type": "code",
      "source": [
        "#loading test data \n",
        "test = pd.read_csv('/content/grive/MyDrive/test_6QvDdzb.csv')"
      ],
      "metadata": {
        "id": "EKVMWdlkr4Ob"
      },
      "execution_count": null,
      "outputs": []
    },
    {
      "cell_type": "code",
      "source": [
        "# FE on test data \n",
        "test['month'] = pd.to_datetime(test['date']).dt.month\n",
        "test['year'] = pd.to_datetime(test['date']).dt.year\n",
        "test['date1']=pd.to_datetime(test['date']).dt.day\n",
        "test[\"week\"]=pd.to_datetime(test['date']).dt.dayofweek"
      ],
      "metadata": {
        "id": "VJFm7zI2sIvi"
      },
      "execution_count": null,
      "outputs": []
    },
    {
      "cell_type": "code",
      "source": [
        "test1=test.drop([\"date\"],axis=1)\n",
        "test1.shape"
      ],
      "metadata": {
        "colab": {
          "base_uri": "https://localhost:8080/"
        },
        "outputId": "7bfad016-04d1-41aa-c306-176649cd5a1e",
        "id": "hMRXvMTVsIvi"
      },
      "execution_count": null,
      "outputs": [
        {
          "output_type": "execute_result",
          "data": {
            "text/plain": [
              "(7650, 5)"
            ]
          },
          "metadata": {},
          "execution_count": 67
        }
      ]
    },
    {
      "cell_type": "code",
      "source": [
        "test1"
      ],
      "metadata": {
        "colab": {
          "base_uri": "https://localhost:8080/",
          "height": 423
        },
        "id": "7mrp_yn5sIC8",
        "outputId": "4b638838-a2fc-4b04-df08-f753fcb21111"
      },
      "execution_count": null,
      "outputs": [
        {
          "output_type": "execute_result",
          "data": {
            "text/plain": [
              "      hour  month  year  date1  week\n",
              "0        0      3  2021      1     0\n",
              "1        1      3  2021      1     0\n",
              "2        2      3  2021      1     0\n",
              "3        3      3  2021      1     0\n",
              "4        5      3  2021      1     0\n",
              "...    ...    ...   ...    ...   ...\n",
              "7645    19      3  2022     28     0\n",
              "7646    20      3  2022     28     0\n",
              "7647    21      3  2022     28     0\n",
              "7648    22      3  2022     28     0\n",
              "7649    23      3  2022     28     0\n",
              "\n",
              "[7650 rows x 5 columns]"
            ],
            "text/html": [
              "\n",
              "  <div id=\"df-3f1d404b-6d15-4b52-9e30-220f0ab687ee\">\n",
              "    <div class=\"colab-df-container\">\n",
              "      <div>\n",
              "<style scoped>\n",
              "    .dataframe tbody tr th:only-of-type {\n",
              "        vertical-align: middle;\n",
              "    }\n",
              "\n",
              "    .dataframe tbody tr th {\n",
              "        vertical-align: top;\n",
              "    }\n",
              "\n",
              "    .dataframe thead th {\n",
              "        text-align: right;\n",
              "    }\n",
              "</style>\n",
              "<table border=\"1\" class=\"dataframe\">\n",
              "  <thead>\n",
              "    <tr style=\"text-align: right;\">\n",
              "      <th></th>\n",
              "      <th>hour</th>\n",
              "      <th>month</th>\n",
              "      <th>year</th>\n",
              "      <th>date1</th>\n",
              "      <th>week</th>\n",
              "    </tr>\n",
              "  </thead>\n",
              "  <tbody>\n",
              "    <tr>\n",
              "      <th>0</th>\n",
              "      <td>0</td>\n",
              "      <td>3</td>\n",
              "      <td>2021</td>\n",
              "      <td>1</td>\n",
              "      <td>0</td>\n",
              "    </tr>\n",
              "    <tr>\n",
              "      <th>1</th>\n",
              "      <td>1</td>\n",
              "      <td>3</td>\n",
              "      <td>2021</td>\n",
              "      <td>1</td>\n",
              "      <td>0</td>\n",
              "    </tr>\n",
              "    <tr>\n",
              "      <th>2</th>\n",
              "      <td>2</td>\n",
              "      <td>3</td>\n",
              "      <td>2021</td>\n",
              "      <td>1</td>\n",
              "      <td>0</td>\n",
              "    </tr>\n",
              "    <tr>\n",
              "      <th>3</th>\n",
              "      <td>3</td>\n",
              "      <td>3</td>\n",
              "      <td>2021</td>\n",
              "      <td>1</td>\n",
              "      <td>0</td>\n",
              "    </tr>\n",
              "    <tr>\n",
              "      <th>4</th>\n",
              "      <td>5</td>\n",
              "      <td>3</td>\n",
              "      <td>2021</td>\n",
              "      <td>1</td>\n",
              "      <td>0</td>\n",
              "    </tr>\n",
              "    <tr>\n",
              "      <th>...</th>\n",
              "      <td>...</td>\n",
              "      <td>...</td>\n",
              "      <td>...</td>\n",
              "      <td>...</td>\n",
              "      <td>...</td>\n",
              "    </tr>\n",
              "    <tr>\n",
              "      <th>7645</th>\n",
              "      <td>19</td>\n",
              "      <td>3</td>\n",
              "      <td>2022</td>\n",
              "      <td>28</td>\n",
              "      <td>0</td>\n",
              "    </tr>\n",
              "    <tr>\n",
              "      <th>7646</th>\n",
              "      <td>20</td>\n",
              "      <td>3</td>\n",
              "      <td>2022</td>\n",
              "      <td>28</td>\n",
              "      <td>0</td>\n",
              "    </tr>\n",
              "    <tr>\n",
              "      <th>7647</th>\n",
              "      <td>21</td>\n",
              "      <td>3</td>\n",
              "      <td>2022</td>\n",
              "      <td>28</td>\n",
              "      <td>0</td>\n",
              "    </tr>\n",
              "    <tr>\n",
              "      <th>7648</th>\n",
              "      <td>22</td>\n",
              "      <td>3</td>\n",
              "      <td>2022</td>\n",
              "      <td>28</td>\n",
              "      <td>0</td>\n",
              "    </tr>\n",
              "    <tr>\n",
              "      <th>7649</th>\n",
              "      <td>23</td>\n",
              "      <td>3</td>\n",
              "      <td>2022</td>\n",
              "      <td>28</td>\n",
              "      <td>0</td>\n",
              "    </tr>\n",
              "  </tbody>\n",
              "</table>\n",
              "<p>7650 rows × 5 columns</p>\n",
              "</div>\n",
              "      <button class=\"colab-df-convert\" onclick=\"convertToInteractive('df-3f1d404b-6d15-4b52-9e30-220f0ab687ee')\"\n",
              "              title=\"Convert this dataframe to an interactive table.\"\n",
              "              style=\"display:none;\">\n",
              "        \n",
              "  <svg xmlns=\"http://www.w3.org/2000/svg\" height=\"24px\"viewBox=\"0 0 24 24\"\n",
              "       width=\"24px\">\n",
              "    <path d=\"M0 0h24v24H0V0z\" fill=\"none\"/>\n",
              "    <path d=\"M18.56 5.44l.94 2.06.94-2.06 2.06-.94-2.06-.94-.94-2.06-.94 2.06-2.06.94zm-11 1L8.5 8.5l.94-2.06 2.06-.94-2.06-.94L8.5 2.5l-.94 2.06-2.06.94zm10 10l.94 2.06.94-2.06 2.06-.94-2.06-.94-.94-2.06-.94 2.06-2.06.94z\"/><path d=\"M17.41 7.96l-1.37-1.37c-.4-.4-.92-.59-1.43-.59-.52 0-1.04.2-1.43.59L10.3 9.45l-7.72 7.72c-.78.78-.78 2.05 0 2.83L4 21.41c.39.39.9.59 1.41.59.51 0 1.02-.2 1.41-.59l7.78-7.78 2.81-2.81c.8-.78.8-2.07 0-2.86zM5.41 20L4 18.59l7.72-7.72 1.47 1.35L5.41 20z\"/>\n",
              "  </svg>\n",
              "      </button>\n",
              "      \n",
              "  <style>\n",
              "    .colab-df-container {\n",
              "      display:flex;\n",
              "      flex-wrap:wrap;\n",
              "      gap: 12px;\n",
              "    }\n",
              "\n",
              "    .colab-df-convert {\n",
              "      background-color: #E8F0FE;\n",
              "      border: none;\n",
              "      border-radius: 50%;\n",
              "      cursor: pointer;\n",
              "      display: none;\n",
              "      fill: #1967D2;\n",
              "      height: 32px;\n",
              "      padding: 0 0 0 0;\n",
              "      width: 32px;\n",
              "    }\n",
              "\n",
              "    .colab-df-convert:hover {\n",
              "      background-color: #E2EBFA;\n",
              "      box-shadow: 0px 1px 2px rgba(60, 64, 67, 0.3), 0px 1px 3px 1px rgba(60, 64, 67, 0.15);\n",
              "      fill: #174EA6;\n",
              "    }\n",
              "\n",
              "    [theme=dark] .colab-df-convert {\n",
              "      background-color: #3B4455;\n",
              "      fill: #D2E3FC;\n",
              "    }\n",
              "\n",
              "    [theme=dark] .colab-df-convert:hover {\n",
              "      background-color: #434B5C;\n",
              "      box-shadow: 0px 1px 3px 1px rgba(0, 0, 0, 0.15);\n",
              "      filter: drop-shadow(0px 1px 2px rgba(0, 0, 0, 0.3));\n",
              "      fill: #FFFFFF;\n",
              "    }\n",
              "  </style>\n",
              "\n",
              "      <script>\n",
              "        const buttonEl =\n",
              "          document.querySelector('#df-3f1d404b-6d15-4b52-9e30-220f0ab687ee button.colab-df-convert');\n",
              "        buttonEl.style.display =\n",
              "          google.colab.kernel.accessAllowed ? 'block' : 'none';\n",
              "\n",
              "        async function convertToInteractive(key) {\n",
              "          const element = document.querySelector('#df-3f1d404b-6d15-4b52-9e30-220f0ab687ee');\n",
              "          const dataTable =\n",
              "            await google.colab.kernel.invokeFunction('convertToInteractive',\n",
              "                                                     [key], {});\n",
              "          if (!dataTable) return;\n",
              "\n",
              "          const docLinkHtml = 'Like what you see? Visit the ' +\n",
              "            '<a target=\"_blank\" href=https://colab.research.google.com/notebooks/data_table.ipynb>data table notebook</a>'\n",
              "            + ' to learn more about interactive tables.';\n",
              "          element.innerHTML = '';\n",
              "          dataTable['output_type'] = 'display_data';\n",
              "          await google.colab.output.renderOutput(dataTable, element);\n",
              "          const docLink = document.createElement('div');\n",
              "          docLink.innerHTML = docLinkHtml;\n",
              "          element.appendChild(docLink);\n",
              "        }\n",
              "      </script>\n",
              "    </div>\n",
              "  </div>\n",
              "  "
            ]
          },
          "metadata": {},
          "execution_count": 68
        }
      ]
    },
    {
      "cell_type": "code",
      "source": [
        "from sklearn.preprocessing import StandardScaler # standardization of data \n",
        "\n",
        "test1=scaler.transform(test1)"
      ],
      "metadata": {
        "id": "hVzWeq50VBT8"
      },
      "execution_count": null,
      "outputs": []
    },
    {
      "cell_type": "code",
      "source": [
        "# fitting test data on xgboost model.\n",
        "pred = model_xg.predict(test1)"
      ],
      "metadata": {
        "id": "iQxaK_xNsILq"
      },
      "execution_count": null,
      "outputs": []
    },
    {
      "cell_type": "code",
      "source": [
        "k=pred # output values "
      ],
      "metadata": {
        "id": "ytD-TWibscR-"
      },
      "execution_count": null,
      "outputs": []
    },
    {
      "cell_type": "code",
      "source": [
        "k"
      ],
      "metadata": {
        "colab": {
          "base_uri": "https://localhost:8080/"
        },
        "id": "MWNcc0tdNL48",
        "outputId": "657885ef-aa52-4c73-9686-b26a94479a48"
      },
      "execution_count": null,
      "outputs": [
        {
          "output_type": "execute_result",
          "data": {
            "text/plain": [
              "array([58.01001 , 55.95492 , 57.558285, ..., 73.40332 , 69.65928 ,\n",
              "       63.914894], dtype=float32)"
            ]
          },
          "metadata": {},
          "execution_count": 72
        }
      ]
    },
    {
      "cell_type": "code",
      "source": [
        "demand=pd.DataFrame(k,columns=[\"outputprediction\"]) # converting it into dataframe"
      ],
      "metadata": {
        "id": "BZrzMMHbslN-"
      },
      "execution_count": null,
      "outputs": []
    },
    {
      "cell_type": "code",
      "source": [
        "test = pd.read_csv('/content/grive/MyDrive/test_6QvDdzb.csv')  # loading test data"
      ],
      "metadata": {
        "id": "N4_cbmtNslVz"
      },
      "execution_count": null,
      "outputs": []
    },
    {
      "cell_type": "code",
      "source": [
        "test.head()"
      ],
      "metadata": {
        "colab": {
          "base_uri": "https://localhost:8080/",
          "height": 206
        },
        "id": "5rX6wjXJslcM",
        "outputId": "0d4eacb6-edeb-4e24-fcf3-c556c02aac28"
      },
      "execution_count": null,
      "outputs": [
        {
          "output_type": "execute_result",
          "data": {
            "text/plain": [
              "         date  hour\n",
              "0  2021-03-01     0\n",
              "1  2021-03-01     1\n",
              "2  2021-03-01     2\n",
              "3  2021-03-01     3\n",
              "4  2021-03-01     5"
            ],
            "text/html": [
              "\n",
              "  <div id=\"df-cb6a5c35-825c-4619-87fc-ce6ed141d7bb\">\n",
              "    <div class=\"colab-df-container\">\n",
              "      <div>\n",
              "<style scoped>\n",
              "    .dataframe tbody tr th:only-of-type {\n",
              "        vertical-align: middle;\n",
              "    }\n",
              "\n",
              "    .dataframe tbody tr th {\n",
              "        vertical-align: top;\n",
              "    }\n",
              "\n",
              "    .dataframe thead th {\n",
              "        text-align: right;\n",
              "    }\n",
              "</style>\n",
              "<table border=\"1\" class=\"dataframe\">\n",
              "  <thead>\n",
              "    <tr style=\"text-align: right;\">\n",
              "      <th></th>\n",
              "      <th>date</th>\n",
              "      <th>hour</th>\n",
              "    </tr>\n",
              "  </thead>\n",
              "  <tbody>\n",
              "    <tr>\n",
              "      <th>0</th>\n",
              "      <td>2021-03-01</td>\n",
              "      <td>0</td>\n",
              "    </tr>\n",
              "    <tr>\n",
              "      <th>1</th>\n",
              "      <td>2021-03-01</td>\n",
              "      <td>1</td>\n",
              "    </tr>\n",
              "    <tr>\n",
              "      <th>2</th>\n",
              "      <td>2021-03-01</td>\n",
              "      <td>2</td>\n",
              "    </tr>\n",
              "    <tr>\n",
              "      <th>3</th>\n",
              "      <td>2021-03-01</td>\n",
              "      <td>3</td>\n",
              "    </tr>\n",
              "    <tr>\n",
              "      <th>4</th>\n",
              "      <td>2021-03-01</td>\n",
              "      <td>5</td>\n",
              "    </tr>\n",
              "  </tbody>\n",
              "</table>\n",
              "</div>\n",
              "      <button class=\"colab-df-convert\" onclick=\"convertToInteractive('df-cb6a5c35-825c-4619-87fc-ce6ed141d7bb')\"\n",
              "              title=\"Convert this dataframe to an interactive table.\"\n",
              "              style=\"display:none;\">\n",
              "        \n",
              "  <svg xmlns=\"http://www.w3.org/2000/svg\" height=\"24px\"viewBox=\"0 0 24 24\"\n",
              "       width=\"24px\">\n",
              "    <path d=\"M0 0h24v24H0V0z\" fill=\"none\"/>\n",
              "    <path d=\"M18.56 5.44l.94 2.06.94-2.06 2.06-.94-2.06-.94-.94-2.06-.94 2.06-2.06.94zm-11 1L8.5 8.5l.94-2.06 2.06-.94-2.06-.94L8.5 2.5l-.94 2.06-2.06.94zm10 10l.94 2.06.94-2.06 2.06-.94-2.06-.94-.94-2.06-.94 2.06-2.06.94z\"/><path d=\"M17.41 7.96l-1.37-1.37c-.4-.4-.92-.59-1.43-.59-.52 0-1.04.2-1.43.59L10.3 9.45l-7.72 7.72c-.78.78-.78 2.05 0 2.83L4 21.41c.39.39.9.59 1.41.59.51 0 1.02-.2 1.41-.59l7.78-7.78 2.81-2.81c.8-.78.8-2.07 0-2.86zM5.41 20L4 18.59l7.72-7.72 1.47 1.35L5.41 20z\"/>\n",
              "  </svg>\n",
              "      </button>\n",
              "      \n",
              "  <style>\n",
              "    .colab-df-container {\n",
              "      display:flex;\n",
              "      flex-wrap:wrap;\n",
              "      gap: 12px;\n",
              "    }\n",
              "\n",
              "    .colab-df-convert {\n",
              "      background-color: #E8F0FE;\n",
              "      border: none;\n",
              "      border-radius: 50%;\n",
              "      cursor: pointer;\n",
              "      display: none;\n",
              "      fill: #1967D2;\n",
              "      height: 32px;\n",
              "      padding: 0 0 0 0;\n",
              "      width: 32px;\n",
              "    }\n",
              "\n",
              "    .colab-df-convert:hover {\n",
              "      background-color: #E2EBFA;\n",
              "      box-shadow: 0px 1px 2px rgba(60, 64, 67, 0.3), 0px 1px 3px 1px rgba(60, 64, 67, 0.15);\n",
              "      fill: #174EA6;\n",
              "    }\n",
              "\n",
              "    [theme=dark] .colab-df-convert {\n",
              "      background-color: #3B4455;\n",
              "      fill: #D2E3FC;\n",
              "    }\n",
              "\n",
              "    [theme=dark] .colab-df-convert:hover {\n",
              "      background-color: #434B5C;\n",
              "      box-shadow: 0px 1px 3px 1px rgba(0, 0, 0, 0.15);\n",
              "      filter: drop-shadow(0px 1px 2px rgba(0, 0, 0, 0.3));\n",
              "      fill: #FFFFFF;\n",
              "    }\n",
              "  </style>\n",
              "\n",
              "      <script>\n",
              "        const buttonEl =\n",
              "          document.querySelector('#df-cb6a5c35-825c-4619-87fc-ce6ed141d7bb button.colab-df-convert');\n",
              "        buttonEl.style.display =\n",
              "          google.colab.kernel.accessAllowed ? 'block' : 'none';\n",
              "\n",
              "        async function convertToInteractive(key) {\n",
              "          const element = document.querySelector('#df-cb6a5c35-825c-4619-87fc-ce6ed141d7bb');\n",
              "          const dataTable =\n",
              "            await google.colab.kernel.invokeFunction('convertToInteractive',\n",
              "                                                     [key], {});\n",
              "          if (!dataTable) return;\n",
              "\n",
              "          const docLinkHtml = 'Like what you see? Visit the ' +\n",
              "            '<a target=\"_blank\" href=https://colab.research.google.com/notebooks/data_table.ipynb>data table notebook</a>'\n",
              "            + ' to learn more about interactive tables.';\n",
              "          element.innerHTML = '';\n",
              "          dataTable['output_type'] = 'display_data';\n",
              "          await google.colab.output.renderOutput(dataTable, element);\n",
              "          const docLink = document.createElement('div');\n",
              "          docLink.innerHTML = docLinkHtml;\n",
              "          element.appendChild(docLink);\n",
              "        }\n",
              "      </script>\n",
              "    </div>\n",
              "  </div>\n",
              "  "
            ]
          },
          "metadata": {},
          "execution_count": 75
        }
      ]
    },
    {
      "cell_type": "code",
      "source": [
        "test.isna().sum()"
      ],
      "metadata": {
        "colab": {
          "base_uri": "https://localhost:8080/"
        },
        "id": "S4IFzDtkaLyX",
        "outputId": "1012fbd5-a0b3-49be-831f-0776a1298d3c"
      },
      "execution_count": null,
      "outputs": [
        {
          "output_type": "execute_result",
          "data": {
            "text/plain": [
              "date    0\n",
              "hour    0\n",
              "dtype: int64"
            ]
          },
          "metadata": {},
          "execution_count": 76
        }
      ]
    },
    {
      "cell_type": "code",
      "source": [
        "test[\"demand\"]=demand #adding demand colum to test data "
      ],
      "metadata": {
        "id": "EK2wwEqws_qe"
      },
      "execution_count": null,
      "outputs": []
    },
    {
      "cell_type": "code",
      "source": [
        "test.head()"
      ],
      "metadata": {
        "colab": {
          "base_uri": "https://localhost:8080/",
          "height": 206
        },
        "id": "UF9YXV3htNzf",
        "outputId": "0368c075-eb88-4e97-c7b1-b54318b86ff6"
      },
      "execution_count": null,
      "outputs": [
        {
          "output_type": "execute_result",
          "data": {
            "text/plain": [
              "         date  hour     demand\n",
              "0  2021-03-01     0  58.010010\n",
              "1  2021-03-01     1  55.954922\n",
              "2  2021-03-01     2  57.558285\n",
              "3  2021-03-01     3  57.174892\n",
              "4  2021-03-01     5  56.235600"
            ],
            "text/html": [
              "\n",
              "  <div id=\"df-c0923e96-25f7-4a72-b4e5-9f596b6bdf0b\">\n",
              "    <div class=\"colab-df-container\">\n",
              "      <div>\n",
              "<style scoped>\n",
              "    .dataframe tbody tr th:only-of-type {\n",
              "        vertical-align: middle;\n",
              "    }\n",
              "\n",
              "    .dataframe tbody tr th {\n",
              "        vertical-align: top;\n",
              "    }\n",
              "\n",
              "    .dataframe thead th {\n",
              "        text-align: right;\n",
              "    }\n",
              "</style>\n",
              "<table border=\"1\" class=\"dataframe\">\n",
              "  <thead>\n",
              "    <tr style=\"text-align: right;\">\n",
              "      <th></th>\n",
              "      <th>date</th>\n",
              "      <th>hour</th>\n",
              "      <th>demand</th>\n",
              "    </tr>\n",
              "  </thead>\n",
              "  <tbody>\n",
              "    <tr>\n",
              "      <th>0</th>\n",
              "      <td>2021-03-01</td>\n",
              "      <td>0</td>\n",
              "      <td>58.010010</td>\n",
              "    </tr>\n",
              "    <tr>\n",
              "      <th>1</th>\n",
              "      <td>2021-03-01</td>\n",
              "      <td>1</td>\n",
              "      <td>55.954922</td>\n",
              "    </tr>\n",
              "    <tr>\n",
              "      <th>2</th>\n",
              "      <td>2021-03-01</td>\n",
              "      <td>2</td>\n",
              "      <td>57.558285</td>\n",
              "    </tr>\n",
              "    <tr>\n",
              "      <th>3</th>\n",
              "      <td>2021-03-01</td>\n",
              "      <td>3</td>\n",
              "      <td>57.174892</td>\n",
              "    </tr>\n",
              "    <tr>\n",
              "      <th>4</th>\n",
              "      <td>2021-03-01</td>\n",
              "      <td>5</td>\n",
              "      <td>56.235600</td>\n",
              "    </tr>\n",
              "  </tbody>\n",
              "</table>\n",
              "</div>\n",
              "      <button class=\"colab-df-convert\" onclick=\"convertToInteractive('df-c0923e96-25f7-4a72-b4e5-9f596b6bdf0b')\"\n",
              "              title=\"Convert this dataframe to an interactive table.\"\n",
              "              style=\"display:none;\">\n",
              "        \n",
              "  <svg xmlns=\"http://www.w3.org/2000/svg\" height=\"24px\"viewBox=\"0 0 24 24\"\n",
              "       width=\"24px\">\n",
              "    <path d=\"M0 0h24v24H0V0z\" fill=\"none\"/>\n",
              "    <path d=\"M18.56 5.44l.94 2.06.94-2.06 2.06-.94-2.06-.94-.94-2.06-.94 2.06-2.06.94zm-11 1L8.5 8.5l.94-2.06 2.06-.94-2.06-.94L8.5 2.5l-.94 2.06-2.06.94zm10 10l.94 2.06.94-2.06 2.06-.94-2.06-.94-.94-2.06-.94 2.06-2.06.94z\"/><path d=\"M17.41 7.96l-1.37-1.37c-.4-.4-.92-.59-1.43-.59-.52 0-1.04.2-1.43.59L10.3 9.45l-7.72 7.72c-.78.78-.78 2.05 0 2.83L4 21.41c.39.39.9.59 1.41.59.51 0 1.02-.2 1.41-.59l7.78-7.78 2.81-2.81c.8-.78.8-2.07 0-2.86zM5.41 20L4 18.59l7.72-7.72 1.47 1.35L5.41 20z\"/>\n",
              "  </svg>\n",
              "      </button>\n",
              "      \n",
              "  <style>\n",
              "    .colab-df-container {\n",
              "      display:flex;\n",
              "      flex-wrap:wrap;\n",
              "      gap: 12px;\n",
              "    }\n",
              "\n",
              "    .colab-df-convert {\n",
              "      background-color: #E8F0FE;\n",
              "      border: none;\n",
              "      border-radius: 50%;\n",
              "      cursor: pointer;\n",
              "      display: none;\n",
              "      fill: #1967D2;\n",
              "      height: 32px;\n",
              "      padding: 0 0 0 0;\n",
              "      width: 32px;\n",
              "    }\n",
              "\n",
              "    .colab-df-convert:hover {\n",
              "      background-color: #E2EBFA;\n",
              "      box-shadow: 0px 1px 2px rgba(60, 64, 67, 0.3), 0px 1px 3px 1px rgba(60, 64, 67, 0.15);\n",
              "      fill: #174EA6;\n",
              "    }\n",
              "\n",
              "    [theme=dark] .colab-df-convert {\n",
              "      background-color: #3B4455;\n",
              "      fill: #D2E3FC;\n",
              "    }\n",
              "\n",
              "    [theme=dark] .colab-df-convert:hover {\n",
              "      background-color: #434B5C;\n",
              "      box-shadow: 0px 1px 3px 1px rgba(0, 0, 0, 0.15);\n",
              "      filter: drop-shadow(0px 1px 2px rgba(0, 0, 0, 0.3));\n",
              "      fill: #FFFFFF;\n",
              "    }\n",
              "  </style>\n",
              "\n",
              "      <script>\n",
              "        const buttonEl =\n",
              "          document.querySelector('#df-c0923e96-25f7-4a72-b4e5-9f596b6bdf0b button.colab-df-convert');\n",
              "        buttonEl.style.display =\n",
              "          google.colab.kernel.accessAllowed ? 'block' : 'none';\n",
              "\n",
              "        async function convertToInteractive(key) {\n",
              "          const element = document.querySelector('#df-c0923e96-25f7-4a72-b4e5-9f596b6bdf0b');\n",
              "          const dataTable =\n",
              "            await google.colab.kernel.invokeFunction('convertToInteractive',\n",
              "                                                     [key], {});\n",
              "          if (!dataTable) return;\n",
              "\n",
              "          const docLinkHtml = 'Like what you see? Visit the ' +\n",
              "            '<a target=\"_blank\" href=https://colab.research.google.com/notebooks/data_table.ipynb>data table notebook</a>'\n",
              "            + ' to learn more about interactive tables.';\n",
              "          element.innerHTML = '';\n",
              "          dataTable['output_type'] = 'display_data';\n",
              "          await google.colab.output.renderOutput(dataTable, element);\n",
              "          const docLink = document.createElement('div');\n",
              "          docLink.innerHTML = docLinkHtml;\n",
              "          element.appendChild(docLink);\n",
              "        }\n",
              "      </script>\n",
              "    </div>\n",
              "  </div>\n",
              "  "
            ]
          },
          "metadata": {},
          "execution_count": 78
        }
      ]
    },
    {
      "cell_type": "code",
      "source": [
        "test['demand']=test[\"demand\"].apply(lambda x:round(x))  # round of values ."
      ],
      "metadata": {
        "id": "5ZvhpD_ls_qm"
      },
      "execution_count": null,
      "outputs": []
    },
    {
      "cell_type": "code",
      "source": [
        "test.head()"
      ],
      "metadata": {
        "colab": {
          "base_uri": "https://localhost:8080/",
          "height": 206
        },
        "id": "hDaSCsdvslfS",
        "outputId": "7bd55e65-82e8-442c-db2b-ded569d6e9aa"
      },
      "execution_count": null,
      "outputs": [
        {
          "output_type": "execute_result",
          "data": {
            "text/plain": [
              "         date  hour  demand\n",
              "0  2021-03-01     0      58\n",
              "1  2021-03-01     1      56\n",
              "2  2021-03-01     2      58\n",
              "3  2021-03-01     3      57\n",
              "4  2021-03-01     5      56"
            ],
            "text/html": [
              "\n",
              "  <div id=\"df-4cc1b106-22bf-4f84-8aae-2e8b945ee8f8\">\n",
              "    <div class=\"colab-df-container\">\n",
              "      <div>\n",
              "<style scoped>\n",
              "    .dataframe tbody tr th:only-of-type {\n",
              "        vertical-align: middle;\n",
              "    }\n",
              "\n",
              "    .dataframe tbody tr th {\n",
              "        vertical-align: top;\n",
              "    }\n",
              "\n",
              "    .dataframe thead th {\n",
              "        text-align: right;\n",
              "    }\n",
              "</style>\n",
              "<table border=\"1\" class=\"dataframe\">\n",
              "  <thead>\n",
              "    <tr style=\"text-align: right;\">\n",
              "      <th></th>\n",
              "      <th>date</th>\n",
              "      <th>hour</th>\n",
              "      <th>demand</th>\n",
              "    </tr>\n",
              "  </thead>\n",
              "  <tbody>\n",
              "    <tr>\n",
              "      <th>0</th>\n",
              "      <td>2021-03-01</td>\n",
              "      <td>0</td>\n",
              "      <td>58</td>\n",
              "    </tr>\n",
              "    <tr>\n",
              "      <th>1</th>\n",
              "      <td>2021-03-01</td>\n",
              "      <td>1</td>\n",
              "      <td>56</td>\n",
              "    </tr>\n",
              "    <tr>\n",
              "      <th>2</th>\n",
              "      <td>2021-03-01</td>\n",
              "      <td>2</td>\n",
              "      <td>58</td>\n",
              "    </tr>\n",
              "    <tr>\n",
              "      <th>3</th>\n",
              "      <td>2021-03-01</td>\n",
              "      <td>3</td>\n",
              "      <td>57</td>\n",
              "    </tr>\n",
              "    <tr>\n",
              "      <th>4</th>\n",
              "      <td>2021-03-01</td>\n",
              "      <td>5</td>\n",
              "      <td>56</td>\n",
              "    </tr>\n",
              "  </tbody>\n",
              "</table>\n",
              "</div>\n",
              "      <button class=\"colab-df-convert\" onclick=\"convertToInteractive('df-4cc1b106-22bf-4f84-8aae-2e8b945ee8f8')\"\n",
              "              title=\"Convert this dataframe to an interactive table.\"\n",
              "              style=\"display:none;\">\n",
              "        \n",
              "  <svg xmlns=\"http://www.w3.org/2000/svg\" height=\"24px\"viewBox=\"0 0 24 24\"\n",
              "       width=\"24px\">\n",
              "    <path d=\"M0 0h24v24H0V0z\" fill=\"none\"/>\n",
              "    <path d=\"M18.56 5.44l.94 2.06.94-2.06 2.06-.94-2.06-.94-.94-2.06-.94 2.06-2.06.94zm-11 1L8.5 8.5l.94-2.06 2.06-.94-2.06-.94L8.5 2.5l-.94 2.06-2.06.94zm10 10l.94 2.06.94-2.06 2.06-.94-2.06-.94-.94-2.06-.94 2.06-2.06.94z\"/><path d=\"M17.41 7.96l-1.37-1.37c-.4-.4-.92-.59-1.43-.59-.52 0-1.04.2-1.43.59L10.3 9.45l-7.72 7.72c-.78.78-.78 2.05 0 2.83L4 21.41c.39.39.9.59 1.41.59.51 0 1.02-.2 1.41-.59l7.78-7.78 2.81-2.81c.8-.78.8-2.07 0-2.86zM5.41 20L4 18.59l7.72-7.72 1.47 1.35L5.41 20z\"/>\n",
              "  </svg>\n",
              "      </button>\n",
              "      \n",
              "  <style>\n",
              "    .colab-df-container {\n",
              "      display:flex;\n",
              "      flex-wrap:wrap;\n",
              "      gap: 12px;\n",
              "    }\n",
              "\n",
              "    .colab-df-convert {\n",
              "      background-color: #E8F0FE;\n",
              "      border: none;\n",
              "      border-radius: 50%;\n",
              "      cursor: pointer;\n",
              "      display: none;\n",
              "      fill: #1967D2;\n",
              "      height: 32px;\n",
              "      padding: 0 0 0 0;\n",
              "      width: 32px;\n",
              "    }\n",
              "\n",
              "    .colab-df-convert:hover {\n",
              "      background-color: #E2EBFA;\n",
              "      box-shadow: 0px 1px 2px rgba(60, 64, 67, 0.3), 0px 1px 3px 1px rgba(60, 64, 67, 0.15);\n",
              "      fill: #174EA6;\n",
              "    }\n",
              "\n",
              "    [theme=dark] .colab-df-convert {\n",
              "      background-color: #3B4455;\n",
              "      fill: #D2E3FC;\n",
              "    }\n",
              "\n",
              "    [theme=dark] .colab-df-convert:hover {\n",
              "      background-color: #434B5C;\n",
              "      box-shadow: 0px 1px 3px 1px rgba(0, 0, 0, 0.15);\n",
              "      filter: drop-shadow(0px 1px 2px rgba(0, 0, 0, 0.3));\n",
              "      fill: #FFFFFF;\n",
              "    }\n",
              "  </style>\n",
              "\n",
              "      <script>\n",
              "        const buttonEl =\n",
              "          document.querySelector('#df-4cc1b106-22bf-4f84-8aae-2e8b945ee8f8 button.colab-df-convert');\n",
              "        buttonEl.style.display =\n",
              "          google.colab.kernel.accessAllowed ? 'block' : 'none';\n",
              "\n",
              "        async function convertToInteractive(key) {\n",
              "          const element = document.querySelector('#df-4cc1b106-22bf-4f84-8aae-2e8b945ee8f8');\n",
              "          const dataTable =\n",
              "            await google.colab.kernel.invokeFunction('convertToInteractive',\n",
              "                                                     [key], {});\n",
              "          if (!dataTable) return;\n",
              "\n",
              "          const docLinkHtml = 'Like what you see? Visit the ' +\n",
              "            '<a target=\"_blank\" href=https://colab.research.google.com/notebooks/data_table.ipynb>data table notebook</a>'\n",
              "            + ' to learn more about interactive tables.';\n",
              "          element.innerHTML = '';\n",
              "          dataTable['output_type'] = 'display_data';\n",
              "          await google.colab.output.renderOutput(dataTable, element);\n",
              "          const docLink = document.createElement('div');\n",
              "          docLink.innerHTML = docLinkHtml;\n",
              "          element.appendChild(docLink);\n",
              "        }\n",
              "      </script>\n",
              "    </div>\n",
              "  </div>\n",
              "  "
            ]
          },
          "metadata": {},
          "execution_count": 80
        }
      ]
    },
    {
      "cell_type": "code",
      "source": [
        ""
      ],
      "metadata": {
        "id": "JXFNxFT4theQ"
      },
      "execution_count": null,
      "outputs": []
    },
    {
      "cell_type": "code",
      "source": [
        "df=test.set_index(\"date\") # formatting data as requried "
      ],
      "metadata": {
        "id": "HktYq-patiPE"
      },
      "execution_count": null,
      "outputs": []
    },
    {
      "cell_type": "code",
      "source": [
        "df.head()"
      ],
      "metadata": {
        "colab": {
          "base_uri": "https://localhost:8080/",
          "height": 238
        },
        "outputId": "8f86ca9e-159e-4e36-fdc0-868b14d21a7a",
        "id": "fBm_MY2htiPE"
      },
      "execution_count": null,
      "outputs": [
        {
          "output_type": "execute_result",
          "data": {
            "text/plain": [
              "            hour  demand\n",
              "date                    \n",
              "2021-03-01     0      58\n",
              "2021-03-01     1      56\n",
              "2021-03-01     2      58\n",
              "2021-03-01     3      57\n",
              "2021-03-01     5      56"
            ],
            "text/html": [
              "\n",
              "  <div id=\"df-d598526a-ed84-4532-9c22-ddd9e8041f8b\">\n",
              "    <div class=\"colab-df-container\">\n",
              "      <div>\n",
              "<style scoped>\n",
              "    .dataframe tbody tr th:only-of-type {\n",
              "        vertical-align: middle;\n",
              "    }\n",
              "\n",
              "    .dataframe tbody tr th {\n",
              "        vertical-align: top;\n",
              "    }\n",
              "\n",
              "    .dataframe thead th {\n",
              "        text-align: right;\n",
              "    }\n",
              "</style>\n",
              "<table border=\"1\" class=\"dataframe\">\n",
              "  <thead>\n",
              "    <tr style=\"text-align: right;\">\n",
              "      <th></th>\n",
              "      <th>hour</th>\n",
              "      <th>demand</th>\n",
              "    </tr>\n",
              "    <tr>\n",
              "      <th>date</th>\n",
              "      <th></th>\n",
              "      <th></th>\n",
              "    </tr>\n",
              "  </thead>\n",
              "  <tbody>\n",
              "    <tr>\n",
              "      <th>2021-03-01</th>\n",
              "      <td>0</td>\n",
              "      <td>58</td>\n",
              "    </tr>\n",
              "    <tr>\n",
              "      <th>2021-03-01</th>\n",
              "      <td>1</td>\n",
              "      <td>56</td>\n",
              "    </tr>\n",
              "    <tr>\n",
              "      <th>2021-03-01</th>\n",
              "      <td>2</td>\n",
              "      <td>58</td>\n",
              "    </tr>\n",
              "    <tr>\n",
              "      <th>2021-03-01</th>\n",
              "      <td>3</td>\n",
              "      <td>57</td>\n",
              "    </tr>\n",
              "    <tr>\n",
              "      <th>2021-03-01</th>\n",
              "      <td>5</td>\n",
              "      <td>56</td>\n",
              "    </tr>\n",
              "  </tbody>\n",
              "</table>\n",
              "</div>\n",
              "      <button class=\"colab-df-convert\" onclick=\"convertToInteractive('df-d598526a-ed84-4532-9c22-ddd9e8041f8b')\"\n",
              "              title=\"Convert this dataframe to an interactive table.\"\n",
              "              style=\"display:none;\">\n",
              "        \n",
              "  <svg xmlns=\"http://www.w3.org/2000/svg\" height=\"24px\"viewBox=\"0 0 24 24\"\n",
              "       width=\"24px\">\n",
              "    <path d=\"M0 0h24v24H0V0z\" fill=\"none\"/>\n",
              "    <path d=\"M18.56 5.44l.94 2.06.94-2.06 2.06-.94-2.06-.94-.94-2.06-.94 2.06-2.06.94zm-11 1L8.5 8.5l.94-2.06 2.06-.94-2.06-.94L8.5 2.5l-.94 2.06-2.06.94zm10 10l.94 2.06.94-2.06 2.06-.94-2.06-.94-.94-2.06-.94 2.06-2.06.94z\"/><path d=\"M17.41 7.96l-1.37-1.37c-.4-.4-.92-.59-1.43-.59-.52 0-1.04.2-1.43.59L10.3 9.45l-7.72 7.72c-.78.78-.78 2.05 0 2.83L4 21.41c.39.39.9.59 1.41.59.51 0 1.02-.2 1.41-.59l7.78-7.78 2.81-2.81c.8-.78.8-2.07 0-2.86zM5.41 20L4 18.59l7.72-7.72 1.47 1.35L5.41 20z\"/>\n",
              "  </svg>\n",
              "      </button>\n",
              "      \n",
              "  <style>\n",
              "    .colab-df-container {\n",
              "      display:flex;\n",
              "      flex-wrap:wrap;\n",
              "      gap: 12px;\n",
              "    }\n",
              "\n",
              "    .colab-df-convert {\n",
              "      background-color: #E8F0FE;\n",
              "      border: none;\n",
              "      border-radius: 50%;\n",
              "      cursor: pointer;\n",
              "      display: none;\n",
              "      fill: #1967D2;\n",
              "      height: 32px;\n",
              "      padding: 0 0 0 0;\n",
              "      width: 32px;\n",
              "    }\n",
              "\n",
              "    .colab-df-convert:hover {\n",
              "      background-color: #E2EBFA;\n",
              "      box-shadow: 0px 1px 2px rgba(60, 64, 67, 0.3), 0px 1px 3px 1px rgba(60, 64, 67, 0.15);\n",
              "      fill: #174EA6;\n",
              "    }\n",
              "\n",
              "    [theme=dark] .colab-df-convert {\n",
              "      background-color: #3B4455;\n",
              "      fill: #D2E3FC;\n",
              "    }\n",
              "\n",
              "    [theme=dark] .colab-df-convert:hover {\n",
              "      background-color: #434B5C;\n",
              "      box-shadow: 0px 1px 3px 1px rgba(0, 0, 0, 0.15);\n",
              "      filter: drop-shadow(0px 1px 2px rgba(0, 0, 0, 0.3));\n",
              "      fill: #FFFFFF;\n",
              "    }\n",
              "  </style>\n",
              "\n",
              "      <script>\n",
              "        const buttonEl =\n",
              "          document.querySelector('#df-d598526a-ed84-4532-9c22-ddd9e8041f8b button.colab-df-convert');\n",
              "        buttonEl.style.display =\n",
              "          google.colab.kernel.accessAllowed ? 'block' : 'none';\n",
              "\n",
              "        async function convertToInteractive(key) {\n",
              "          const element = document.querySelector('#df-d598526a-ed84-4532-9c22-ddd9e8041f8b');\n",
              "          const dataTable =\n",
              "            await google.colab.kernel.invokeFunction('convertToInteractive',\n",
              "                                                     [key], {});\n",
              "          if (!dataTable) return;\n",
              "\n",
              "          const docLinkHtml = 'Like what you see? Visit the ' +\n",
              "            '<a target=\"_blank\" href=https://colab.research.google.com/notebooks/data_table.ipynb>data table notebook</a>'\n",
              "            + ' to learn more about interactive tables.';\n",
              "          element.innerHTML = '';\n",
              "          dataTable['output_type'] = 'display_data';\n",
              "          await google.colab.output.renderOutput(dataTable, element);\n",
              "          const docLink = document.createElement('div');\n",
              "          docLink.innerHTML = docLinkHtml;\n",
              "          element.appendChild(docLink);\n",
              "        }\n",
              "      </script>\n",
              "    </div>\n",
              "  </div>\n",
              "  "
            ]
          },
          "metadata": {},
          "execution_count": 82
        }
      ]
    },
    {
      "cell_type": "code",
      "source": [
        "df.to_csv('/content/grive/MyDrive/xgboostwithskewed_round.csv')"
      ],
      "metadata": {
        "id": "mXYEyC-XtiPF"
      },
      "execution_count": null,
      "outputs": []
    },
    {
      "cell_type": "code",
      "source": [
        ""
      ],
      "metadata": {
        "id": "rcwMUg-ithmt"
      },
      "execution_count": null,
      "outputs": []
    },
    {
      "cell_type": "code",
      "source": [
        ""
      ],
      "metadata": {
        "id": "k1V97oDFthrc"
      },
      "execution_count": null,
      "outputs": []
    },
    {
      "cell_type": "markdown",
      "source": [
        "###Hyper tuning our model (Linear regression) "
      ],
      "metadata": {
        "id": "6kSk3WUkOsrb"
      }
    },
    {
      "cell_type": "code",
      "source": [
        "# loading modules \n",
        "from sklearn.linear_model import LinearRegression,Ridge, ElasticNet, Lasso"
      ],
      "metadata": {
        "id": "6-v6WSPq8g9f"
      },
      "execution_count": null,
      "outputs": []
    },
    {
      "cell_type": "code",
      "source": [
        "x_valid.shape , y_valid.shape"
      ],
      "metadata": {
        "colab": {
          "base_uri": "https://localhost:8080/"
        },
        "id": "49Sf0M-l9oAP",
        "outputId": "25ad6e29-0eae-46b0-8e6c-5d2ee0c6259d"
      },
      "execution_count": null,
      "outputs": [
        {
          "output_type": "execute_result",
          "data": {
            "text/plain": [
              "((3650, 5), (3650,))"
            ]
          },
          "metadata": {},
          "execution_count": 85
        }
      ]
    },
    {
      "cell_type": "code",
      "source": [
        "#  l-1 regularization hyper parameter tunning \n",
        "\n",
        "listnumbers=[-1,0.0001,0.001,0.1,0,1,2]\n",
        "for i in listnumbers:\n",
        "  lr_l1 = Lasso(alpha=i)\n",
        "  lr_l1.fit(x_train, y_train)\n",
        "  y_pred=lr_l1.predict(x_valid)\n",
        "  print(i)\n",
        "  print(\"Root mean square error for i is:\",sqrt(mean_squared_error(y_pred,y_valid)))"
      ],
      "metadata": {
        "colab": {
          "base_uri": "https://localhost:8080/"
        },
        "id": "d7e-rEOP8h9g",
        "outputId": "a26bbd1f-11df-480a-85f9-0cc642da2369"
      },
      "execution_count": null,
      "outputs": [
        {
          "output_type": "stream",
          "name": "stdout",
          "text": [
            "-1\n",
            "Root mean square error for i is: 43.67163478050024\n",
            "0.0001\n",
            "Root mean square error for i is: 43.82450650471289\n",
            "0.001\n",
            "Root mean square error for i is: 43.82487965919299\n",
            "0.1\n",
            "Root mean square error for i is: 43.86840528187508\n",
            "0\n",
            "Root mean square error for i is: 43.824465046405265\n",
            "1\n",
            "Root mean square error for i is: 44.43697910577949\n",
            "2\n",
            "Root mean square error for i is: 44.57884076227208\n"
          ]
        },
        {
          "output_type": "stream",
          "name": "stderr",
          "text": [
            "/usr/local/lib/python3.7/dist-packages/sklearn/linear_model/_coordinate_descent.py:648: ConvergenceWarning: Objective did not converge. You might want to increase the number of iterations, check the scale of the features or consider increasing regularisation. Duality gap: 4.530e+07, tolerance: 2.416e+03 Linear regression models with null weight for the l1 regularization term are more efficiently fitted using one of the solvers implemented in sklearn.linear_model.Ridge/RidgeCV instead.\n",
            "  coef_, l1_reg, l2_reg, X, y, max_iter, tol, rng, random, positive\n",
            "/usr/local/lib/python3.7/dist-packages/ipykernel_launcher.py:6: UserWarning: With alpha=0, this algorithm does not converge well. You are advised to use the LinearRegression estimator\n",
            "  \n",
            "/usr/local/lib/python3.7/dist-packages/sklearn/linear_model/_coordinate_descent.py:648: UserWarning: Coordinate descent with no regularization may lead to unexpected results and is discouraged.\n",
            "  coef_, l1_reg, l2_reg, X, y, max_iter, tol, rng, random, positive\n",
            "/usr/local/lib/python3.7/dist-packages/sklearn/linear_model/_coordinate_descent.py:648: ConvergenceWarning: Objective did not converge. You might want to increase the number of iterations, check the scale of the features or consider increasing regularisation. Duality gap: 1.146e+07, tolerance: 2.416e+03 Linear regression models with null weight for the l1 regularization term are more efficiently fitted using one of the solvers implemented in sklearn.linear_model.Ridge/RidgeCV instead.\n",
            "  coef_, l1_reg, l2_reg, X, y, max_iter, tol, rng, random, positive\n"
          ]
        }
      ]
    },
    {
      "cell_type": "code",
      "source": [
        "# L-2 regularisation hyper paraeter tunning \n",
        "\n",
        "list_l2=[0,0.0001,0.001,0.01,0,1,2,5,7,9,0.00000001]\n",
        "for i in list_l2:\n",
        "  lr_l2 = Ridge(alpha=i)\n",
        "  lr_l2.fit(x_train, y_train)\n",
        "  y_pred_l2=lr_l2.predict(x_valid)\n",
        "  print(i)\n",
        "  print(\"Root mean square error for i is:\",sqrt(mean_squared_error(y_pred_l2,y_valid)))"
      ],
      "metadata": {
        "colab": {
          "base_uri": "https://localhost:8080/"
        },
        "id": "6FX7UNXS8iKX",
        "outputId": "ff0aa008-44f9-4534-fc76-1d33e927791f"
      },
      "execution_count": null,
      "outputs": [
        {
          "output_type": "stream",
          "name": "stdout",
          "text": [
            "0\n",
            "Root mean square error for i is: 43.824465046405265\n",
            "0.0001\n",
            "Root mean square error for i is: 43.82446505462312\n",
            "0.001\n",
            "Root mean square error for i is: 43.824465128583725\n",
            "0.01\n",
            "Root mean square error for i is: 43.824465868189726\n",
            "0\n",
            "Root mean square error for i is: 43.824465046405265\n",
            "1\n",
            "Root mean square error for i is: 43.82454722391092\n",
            "2\n",
            "Root mean square error for i is: 43.82462939951319\n",
            "5\n",
            "Root mean square error for i is: 43.8248759148396\n",
            "7\n",
            "Root mean square error for i is: 43.82504024876355\n",
            "9\n",
            "Root mean square error for i is: 43.82520457493004\n",
            "1e-08\n",
            "Root mean square error for i is: 43.8244650464061\n"
          ]
        }
      ]
    },
    {
      "cell_type": "code",
      "source": [
        "# L-1 and L-2 regularisation hyper parameter tunning.\n",
        "\n",
        "alpha=[0.00001,0.0001,0.001,0.01,0.1,0,1,2,5,6,8,10,12]\n",
        "l1ratio=[0.00005,0.0005,0.005,0.05,0.5,0,1,2,5,6,8,10,12]\n",
        "for i in alpha:\n",
        "  for j in l1ratio:\n",
        "    lr_el = ElasticNet(alpha=1.0,l1_ratio=0.5)\n",
        "    lr_el.fit(x_train, y_train)\n",
        "    y_pred_el=lr_el.predict(x_valid)\n",
        "    print(\"aplha:\",i)\n",
        "    print(\"l1ratio:\",j)\n",
        "    print(\"Root mean square error for i is:\",sqrt(mean_squared_error(y_pred_el,y_valid)))"
      ],
      "metadata": {
        "colab": {
          "base_uri": "https://localhost:8080/"
        },
        "id": "oLAv1N0o8iNr",
        "outputId": "df85dd3a-7a2e-469d-fed0-e2cb661e486e"
      },
      "execution_count": null,
      "outputs": [
        {
          "output_type": "stream",
          "name": "stdout",
          "text": [
            "aplha: 1e-05\n",
            "l1ratio: 5e-05\n",
            "Root mean square error for i is: 44.49363148532595\n",
            "aplha: 1e-05\n",
            "l1ratio: 0.0005\n",
            "Root mean square error for i is: 44.49363148532595\n",
            "aplha: 1e-05\n",
            "l1ratio: 0.005\n",
            "Root mean square error for i is: 44.49363148532595\n",
            "aplha: 1e-05\n",
            "l1ratio: 0.05\n",
            "Root mean square error for i is: 44.49363148532595\n",
            "aplha: 1e-05\n",
            "l1ratio: 0.5\n",
            "Root mean square error for i is: 44.49363148532595\n",
            "aplha: 1e-05\n",
            "l1ratio: 0\n",
            "Root mean square error for i is: 44.49363148532595\n",
            "aplha: 1e-05\n",
            "l1ratio: 1\n",
            "Root mean square error for i is: 44.49363148532595\n",
            "aplha: 1e-05\n",
            "l1ratio: 2\n",
            "Root mean square error for i is: 44.49363148532595\n",
            "aplha: 1e-05\n",
            "l1ratio: 5\n",
            "Root mean square error for i is: 44.49363148532595\n",
            "aplha: 1e-05\n",
            "l1ratio: 6\n",
            "Root mean square error for i is: 44.49363148532595\n",
            "aplha: 1e-05\n",
            "l1ratio: 8\n",
            "Root mean square error for i is: 44.49363148532595\n",
            "aplha: 1e-05\n",
            "l1ratio: 10\n",
            "Root mean square error for i is: 44.49363148532595\n",
            "aplha: 1e-05\n",
            "l1ratio: 12\n",
            "Root mean square error for i is: 44.49363148532595\n",
            "aplha: 0.0001\n",
            "l1ratio: 5e-05\n",
            "Root mean square error for i is: 44.49363148532595\n",
            "aplha: 0.0001\n",
            "l1ratio: 0.0005\n",
            "Root mean square error for i is: 44.49363148532595\n",
            "aplha: 0.0001\n",
            "l1ratio: 0.005\n",
            "Root mean square error for i is: 44.49363148532595\n",
            "aplha: 0.0001\n",
            "l1ratio: 0.05\n",
            "Root mean square error for i is: 44.49363148532595\n",
            "aplha: 0.0001\n",
            "l1ratio: 0.5\n",
            "Root mean square error for i is: 44.49363148532595\n",
            "aplha: 0.0001\n",
            "l1ratio: 0\n",
            "Root mean square error for i is: 44.49363148532595\n",
            "aplha: 0.0001\n",
            "l1ratio: 1\n",
            "Root mean square error for i is: 44.49363148532595\n",
            "aplha: 0.0001\n",
            "l1ratio: 2\n",
            "Root mean square error for i is: 44.49363148532595\n",
            "aplha: 0.0001\n",
            "l1ratio: 5\n",
            "Root mean square error for i is: 44.49363148532595\n",
            "aplha: 0.0001\n",
            "l1ratio: 6\n",
            "Root mean square error for i is: 44.49363148532595\n",
            "aplha: 0.0001\n",
            "l1ratio: 8\n",
            "Root mean square error for i is: 44.49363148532595\n",
            "aplha: 0.0001\n",
            "l1ratio: 10\n",
            "Root mean square error for i is: 44.49363148532595\n",
            "aplha: 0.0001\n",
            "l1ratio: 12\n",
            "Root mean square error for i is: 44.49363148532595\n",
            "aplha: 0.001\n",
            "l1ratio: 5e-05\n",
            "Root mean square error for i is: 44.49363148532595\n",
            "aplha: 0.001\n",
            "l1ratio: 0.0005\n",
            "Root mean square error for i is: 44.49363148532595\n",
            "aplha: 0.001\n",
            "l1ratio: 0.005\n",
            "Root mean square error for i is: 44.49363148532595\n",
            "aplha: 0.001\n",
            "l1ratio: 0.05\n",
            "Root mean square error for i is: 44.49363148532595\n",
            "aplha: 0.001\n",
            "l1ratio: 0.5\n",
            "Root mean square error for i is: 44.49363148532595\n",
            "aplha: 0.001\n",
            "l1ratio: 0\n",
            "Root mean square error for i is: 44.49363148532595\n",
            "aplha: 0.001\n",
            "l1ratio: 1\n",
            "Root mean square error for i is: 44.49363148532595\n",
            "aplha: 0.001\n",
            "l1ratio: 2\n",
            "Root mean square error for i is: 44.49363148532595\n",
            "aplha: 0.001\n",
            "l1ratio: 5\n",
            "Root mean square error for i is: 44.49363148532595\n",
            "aplha: 0.001\n",
            "l1ratio: 6\n",
            "Root mean square error for i is: 44.49363148532595\n",
            "aplha: 0.001\n",
            "l1ratio: 8\n",
            "Root mean square error for i is: 44.49363148532595\n",
            "aplha: 0.001\n",
            "l1ratio: 10\n",
            "Root mean square error for i is: 44.49363148532595\n",
            "aplha: 0.001\n",
            "l1ratio: 12\n",
            "Root mean square error for i is: 44.49363148532595\n",
            "aplha: 0.01\n",
            "l1ratio: 5e-05\n",
            "Root mean square error for i is: 44.49363148532595\n",
            "aplha: 0.01\n",
            "l1ratio: 0.0005\n",
            "Root mean square error for i is: 44.49363148532595\n",
            "aplha: 0.01\n",
            "l1ratio: 0.005\n",
            "Root mean square error for i is: 44.49363148532595\n",
            "aplha: 0.01\n",
            "l1ratio: 0.05\n",
            "Root mean square error for i is: 44.49363148532595\n",
            "aplha: 0.01\n",
            "l1ratio: 0.5\n",
            "Root mean square error for i is: 44.49363148532595\n",
            "aplha: 0.01\n",
            "l1ratio: 0\n",
            "Root mean square error for i is: 44.49363148532595\n",
            "aplha: 0.01\n",
            "l1ratio: 1\n",
            "Root mean square error for i is: 44.49363148532595\n",
            "aplha: 0.01\n",
            "l1ratio: 2\n",
            "Root mean square error for i is: 44.49363148532595\n",
            "aplha: 0.01\n",
            "l1ratio: 5\n",
            "Root mean square error for i is: 44.49363148532595\n",
            "aplha: 0.01\n",
            "l1ratio: 6\n",
            "Root mean square error for i is: 44.49363148532595\n",
            "aplha: 0.01\n",
            "l1ratio: 8\n",
            "Root mean square error for i is: 44.49363148532595\n",
            "aplha: 0.01\n",
            "l1ratio: 10\n",
            "Root mean square error for i is: 44.49363148532595\n",
            "aplha: 0.01\n",
            "l1ratio: 12\n",
            "Root mean square error for i is: 44.49363148532595\n",
            "aplha: 0.1\n",
            "l1ratio: 5e-05\n",
            "Root mean square error for i is: 44.49363148532595\n",
            "aplha: 0.1\n",
            "l1ratio: 0.0005\n",
            "Root mean square error for i is: 44.49363148532595\n",
            "aplha: 0.1\n",
            "l1ratio: 0.005\n",
            "Root mean square error for i is: 44.49363148532595\n",
            "aplha: 0.1\n",
            "l1ratio: 0.05\n",
            "Root mean square error for i is: 44.49363148532595\n",
            "aplha: 0.1\n",
            "l1ratio: 0.5\n",
            "Root mean square error for i is: 44.49363148532595\n",
            "aplha: 0.1\n",
            "l1ratio: 0\n",
            "Root mean square error for i is: 44.49363148532595\n",
            "aplha: 0.1\n",
            "l1ratio: 1\n",
            "Root mean square error for i is: 44.49363148532595\n",
            "aplha: 0.1\n",
            "l1ratio: 2\n",
            "Root mean square error for i is: 44.49363148532595\n",
            "aplha: 0.1\n",
            "l1ratio: 5\n",
            "Root mean square error for i is: 44.49363148532595\n",
            "aplha: 0.1\n",
            "l1ratio: 6\n",
            "Root mean square error for i is: 44.49363148532595\n",
            "aplha: 0.1\n",
            "l1ratio: 8\n",
            "Root mean square error for i is: 44.49363148532595\n",
            "aplha: 0.1\n",
            "l1ratio: 10\n",
            "Root mean square error for i is: 44.49363148532595\n",
            "aplha: 0.1\n",
            "l1ratio: 12\n",
            "Root mean square error for i is: 44.49363148532595\n",
            "aplha: 0\n",
            "l1ratio: 5e-05\n",
            "Root mean square error for i is: 44.49363148532595\n",
            "aplha: 0\n",
            "l1ratio: 0.0005\n",
            "Root mean square error for i is: 44.49363148532595\n",
            "aplha: 0\n",
            "l1ratio: 0.005\n",
            "Root mean square error for i is: 44.49363148532595\n",
            "aplha: 0\n",
            "l1ratio: 0.05\n",
            "Root mean square error for i is: 44.49363148532595\n",
            "aplha: 0\n",
            "l1ratio: 0.5\n",
            "Root mean square error for i is: 44.49363148532595\n",
            "aplha: 0\n",
            "l1ratio: 0\n",
            "Root mean square error for i is: 44.49363148532595\n",
            "aplha: 0\n",
            "l1ratio: 1\n",
            "Root mean square error for i is: 44.49363148532595\n",
            "aplha: 0\n",
            "l1ratio: 2\n",
            "Root mean square error for i is: 44.49363148532595\n",
            "aplha: 0\n",
            "l1ratio: 5\n",
            "Root mean square error for i is: 44.49363148532595\n",
            "aplha: 0\n",
            "l1ratio: 6\n",
            "Root mean square error for i is: 44.49363148532595\n",
            "aplha: 0\n",
            "l1ratio: 8\n",
            "Root mean square error for i is: 44.49363148532595\n",
            "aplha: 0\n",
            "l1ratio: 10\n",
            "Root mean square error for i is: 44.49363148532595\n",
            "aplha: 0\n",
            "l1ratio: 12\n",
            "Root mean square error for i is: 44.49363148532595\n",
            "aplha: 1\n",
            "l1ratio: 5e-05\n",
            "Root mean square error for i is: 44.49363148532595\n",
            "aplha: 1\n",
            "l1ratio: 0.0005\n",
            "Root mean square error for i is: 44.49363148532595\n",
            "aplha: 1\n",
            "l1ratio: 0.005\n",
            "Root mean square error for i is: 44.49363148532595\n",
            "aplha: 1\n",
            "l1ratio: 0.05\n",
            "Root mean square error for i is: 44.49363148532595\n",
            "aplha: 1\n",
            "l1ratio: 0.5\n",
            "Root mean square error for i is: 44.49363148532595\n",
            "aplha: 1\n",
            "l1ratio: 0\n",
            "Root mean square error for i is: 44.49363148532595\n",
            "aplha: 1\n",
            "l1ratio: 1\n",
            "Root mean square error for i is: 44.49363148532595\n",
            "aplha: 1\n",
            "l1ratio: 2\n",
            "Root mean square error for i is: 44.49363148532595\n",
            "aplha: 1\n",
            "l1ratio: 5\n",
            "Root mean square error for i is: 44.49363148532595\n",
            "aplha: 1\n",
            "l1ratio: 6\n",
            "Root mean square error for i is: 44.49363148532595\n",
            "aplha: 1\n",
            "l1ratio: 8\n",
            "Root mean square error for i is: 44.49363148532595\n",
            "aplha: 1\n",
            "l1ratio: 10\n",
            "Root mean square error for i is: 44.49363148532595\n",
            "aplha: 1\n",
            "l1ratio: 12\n",
            "Root mean square error for i is: 44.49363148532595\n",
            "aplha: 2\n",
            "l1ratio: 5e-05\n",
            "Root mean square error for i is: 44.49363148532595\n",
            "aplha: 2\n",
            "l1ratio: 0.0005\n",
            "Root mean square error for i is: 44.49363148532595\n",
            "aplha: 2\n",
            "l1ratio: 0.005\n",
            "Root mean square error for i is: 44.49363148532595\n",
            "aplha: 2\n",
            "l1ratio: 0.05\n",
            "Root mean square error for i is: 44.49363148532595\n",
            "aplha: 2\n",
            "l1ratio: 0.5\n",
            "Root mean square error for i is: 44.49363148532595\n",
            "aplha: 2\n",
            "l1ratio: 0\n",
            "Root mean square error for i is: 44.49363148532595\n",
            "aplha: 2\n",
            "l1ratio: 1\n",
            "Root mean square error for i is: 44.49363148532595\n",
            "aplha: 2\n",
            "l1ratio: 2\n",
            "Root mean square error for i is: 44.49363148532595\n",
            "aplha: 2\n",
            "l1ratio: 5\n",
            "Root mean square error for i is: 44.49363148532595\n",
            "aplha: 2\n",
            "l1ratio: 6\n",
            "Root mean square error for i is: 44.49363148532595\n",
            "aplha: 2\n",
            "l1ratio: 8\n",
            "Root mean square error for i is: 44.49363148532595\n",
            "aplha: 2\n",
            "l1ratio: 10\n",
            "Root mean square error for i is: 44.49363148532595\n",
            "aplha: 2\n",
            "l1ratio: 12\n",
            "Root mean square error for i is: 44.49363148532595\n",
            "aplha: 5\n",
            "l1ratio: 5e-05\n",
            "Root mean square error for i is: 44.49363148532595\n",
            "aplha: 5\n",
            "l1ratio: 0.0005\n",
            "Root mean square error for i is: 44.49363148532595\n",
            "aplha: 5\n",
            "l1ratio: 0.005\n",
            "Root mean square error for i is: 44.49363148532595\n",
            "aplha: 5\n",
            "l1ratio: 0.05\n",
            "Root mean square error for i is: 44.49363148532595\n",
            "aplha: 5\n",
            "l1ratio: 0.5\n",
            "Root mean square error for i is: 44.49363148532595\n",
            "aplha: 5\n",
            "l1ratio: 0\n",
            "Root mean square error for i is: 44.49363148532595\n",
            "aplha: 5\n",
            "l1ratio: 1\n",
            "Root mean square error for i is: 44.49363148532595\n",
            "aplha: 5\n",
            "l1ratio: 2\n",
            "Root mean square error for i is: 44.49363148532595\n",
            "aplha: 5\n",
            "l1ratio: 5\n",
            "Root mean square error for i is: 44.49363148532595\n",
            "aplha: 5\n",
            "l1ratio: 6\n",
            "Root mean square error for i is: 44.49363148532595\n",
            "aplha: 5\n",
            "l1ratio: 8\n",
            "Root mean square error for i is: 44.49363148532595\n",
            "aplha: 5\n",
            "l1ratio: 10\n",
            "Root mean square error for i is: 44.49363148532595\n",
            "aplha: 5\n",
            "l1ratio: 12\n",
            "Root mean square error for i is: 44.49363148532595\n",
            "aplha: 6\n",
            "l1ratio: 5e-05\n",
            "Root mean square error for i is: 44.49363148532595\n",
            "aplha: 6\n",
            "l1ratio: 0.0005\n",
            "Root mean square error for i is: 44.49363148532595\n",
            "aplha: 6\n",
            "l1ratio: 0.005\n",
            "Root mean square error for i is: 44.49363148532595\n",
            "aplha: 6\n",
            "l1ratio: 0.05\n",
            "Root mean square error for i is: 44.49363148532595\n",
            "aplha: 6\n",
            "l1ratio: 0.5\n",
            "Root mean square error for i is: 44.49363148532595\n",
            "aplha: 6\n",
            "l1ratio: 0\n",
            "Root mean square error for i is: 44.49363148532595\n",
            "aplha: 6\n",
            "l1ratio: 1\n",
            "Root mean square error for i is: 44.49363148532595\n",
            "aplha: 6\n",
            "l1ratio: 2\n",
            "Root mean square error for i is: 44.49363148532595\n",
            "aplha: 6\n",
            "l1ratio: 5\n",
            "Root mean square error for i is: 44.49363148532595\n",
            "aplha: 6\n",
            "l1ratio: 6\n",
            "Root mean square error for i is: 44.49363148532595\n",
            "aplha: 6\n",
            "l1ratio: 8\n",
            "Root mean square error for i is: 44.49363148532595\n",
            "aplha: 6\n",
            "l1ratio: 10\n",
            "Root mean square error for i is: 44.49363148532595\n",
            "aplha: 6\n",
            "l1ratio: 12\n",
            "Root mean square error for i is: 44.49363148532595\n",
            "aplha: 8\n",
            "l1ratio: 5e-05\n",
            "Root mean square error for i is: 44.49363148532595\n",
            "aplha: 8\n",
            "l1ratio: 0.0005\n",
            "Root mean square error for i is: 44.49363148532595\n",
            "aplha: 8\n",
            "l1ratio: 0.005\n",
            "Root mean square error for i is: 44.49363148532595\n",
            "aplha: 8\n",
            "l1ratio: 0.05\n",
            "Root mean square error for i is: 44.49363148532595\n",
            "aplha: 8\n",
            "l1ratio: 0.5\n",
            "Root mean square error for i is: 44.49363148532595\n",
            "aplha: 8\n",
            "l1ratio: 0\n",
            "Root mean square error for i is: 44.49363148532595\n",
            "aplha: 8\n",
            "l1ratio: 1\n",
            "Root mean square error for i is: 44.49363148532595\n",
            "aplha: 8\n",
            "l1ratio: 2\n",
            "Root mean square error for i is: 44.49363148532595\n",
            "aplha: 8\n",
            "l1ratio: 5\n",
            "Root mean square error for i is: 44.49363148532595\n",
            "aplha: 8\n",
            "l1ratio: 6\n",
            "Root mean square error for i is: 44.49363148532595\n",
            "aplha: 8\n",
            "l1ratio: 8\n",
            "Root mean square error for i is: 44.49363148532595\n",
            "aplha: 8\n",
            "l1ratio: 10\n",
            "Root mean square error for i is: 44.49363148532595\n",
            "aplha: 8\n",
            "l1ratio: 12\n",
            "Root mean square error for i is: 44.49363148532595\n",
            "aplha: 10\n",
            "l1ratio: 5e-05\n",
            "Root mean square error for i is: 44.49363148532595\n",
            "aplha: 10\n",
            "l1ratio: 0.0005\n",
            "Root mean square error for i is: 44.49363148532595\n",
            "aplha: 10\n",
            "l1ratio: 0.005\n",
            "Root mean square error for i is: 44.49363148532595\n",
            "aplha: 10\n",
            "l1ratio: 0.05\n",
            "Root mean square error for i is: 44.49363148532595\n",
            "aplha: 10\n",
            "l1ratio: 0.5\n",
            "Root mean square error for i is: 44.49363148532595\n",
            "aplha: 10\n",
            "l1ratio: 0\n",
            "Root mean square error for i is: 44.49363148532595\n",
            "aplha: 10\n",
            "l1ratio: 1\n",
            "Root mean square error for i is: 44.49363148532595\n",
            "aplha: 10\n",
            "l1ratio: 2\n",
            "Root mean square error for i is: 44.49363148532595\n",
            "aplha: 10\n",
            "l1ratio: 5\n",
            "Root mean square error for i is: 44.49363148532595\n",
            "aplha: 10\n",
            "l1ratio: 6\n",
            "Root mean square error for i is: 44.49363148532595\n",
            "aplha: 10\n",
            "l1ratio: 8\n",
            "Root mean square error for i is: 44.49363148532595\n",
            "aplha: 10\n",
            "l1ratio: 10\n",
            "Root mean square error for i is: 44.49363148532595\n",
            "aplha: 10\n",
            "l1ratio: 12\n",
            "Root mean square error for i is: 44.49363148532595\n",
            "aplha: 12\n",
            "l1ratio: 5e-05\n",
            "Root mean square error for i is: 44.49363148532595\n",
            "aplha: 12\n",
            "l1ratio: 0.0005\n",
            "Root mean square error for i is: 44.49363148532595\n",
            "aplha: 12\n",
            "l1ratio: 0.005\n",
            "Root mean square error for i is: 44.49363148532595\n",
            "aplha: 12\n",
            "l1ratio: 0.05\n",
            "Root mean square error for i is: 44.49363148532595\n",
            "aplha: 12\n",
            "l1ratio: 0.5\n",
            "Root mean square error for i is: 44.49363148532595\n",
            "aplha: 12\n",
            "l1ratio: 0\n",
            "Root mean square error for i is: 44.49363148532595\n",
            "aplha: 12\n",
            "l1ratio: 1\n",
            "Root mean square error for i is: 44.49363148532595\n",
            "aplha: 12\n",
            "l1ratio: 2\n",
            "Root mean square error for i is: 44.49363148532595\n",
            "aplha: 12\n",
            "l1ratio: 5\n",
            "Root mean square error for i is: 44.49363148532595\n",
            "aplha: 12\n",
            "l1ratio: 6\n",
            "Root mean square error for i is: 44.49363148532595\n",
            "aplha: 12\n",
            "l1ratio: 8\n",
            "Root mean square error for i is: 44.49363148532595\n",
            "aplha: 12\n",
            "l1ratio: 10\n",
            "Root mean square error for i is: 44.49363148532595\n",
            "aplha: 12\n",
            "l1ratio: 12\n",
            "Root mean square error for i is: 44.49363148532595\n"
          ]
        }
      ]
    },
    {
      "cell_type": "code",
      "source": [
        "# so we choose ridge regression as it's showing less RMSE value."
      ],
      "metadata": {
        "id": "U4ea3XUlrE3Y"
      },
      "execution_count": null,
      "outputs": []
    },
    {
      "cell_type": "code",
      "source": [
        "# final Linear regression with alpha 0.001 value final linear regresssion model.\n",
        "\n",
        "lr_l2 = Ridge(alpha=0.001)\n",
        "lr_l2.fit(x_train,y_train)\n",
        "pred = lr_l2.predict(x_valid)\n",
        "testscore = sqrt(mean_squared_error(y_valid,pred))\n",
        "print(testscore)"
      ],
      "metadata": {
        "colab": {
          "base_uri": "https://localhost:8080/"
        },
        "id": "pjRFDdcBugY5",
        "outputId": "b95017b6-9d6d-46f5-9720-fe810eb85aa7"
      },
      "execution_count": null,
      "outputs": [
        {
          "output_type": "stream",
          "name": "stdout",
          "text": [
            "43.824465128583725\n"
          ]
        }
      ]
    },
    {
      "cell_type": "code",
      "source": [
        "pred.shape"
      ],
      "metadata": {
        "colab": {
          "base_uri": "https://localhost:8080/"
        },
        "id": "rg9ITowY7PwS",
        "outputId": "699d9da7-5606-4eb8-bfd2-9cbbe9cdf604"
      },
      "execution_count": null,
      "outputs": [
        {
          "output_type": "execute_result",
          "data": {
            "text/plain": [
              "(3650,)"
            ]
          },
          "metadata": {},
          "execution_count": 91
        }
      ]
    },
    {
      "cell_type": "code",
      "source": [
        "# for lasso for -1 we got  low RMSE score\n",
        "lr_l1 = Lasso(alpha=-1)\n",
        "lr_l1.fit(x_train,y_train)\n",
        "pred_l = lr_l1.predict(x_valid)\n",
        "testscore = sqrt(mean_squared_error(y_valid,pred_l))\n",
        "print(testscore)"
      ],
      "metadata": {
        "colab": {
          "base_uri": "https://localhost:8080/"
        },
        "id": "_Ocd-3RB8vGB",
        "outputId": "0c31fac9-72dc-475b-f8d6-64c0701cbbf9"
      },
      "execution_count": null,
      "outputs": [
        {
          "output_type": "stream",
          "name": "stdout",
          "text": [
            "43.67163478050024\n"
          ]
        },
        {
          "output_type": "stream",
          "name": "stderr",
          "text": [
            "/usr/local/lib/python3.7/dist-packages/sklearn/linear_model/_coordinate_descent.py:648: ConvergenceWarning: Objective did not converge. You might want to increase the number of iterations, check the scale of the features or consider increasing regularisation. Duality gap: 4.530e+07, tolerance: 2.416e+03 Linear regression models with null weight for the l1 regularization term are more efficiently fitted using one of the solvers implemented in sklearn.linear_model.Ridge/RidgeCV instead.\n",
            "  coef_, l1_reg, l2_reg, X, y, max_iter, tol, rng, random, positive\n"
          ]
        }
      ]
    },
    {
      "cell_type": "markdown",
      "source": [
        "### Linear regresssion with test data"
      ],
      "metadata": {
        "id": "NejQx-hTPHYo"
      }
    },
    {
      "cell_type": "code",
      "source": [
        "#loading test data\n",
        "test = pd.read_csv('/content/grive/MyDrive/test_6QvDdzb.csv')"
      ],
      "metadata": {
        "id": "odBmVxuAughB"
      },
      "execution_count": null,
      "outputs": []
    },
    {
      "cell_type": "code",
      "source": [
        "test.shape"
      ],
      "metadata": {
        "colab": {
          "base_uri": "https://localhost:8080/"
        },
        "id": "IACPYvkxugkl",
        "outputId": "dea5bbd8-085a-4b08-c201-e3a48351e185"
      },
      "execution_count": null,
      "outputs": [
        {
          "output_type": "execute_result",
          "data": {
            "text/plain": [
              "(7650, 2)"
            ]
          },
          "metadata": {},
          "execution_count": 94
        }
      ]
    },
    {
      "cell_type": "code",
      "source": [
        "#FE on  test data \n",
        "test['month'] = pd.to_datetime(test['date']).dt.month\n",
        "test['year'] = pd.to_datetime(test['date']).dt.year\n",
        "test['date1']=pd.to_datetime(test['date']).dt.day\n",
        "test[\"week\"]=pd.to_datetime(test['date']).dt.dayofweek"
      ],
      "metadata": {
        "id": "jRKNPvpvugow"
      },
      "execution_count": null,
      "outputs": []
    },
    {
      "cell_type": "code",
      "source": [
        "test1=test.drop([\"date\"],axis=1)\n",
        "test1.shape"
      ],
      "metadata": {
        "colab": {
          "base_uri": "https://localhost:8080/"
        },
        "id": "NZgHZ5i0JbTc",
        "outputId": "9430314c-9a32-41c2-bc78-a0704280cf5a"
      },
      "execution_count": null,
      "outputs": [
        {
          "output_type": "execute_result",
          "data": {
            "text/plain": [
              "(7650, 5)"
            ]
          },
          "metadata": {},
          "execution_count": 96
        }
      ]
    },
    {
      "cell_type": "code",
      "source": [
        "# using ridge we are predicting it (l-2 )\n",
        "pred = lr_l2.predict(test1)\n"
      ],
      "metadata": {
        "id": "sEHczSunJbZr",
        "colab": {
          "base_uri": "https://localhost:8080/"
        },
        "outputId": "1219cf6a-cb62-4df3-efea-9acfaaa1537a"
      },
      "execution_count": null,
      "outputs": [
        {
          "output_type": "stream",
          "name": "stderr",
          "text": [
            "/usr/local/lib/python3.7/dist-packages/sklearn/base.py:444: UserWarning: X has feature names, but Ridge was fitted without feature names\n",
            "  f\"X has feature names, but {self.__class__.__name__} was fitted without\"\n"
          ]
        }
      ]
    },
    {
      "cell_type": "code",
      "source": [
        "pred.shape"
      ],
      "metadata": {
        "colab": {
          "base_uri": "https://localhost:8080/"
        },
        "id": "FkvbkDEP7hHX",
        "outputId": "fc122c94-90e7-45db-92e0-fef6d2f86153"
      },
      "execution_count": null,
      "outputs": [
        {
          "output_type": "execute_result",
          "data": {
            "text/plain": [
              "(7650,)"
            ]
          },
          "metadata": {},
          "execution_count": 98
        }
      ]
    },
    {
      "cell_type": "code",
      "source": [
        "j=pred"
      ],
      "metadata": {
        "id": "OJnBqQEM7jad"
      },
      "execution_count": null,
      "outputs": []
    },
    {
      "cell_type": "code",
      "source": [
        "demand=pd.DataFrame(j,columns=[\"outputprediction\"])"
      ],
      "metadata": {
        "id": "vVVxmqM3Jbcc"
      },
      "execution_count": null,
      "outputs": []
    },
    {
      "cell_type": "code",
      "source": [
        "demand  # output of test data "
      ],
      "metadata": {
        "colab": {
          "base_uri": "https://localhost:8080/",
          "height": 423
        },
        "id": "IrSMZahOJbe6",
        "outputId": "8e15d001-0539-4787-c50e-a068662a3645"
      },
      "execution_count": null,
      "outputs": [
        {
          "output_type": "execute_result",
          "data": {
            "text/plain": [
              "      outputprediction\n",
              "0          4554.787370\n",
              "1          4561.595178\n",
              "2          4568.402986\n",
              "3          4575.210794\n",
              "4          4588.826410\n",
              "...                ...\n",
              "7645       4648.560970\n",
              "7646       4655.368778\n",
              "7647       4662.176586\n",
              "7648       4668.984394\n",
              "7649       4675.792202\n",
              "\n",
              "[7650 rows x 1 columns]"
            ],
            "text/html": [
              "\n",
              "  <div id=\"df-fb7f9eea-3ca3-4707-832b-4ef12df29810\">\n",
              "    <div class=\"colab-df-container\">\n",
              "      <div>\n",
              "<style scoped>\n",
              "    .dataframe tbody tr th:only-of-type {\n",
              "        vertical-align: middle;\n",
              "    }\n",
              "\n",
              "    .dataframe tbody tr th {\n",
              "        vertical-align: top;\n",
              "    }\n",
              "\n",
              "    .dataframe thead th {\n",
              "        text-align: right;\n",
              "    }\n",
              "</style>\n",
              "<table border=\"1\" class=\"dataframe\">\n",
              "  <thead>\n",
              "    <tr style=\"text-align: right;\">\n",
              "      <th></th>\n",
              "      <th>outputprediction</th>\n",
              "    </tr>\n",
              "  </thead>\n",
              "  <tbody>\n",
              "    <tr>\n",
              "      <th>0</th>\n",
              "      <td>4554.787370</td>\n",
              "    </tr>\n",
              "    <tr>\n",
              "      <th>1</th>\n",
              "      <td>4561.595178</td>\n",
              "    </tr>\n",
              "    <tr>\n",
              "      <th>2</th>\n",
              "      <td>4568.402986</td>\n",
              "    </tr>\n",
              "    <tr>\n",
              "      <th>3</th>\n",
              "      <td>4575.210794</td>\n",
              "    </tr>\n",
              "    <tr>\n",
              "      <th>4</th>\n",
              "      <td>4588.826410</td>\n",
              "    </tr>\n",
              "    <tr>\n",
              "      <th>...</th>\n",
              "      <td>...</td>\n",
              "    </tr>\n",
              "    <tr>\n",
              "      <th>7645</th>\n",
              "      <td>4648.560970</td>\n",
              "    </tr>\n",
              "    <tr>\n",
              "      <th>7646</th>\n",
              "      <td>4655.368778</td>\n",
              "    </tr>\n",
              "    <tr>\n",
              "      <th>7647</th>\n",
              "      <td>4662.176586</td>\n",
              "    </tr>\n",
              "    <tr>\n",
              "      <th>7648</th>\n",
              "      <td>4668.984394</td>\n",
              "    </tr>\n",
              "    <tr>\n",
              "      <th>7649</th>\n",
              "      <td>4675.792202</td>\n",
              "    </tr>\n",
              "  </tbody>\n",
              "</table>\n",
              "<p>7650 rows × 1 columns</p>\n",
              "</div>\n",
              "      <button class=\"colab-df-convert\" onclick=\"convertToInteractive('df-fb7f9eea-3ca3-4707-832b-4ef12df29810')\"\n",
              "              title=\"Convert this dataframe to an interactive table.\"\n",
              "              style=\"display:none;\">\n",
              "        \n",
              "  <svg xmlns=\"http://www.w3.org/2000/svg\" height=\"24px\"viewBox=\"0 0 24 24\"\n",
              "       width=\"24px\">\n",
              "    <path d=\"M0 0h24v24H0V0z\" fill=\"none\"/>\n",
              "    <path d=\"M18.56 5.44l.94 2.06.94-2.06 2.06-.94-2.06-.94-.94-2.06-.94 2.06-2.06.94zm-11 1L8.5 8.5l.94-2.06 2.06-.94-2.06-.94L8.5 2.5l-.94 2.06-2.06.94zm10 10l.94 2.06.94-2.06 2.06-.94-2.06-.94-.94-2.06-.94 2.06-2.06.94z\"/><path d=\"M17.41 7.96l-1.37-1.37c-.4-.4-.92-.59-1.43-.59-.52 0-1.04.2-1.43.59L10.3 9.45l-7.72 7.72c-.78.78-.78 2.05 0 2.83L4 21.41c.39.39.9.59 1.41.59.51 0 1.02-.2 1.41-.59l7.78-7.78 2.81-2.81c.8-.78.8-2.07 0-2.86zM5.41 20L4 18.59l7.72-7.72 1.47 1.35L5.41 20z\"/>\n",
              "  </svg>\n",
              "      </button>\n",
              "      \n",
              "  <style>\n",
              "    .colab-df-container {\n",
              "      display:flex;\n",
              "      flex-wrap:wrap;\n",
              "      gap: 12px;\n",
              "    }\n",
              "\n",
              "    .colab-df-convert {\n",
              "      background-color: #E8F0FE;\n",
              "      border: none;\n",
              "      border-radius: 50%;\n",
              "      cursor: pointer;\n",
              "      display: none;\n",
              "      fill: #1967D2;\n",
              "      height: 32px;\n",
              "      padding: 0 0 0 0;\n",
              "      width: 32px;\n",
              "    }\n",
              "\n",
              "    .colab-df-convert:hover {\n",
              "      background-color: #E2EBFA;\n",
              "      box-shadow: 0px 1px 2px rgba(60, 64, 67, 0.3), 0px 1px 3px 1px rgba(60, 64, 67, 0.15);\n",
              "      fill: #174EA6;\n",
              "    }\n",
              "\n",
              "    [theme=dark] .colab-df-convert {\n",
              "      background-color: #3B4455;\n",
              "      fill: #D2E3FC;\n",
              "    }\n",
              "\n",
              "    [theme=dark] .colab-df-convert:hover {\n",
              "      background-color: #434B5C;\n",
              "      box-shadow: 0px 1px 3px 1px rgba(0, 0, 0, 0.15);\n",
              "      filter: drop-shadow(0px 1px 2px rgba(0, 0, 0, 0.3));\n",
              "      fill: #FFFFFF;\n",
              "    }\n",
              "  </style>\n",
              "\n",
              "      <script>\n",
              "        const buttonEl =\n",
              "          document.querySelector('#df-fb7f9eea-3ca3-4707-832b-4ef12df29810 button.colab-df-convert');\n",
              "        buttonEl.style.display =\n",
              "          google.colab.kernel.accessAllowed ? 'block' : 'none';\n",
              "\n",
              "        async function convertToInteractive(key) {\n",
              "          const element = document.querySelector('#df-fb7f9eea-3ca3-4707-832b-4ef12df29810');\n",
              "          const dataTable =\n",
              "            await google.colab.kernel.invokeFunction('convertToInteractive',\n",
              "                                                     [key], {});\n",
              "          if (!dataTable) return;\n",
              "\n",
              "          const docLinkHtml = 'Like what you see? Visit the ' +\n",
              "            '<a target=\"_blank\" href=https://colab.research.google.com/notebooks/data_table.ipynb>data table notebook</a>'\n",
              "            + ' to learn more about interactive tables.';\n",
              "          element.innerHTML = '';\n",
              "          dataTable['output_type'] = 'display_data';\n",
              "          await google.colab.output.renderOutput(dataTable, element);\n",
              "          const docLink = document.createElement('div');\n",
              "          docLink.innerHTML = docLinkHtml;\n",
              "          element.appendChild(docLink);\n",
              "        }\n",
              "      </script>\n",
              "    </div>\n",
              "  </div>\n",
              "  "
            ]
          },
          "metadata": {},
          "execution_count": 101
        }
      ]
    },
    {
      "cell_type": "code",
      "source": [
        "test_final=test = pd.read_csv('/content/grive/MyDrive/test_6QvDdzb.csv')"
      ],
      "metadata": {
        "id": "8s47__1eJbg_"
      },
      "execution_count": null,
      "outputs": []
    },
    {
      "cell_type": "code",
      "source": [
        "test_final[\"demand\"]=demand # adding demand value to test data"
      ],
      "metadata": {
        "id": "Y3APDVNkJbjf"
      },
      "execution_count": null,
      "outputs": []
    },
    {
      "cell_type": "code",
      "source": [
        "test_final[\"demand\"]=test_final[\"demand\"].apply(lambda x:round(x))"
      ],
      "metadata": {
        "id": "ZsU0LIw8LeTH"
      },
      "execution_count": null,
      "outputs": []
    },
    {
      "cell_type": "code",
      "source": [
        "test_final.head()"
      ],
      "metadata": {
        "colab": {
          "base_uri": "https://localhost:8080/",
          "height": 206
        },
        "id": "BMSwdVuDNOjN",
        "outputId": "a228464d-fc34-47b5-aa9c-e760b9f56eb5"
      },
      "execution_count": null,
      "outputs": [
        {
          "output_type": "execute_result",
          "data": {
            "text/plain": [
              "         date  hour  demand\n",
              "0  2021-03-01     0    4555\n",
              "1  2021-03-01     1    4562\n",
              "2  2021-03-01     2    4568\n",
              "3  2021-03-01     3    4575\n",
              "4  2021-03-01     5    4589"
            ],
            "text/html": [
              "\n",
              "  <div id=\"df-0e4c82f2-b140-42b9-a6a4-e50d8797466f\">\n",
              "    <div class=\"colab-df-container\">\n",
              "      <div>\n",
              "<style scoped>\n",
              "    .dataframe tbody tr th:only-of-type {\n",
              "        vertical-align: middle;\n",
              "    }\n",
              "\n",
              "    .dataframe tbody tr th {\n",
              "        vertical-align: top;\n",
              "    }\n",
              "\n",
              "    .dataframe thead th {\n",
              "        text-align: right;\n",
              "    }\n",
              "</style>\n",
              "<table border=\"1\" class=\"dataframe\">\n",
              "  <thead>\n",
              "    <tr style=\"text-align: right;\">\n",
              "      <th></th>\n",
              "      <th>date</th>\n",
              "      <th>hour</th>\n",
              "      <th>demand</th>\n",
              "    </tr>\n",
              "  </thead>\n",
              "  <tbody>\n",
              "    <tr>\n",
              "      <th>0</th>\n",
              "      <td>2021-03-01</td>\n",
              "      <td>0</td>\n",
              "      <td>4555</td>\n",
              "    </tr>\n",
              "    <tr>\n",
              "      <th>1</th>\n",
              "      <td>2021-03-01</td>\n",
              "      <td>1</td>\n",
              "      <td>4562</td>\n",
              "    </tr>\n",
              "    <tr>\n",
              "      <th>2</th>\n",
              "      <td>2021-03-01</td>\n",
              "      <td>2</td>\n",
              "      <td>4568</td>\n",
              "    </tr>\n",
              "    <tr>\n",
              "      <th>3</th>\n",
              "      <td>2021-03-01</td>\n",
              "      <td>3</td>\n",
              "      <td>4575</td>\n",
              "    </tr>\n",
              "    <tr>\n",
              "      <th>4</th>\n",
              "      <td>2021-03-01</td>\n",
              "      <td>5</td>\n",
              "      <td>4589</td>\n",
              "    </tr>\n",
              "  </tbody>\n",
              "</table>\n",
              "</div>\n",
              "      <button class=\"colab-df-convert\" onclick=\"convertToInteractive('df-0e4c82f2-b140-42b9-a6a4-e50d8797466f')\"\n",
              "              title=\"Convert this dataframe to an interactive table.\"\n",
              "              style=\"display:none;\">\n",
              "        \n",
              "  <svg xmlns=\"http://www.w3.org/2000/svg\" height=\"24px\"viewBox=\"0 0 24 24\"\n",
              "       width=\"24px\">\n",
              "    <path d=\"M0 0h24v24H0V0z\" fill=\"none\"/>\n",
              "    <path d=\"M18.56 5.44l.94 2.06.94-2.06 2.06-.94-2.06-.94-.94-2.06-.94 2.06-2.06.94zm-11 1L8.5 8.5l.94-2.06 2.06-.94-2.06-.94L8.5 2.5l-.94 2.06-2.06.94zm10 10l.94 2.06.94-2.06 2.06-.94-2.06-.94-.94-2.06-.94 2.06-2.06.94z\"/><path d=\"M17.41 7.96l-1.37-1.37c-.4-.4-.92-.59-1.43-.59-.52 0-1.04.2-1.43.59L10.3 9.45l-7.72 7.72c-.78.78-.78 2.05 0 2.83L4 21.41c.39.39.9.59 1.41.59.51 0 1.02-.2 1.41-.59l7.78-7.78 2.81-2.81c.8-.78.8-2.07 0-2.86zM5.41 20L4 18.59l7.72-7.72 1.47 1.35L5.41 20z\"/>\n",
              "  </svg>\n",
              "      </button>\n",
              "      \n",
              "  <style>\n",
              "    .colab-df-container {\n",
              "      display:flex;\n",
              "      flex-wrap:wrap;\n",
              "      gap: 12px;\n",
              "    }\n",
              "\n",
              "    .colab-df-convert {\n",
              "      background-color: #E8F0FE;\n",
              "      border: none;\n",
              "      border-radius: 50%;\n",
              "      cursor: pointer;\n",
              "      display: none;\n",
              "      fill: #1967D2;\n",
              "      height: 32px;\n",
              "      padding: 0 0 0 0;\n",
              "      width: 32px;\n",
              "    }\n",
              "\n",
              "    .colab-df-convert:hover {\n",
              "      background-color: #E2EBFA;\n",
              "      box-shadow: 0px 1px 2px rgba(60, 64, 67, 0.3), 0px 1px 3px 1px rgba(60, 64, 67, 0.15);\n",
              "      fill: #174EA6;\n",
              "    }\n",
              "\n",
              "    [theme=dark] .colab-df-convert {\n",
              "      background-color: #3B4455;\n",
              "      fill: #D2E3FC;\n",
              "    }\n",
              "\n",
              "    [theme=dark] .colab-df-convert:hover {\n",
              "      background-color: #434B5C;\n",
              "      box-shadow: 0px 1px 3px 1px rgba(0, 0, 0, 0.15);\n",
              "      filter: drop-shadow(0px 1px 2px rgba(0, 0, 0, 0.3));\n",
              "      fill: #FFFFFF;\n",
              "    }\n",
              "  </style>\n",
              "\n",
              "      <script>\n",
              "        const buttonEl =\n",
              "          document.querySelector('#df-0e4c82f2-b140-42b9-a6a4-e50d8797466f button.colab-df-convert');\n",
              "        buttonEl.style.display =\n",
              "          google.colab.kernel.accessAllowed ? 'block' : 'none';\n",
              "\n",
              "        async function convertToInteractive(key) {\n",
              "          const element = document.querySelector('#df-0e4c82f2-b140-42b9-a6a4-e50d8797466f');\n",
              "          const dataTable =\n",
              "            await google.colab.kernel.invokeFunction('convertToInteractive',\n",
              "                                                     [key], {});\n",
              "          if (!dataTable) return;\n",
              "\n",
              "          const docLinkHtml = 'Like what you see? Visit the ' +\n",
              "            '<a target=\"_blank\" href=https://colab.research.google.com/notebooks/data_table.ipynb>data table notebook</a>'\n",
              "            + ' to learn more about interactive tables.';\n",
              "          element.innerHTML = '';\n",
              "          dataTable['output_type'] = 'display_data';\n",
              "          await google.colab.output.renderOutput(dataTable, element);\n",
              "          const docLink = document.createElement('div');\n",
              "          docLink.innerHTML = docLinkHtml;\n",
              "          element.appendChild(docLink);\n",
              "        }\n",
              "      </script>\n",
              "    </div>\n",
              "  </div>\n",
              "  "
            ]
          },
          "metadata": {},
          "execution_count": 105
        }
      ]
    },
    {
      "cell_type": "code",
      "source": [
        "df=test_final.set_index(\"date\")"
      ],
      "metadata": {
        "id": "JQzJ87PMM_Vq"
      },
      "execution_count": null,
      "outputs": []
    },
    {
      "cell_type": "code",
      "source": [
        "df.head()"
      ],
      "metadata": {
        "colab": {
          "base_uri": "https://localhost:8080/",
          "height": 238
        },
        "id": "oDOKTWt4NUet",
        "outputId": "0fb23bf2-f1a6-439f-8305-e50a74da88be"
      },
      "execution_count": null,
      "outputs": [
        {
          "output_type": "execute_result",
          "data": {
            "text/plain": [
              "            hour  demand\n",
              "date                    \n",
              "2021-03-01     0    4555\n",
              "2021-03-01     1    4562\n",
              "2021-03-01     2    4568\n",
              "2021-03-01     3    4575\n",
              "2021-03-01     5    4589"
            ],
            "text/html": [
              "\n",
              "  <div id=\"df-9f4e3e60-bacb-426f-b2b7-262826e404fc\">\n",
              "    <div class=\"colab-df-container\">\n",
              "      <div>\n",
              "<style scoped>\n",
              "    .dataframe tbody tr th:only-of-type {\n",
              "        vertical-align: middle;\n",
              "    }\n",
              "\n",
              "    .dataframe tbody tr th {\n",
              "        vertical-align: top;\n",
              "    }\n",
              "\n",
              "    .dataframe thead th {\n",
              "        text-align: right;\n",
              "    }\n",
              "</style>\n",
              "<table border=\"1\" class=\"dataframe\">\n",
              "  <thead>\n",
              "    <tr style=\"text-align: right;\">\n",
              "      <th></th>\n",
              "      <th>hour</th>\n",
              "      <th>demand</th>\n",
              "    </tr>\n",
              "    <tr>\n",
              "      <th>date</th>\n",
              "      <th></th>\n",
              "      <th></th>\n",
              "    </tr>\n",
              "  </thead>\n",
              "  <tbody>\n",
              "    <tr>\n",
              "      <th>2021-03-01</th>\n",
              "      <td>0</td>\n",
              "      <td>4555</td>\n",
              "    </tr>\n",
              "    <tr>\n",
              "      <th>2021-03-01</th>\n",
              "      <td>1</td>\n",
              "      <td>4562</td>\n",
              "    </tr>\n",
              "    <tr>\n",
              "      <th>2021-03-01</th>\n",
              "      <td>2</td>\n",
              "      <td>4568</td>\n",
              "    </tr>\n",
              "    <tr>\n",
              "      <th>2021-03-01</th>\n",
              "      <td>3</td>\n",
              "      <td>4575</td>\n",
              "    </tr>\n",
              "    <tr>\n",
              "      <th>2021-03-01</th>\n",
              "      <td>5</td>\n",
              "      <td>4589</td>\n",
              "    </tr>\n",
              "  </tbody>\n",
              "</table>\n",
              "</div>\n",
              "      <button class=\"colab-df-convert\" onclick=\"convertToInteractive('df-9f4e3e60-bacb-426f-b2b7-262826e404fc')\"\n",
              "              title=\"Convert this dataframe to an interactive table.\"\n",
              "              style=\"display:none;\">\n",
              "        \n",
              "  <svg xmlns=\"http://www.w3.org/2000/svg\" height=\"24px\"viewBox=\"0 0 24 24\"\n",
              "       width=\"24px\">\n",
              "    <path d=\"M0 0h24v24H0V0z\" fill=\"none\"/>\n",
              "    <path d=\"M18.56 5.44l.94 2.06.94-2.06 2.06-.94-2.06-.94-.94-2.06-.94 2.06-2.06.94zm-11 1L8.5 8.5l.94-2.06 2.06-.94-2.06-.94L8.5 2.5l-.94 2.06-2.06.94zm10 10l.94 2.06.94-2.06 2.06-.94-2.06-.94-.94-2.06-.94 2.06-2.06.94z\"/><path d=\"M17.41 7.96l-1.37-1.37c-.4-.4-.92-.59-1.43-.59-.52 0-1.04.2-1.43.59L10.3 9.45l-7.72 7.72c-.78.78-.78 2.05 0 2.83L4 21.41c.39.39.9.59 1.41.59.51 0 1.02-.2 1.41-.59l7.78-7.78 2.81-2.81c.8-.78.8-2.07 0-2.86zM5.41 20L4 18.59l7.72-7.72 1.47 1.35L5.41 20z\"/>\n",
              "  </svg>\n",
              "      </button>\n",
              "      \n",
              "  <style>\n",
              "    .colab-df-container {\n",
              "      display:flex;\n",
              "      flex-wrap:wrap;\n",
              "      gap: 12px;\n",
              "    }\n",
              "\n",
              "    .colab-df-convert {\n",
              "      background-color: #E8F0FE;\n",
              "      border: none;\n",
              "      border-radius: 50%;\n",
              "      cursor: pointer;\n",
              "      display: none;\n",
              "      fill: #1967D2;\n",
              "      height: 32px;\n",
              "      padding: 0 0 0 0;\n",
              "      width: 32px;\n",
              "    }\n",
              "\n",
              "    .colab-df-convert:hover {\n",
              "      background-color: #E2EBFA;\n",
              "      box-shadow: 0px 1px 2px rgba(60, 64, 67, 0.3), 0px 1px 3px 1px rgba(60, 64, 67, 0.15);\n",
              "      fill: #174EA6;\n",
              "    }\n",
              "\n",
              "    [theme=dark] .colab-df-convert {\n",
              "      background-color: #3B4455;\n",
              "      fill: #D2E3FC;\n",
              "    }\n",
              "\n",
              "    [theme=dark] .colab-df-convert:hover {\n",
              "      background-color: #434B5C;\n",
              "      box-shadow: 0px 1px 3px 1px rgba(0, 0, 0, 0.15);\n",
              "      filter: drop-shadow(0px 1px 2px rgba(0, 0, 0, 0.3));\n",
              "      fill: #FFFFFF;\n",
              "    }\n",
              "  </style>\n",
              "\n",
              "      <script>\n",
              "        const buttonEl =\n",
              "          document.querySelector('#df-9f4e3e60-bacb-426f-b2b7-262826e404fc button.colab-df-convert');\n",
              "        buttonEl.style.display =\n",
              "          google.colab.kernel.accessAllowed ? 'block' : 'none';\n",
              "\n",
              "        async function convertToInteractive(key) {\n",
              "          const element = document.querySelector('#df-9f4e3e60-bacb-426f-b2b7-262826e404fc');\n",
              "          const dataTable =\n",
              "            await google.colab.kernel.invokeFunction('convertToInteractive',\n",
              "                                                     [key], {});\n",
              "          if (!dataTable) return;\n",
              "\n",
              "          const docLinkHtml = 'Like what you see? Visit the ' +\n",
              "            '<a target=\"_blank\" href=https://colab.research.google.com/notebooks/data_table.ipynb>data table notebook</a>'\n",
              "            + ' to learn more about interactive tables.';\n",
              "          element.innerHTML = '';\n",
              "          dataTable['output_type'] = 'display_data';\n",
              "          await google.colab.output.renderOutput(dataTable, element);\n",
              "          const docLink = document.createElement('div');\n",
              "          docLink.innerHTML = docLinkHtml;\n",
              "          element.appendChild(docLink);\n",
              "        }\n",
              "      </script>\n",
              "    </div>\n",
              "  </div>\n",
              "  "
            ]
          },
          "metadata": {},
          "execution_count": 107
        }
      ]
    },
    {
      "cell_type": "code",
      "source": [
        "df.to_csv('/content/grive/MyDrive/linearregression.csv')"
      ],
      "metadata": {
        "id": "pO8sK9vqLxh9"
      },
      "execution_count": null,
      "outputs": []
    },
    {
      "cell_type": "code",
      "source": [
        "# LASSO model ****************************************************************************************************************"
      ],
      "metadata": {
        "id": "xt787_G68M7v"
      },
      "execution_count": null,
      "outputs": []
    },
    {
      "cell_type": "code",
      "source": [
        "pred_l = lr_l1.predict(test1) # l1 regulrazation linear regression model."
      ],
      "metadata": {
        "id": "nxkE31jE8NGT",
        "colab": {
          "base_uri": "https://localhost:8080/"
        },
        "outputId": "f083a1fe-1063-49e9-89a5-f90bf956bbcb"
      },
      "execution_count": null,
      "outputs": [
        {
          "output_type": "stream",
          "name": "stderr",
          "text": [
            "/usr/local/lib/python3.7/dist-packages/sklearn/base.py:444: UserWarning: X has feature names, but Lasso was fitted without feature names\n",
            "  f\"X has feature names, but {self.__class__.__name__} was fitted without\"\n"
          ]
        }
      ]
    },
    {
      "cell_type": "code",
      "source": [
        "j=pred_l"
      ],
      "metadata": {
        "id": "0uBxsFoM90Ss"
      },
      "execution_count": null,
      "outputs": []
    },
    {
      "cell_type": "code",
      "source": [
        "j"
      ],
      "metadata": {
        "colab": {
          "base_uri": "https://localhost:8080/"
        },
        "id": "-4qJ6gig6nt9",
        "outputId": "ea4bb1b6-01fb-4363-b816-c7c4481a9b2d"
      },
      "execution_count": null,
      "outputs": [
        {
          "output_type": "execute_result",
          "data": {
            "text/plain": [
              "array([9408.09604115, 9415.98832443, 9423.88060772, ..., 9516.60835265,\n",
              "       9524.50063593, 9532.39291922])"
            ]
          },
          "metadata": {},
          "execution_count": 112
        }
      ]
    },
    {
      "cell_type": "code",
      "source": [
        "demand=pd.DataFrame(j,columns=[\"outputprediction\"])"
      ],
      "metadata": {
        "id": "rSPtOHA-90Ss"
      },
      "execution_count": null,
      "outputs": []
    },
    {
      "cell_type": "code",
      "source": [
        "demand.head()"
      ],
      "metadata": {
        "colab": {
          "base_uri": "https://localhost:8080/",
          "height": 206
        },
        "id": "8RP0g85g9l_G",
        "outputId": "bcc57372-a842-4294-a174-44f58915a4cd"
      },
      "execution_count": null,
      "outputs": [
        {
          "output_type": "execute_result",
          "data": {
            "text/plain": [
              "   outputprediction\n",
              "0       9408.096041\n",
              "1       9415.988324\n",
              "2       9423.880608\n",
              "3       9431.772891\n",
              "4       9447.557458"
            ],
            "text/html": [
              "\n",
              "  <div id=\"df-7326adc8-e8f0-470f-8b43-c1b0bf1255d2\">\n",
              "    <div class=\"colab-df-container\">\n",
              "      <div>\n",
              "<style scoped>\n",
              "    .dataframe tbody tr th:only-of-type {\n",
              "        vertical-align: middle;\n",
              "    }\n",
              "\n",
              "    .dataframe tbody tr th {\n",
              "        vertical-align: top;\n",
              "    }\n",
              "\n",
              "    .dataframe thead th {\n",
              "        text-align: right;\n",
              "    }\n",
              "</style>\n",
              "<table border=\"1\" class=\"dataframe\">\n",
              "  <thead>\n",
              "    <tr style=\"text-align: right;\">\n",
              "      <th></th>\n",
              "      <th>outputprediction</th>\n",
              "    </tr>\n",
              "  </thead>\n",
              "  <tbody>\n",
              "    <tr>\n",
              "      <th>0</th>\n",
              "      <td>9408.096041</td>\n",
              "    </tr>\n",
              "    <tr>\n",
              "      <th>1</th>\n",
              "      <td>9415.988324</td>\n",
              "    </tr>\n",
              "    <tr>\n",
              "      <th>2</th>\n",
              "      <td>9423.880608</td>\n",
              "    </tr>\n",
              "    <tr>\n",
              "      <th>3</th>\n",
              "      <td>9431.772891</td>\n",
              "    </tr>\n",
              "    <tr>\n",
              "      <th>4</th>\n",
              "      <td>9447.557458</td>\n",
              "    </tr>\n",
              "  </tbody>\n",
              "</table>\n",
              "</div>\n",
              "      <button class=\"colab-df-convert\" onclick=\"convertToInteractive('df-7326adc8-e8f0-470f-8b43-c1b0bf1255d2')\"\n",
              "              title=\"Convert this dataframe to an interactive table.\"\n",
              "              style=\"display:none;\">\n",
              "        \n",
              "  <svg xmlns=\"http://www.w3.org/2000/svg\" height=\"24px\"viewBox=\"0 0 24 24\"\n",
              "       width=\"24px\">\n",
              "    <path d=\"M0 0h24v24H0V0z\" fill=\"none\"/>\n",
              "    <path d=\"M18.56 5.44l.94 2.06.94-2.06 2.06-.94-2.06-.94-.94-2.06-.94 2.06-2.06.94zm-11 1L8.5 8.5l.94-2.06 2.06-.94-2.06-.94L8.5 2.5l-.94 2.06-2.06.94zm10 10l.94 2.06.94-2.06 2.06-.94-2.06-.94-.94-2.06-.94 2.06-2.06.94z\"/><path d=\"M17.41 7.96l-1.37-1.37c-.4-.4-.92-.59-1.43-.59-.52 0-1.04.2-1.43.59L10.3 9.45l-7.72 7.72c-.78.78-.78 2.05 0 2.83L4 21.41c.39.39.9.59 1.41.59.51 0 1.02-.2 1.41-.59l7.78-7.78 2.81-2.81c.8-.78.8-2.07 0-2.86zM5.41 20L4 18.59l7.72-7.72 1.47 1.35L5.41 20z\"/>\n",
              "  </svg>\n",
              "      </button>\n",
              "      \n",
              "  <style>\n",
              "    .colab-df-container {\n",
              "      display:flex;\n",
              "      flex-wrap:wrap;\n",
              "      gap: 12px;\n",
              "    }\n",
              "\n",
              "    .colab-df-convert {\n",
              "      background-color: #E8F0FE;\n",
              "      border: none;\n",
              "      border-radius: 50%;\n",
              "      cursor: pointer;\n",
              "      display: none;\n",
              "      fill: #1967D2;\n",
              "      height: 32px;\n",
              "      padding: 0 0 0 0;\n",
              "      width: 32px;\n",
              "    }\n",
              "\n",
              "    .colab-df-convert:hover {\n",
              "      background-color: #E2EBFA;\n",
              "      box-shadow: 0px 1px 2px rgba(60, 64, 67, 0.3), 0px 1px 3px 1px rgba(60, 64, 67, 0.15);\n",
              "      fill: #174EA6;\n",
              "    }\n",
              "\n",
              "    [theme=dark] .colab-df-convert {\n",
              "      background-color: #3B4455;\n",
              "      fill: #D2E3FC;\n",
              "    }\n",
              "\n",
              "    [theme=dark] .colab-df-convert:hover {\n",
              "      background-color: #434B5C;\n",
              "      box-shadow: 0px 1px 3px 1px rgba(0, 0, 0, 0.15);\n",
              "      filter: drop-shadow(0px 1px 2px rgba(0, 0, 0, 0.3));\n",
              "      fill: #FFFFFF;\n",
              "    }\n",
              "  </style>\n",
              "\n",
              "      <script>\n",
              "        const buttonEl =\n",
              "          document.querySelector('#df-7326adc8-e8f0-470f-8b43-c1b0bf1255d2 button.colab-df-convert');\n",
              "        buttonEl.style.display =\n",
              "          google.colab.kernel.accessAllowed ? 'block' : 'none';\n",
              "\n",
              "        async function convertToInteractive(key) {\n",
              "          const element = document.querySelector('#df-7326adc8-e8f0-470f-8b43-c1b0bf1255d2');\n",
              "          const dataTable =\n",
              "            await google.colab.kernel.invokeFunction('convertToInteractive',\n",
              "                                                     [key], {});\n",
              "          if (!dataTable) return;\n",
              "\n",
              "          const docLinkHtml = 'Like what you see? Visit the ' +\n",
              "            '<a target=\"_blank\" href=https://colab.research.google.com/notebooks/data_table.ipynb>data table notebook</a>'\n",
              "            + ' to learn more about interactive tables.';\n",
              "          element.innerHTML = '';\n",
              "          dataTable['output_type'] = 'display_data';\n",
              "          await google.colab.output.renderOutput(dataTable, element);\n",
              "          const docLink = document.createElement('div');\n",
              "          docLink.innerHTML = docLinkHtml;\n",
              "          element.appendChild(docLink);\n",
              "        }\n",
              "      </script>\n",
              "    </div>\n",
              "  </div>\n",
              "  "
            ]
          },
          "metadata": {},
          "execution_count": 114
        }
      ]
    },
    {
      "cell_type": "code",
      "source": [
        "test_final=test = pd.read_csv('/content/grive/MyDrive/test_6QvDdzb.csv')"
      ],
      "metadata": {
        "id": "eJTqjyqd98pr"
      },
      "execution_count": null,
      "outputs": []
    },
    {
      "cell_type": "code",
      "source": [
        "test_final[\"demand\"]=demand"
      ],
      "metadata": {
        "id": "-qAAuqQV98pr"
      },
      "execution_count": null,
      "outputs": []
    },
    {
      "cell_type": "code",
      "source": [
        "test_final[\"demand\"]=test_final[\"demand\"].apply(lambda x:round(x))"
      ],
      "metadata": {
        "id": "fINwyADg98pr"
      },
      "execution_count": null,
      "outputs": []
    },
    {
      "cell_type": "code",
      "source": [
        "test_final.head()"
      ],
      "metadata": {
        "colab": {
          "base_uri": "https://localhost:8080/",
          "height": 206
        },
        "outputId": "8c61131a-3a31-4217-cc3b-84f04a1bd7e1",
        "id": "9r8SXaoK98pr"
      },
      "execution_count": null,
      "outputs": [
        {
          "output_type": "execute_result",
          "data": {
            "text/plain": [
              "         date  hour  demand\n",
              "0  2021-03-01     0    9408\n",
              "1  2021-03-01     1    9416\n",
              "2  2021-03-01     2    9424\n",
              "3  2021-03-01     3    9432\n",
              "4  2021-03-01     5    9448"
            ],
            "text/html": [
              "\n",
              "  <div id=\"df-2037262c-6b04-4213-a06a-7e5908a5ba33\">\n",
              "    <div class=\"colab-df-container\">\n",
              "      <div>\n",
              "<style scoped>\n",
              "    .dataframe tbody tr th:only-of-type {\n",
              "        vertical-align: middle;\n",
              "    }\n",
              "\n",
              "    .dataframe tbody tr th {\n",
              "        vertical-align: top;\n",
              "    }\n",
              "\n",
              "    .dataframe thead th {\n",
              "        text-align: right;\n",
              "    }\n",
              "</style>\n",
              "<table border=\"1\" class=\"dataframe\">\n",
              "  <thead>\n",
              "    <tr style=\"text-align: right;\">\n",
              "      <th></th>\n",
              "      <th>date</th>\n",
              "      <th>hour</th>\n",
              "      <th>demand</th>\n",
              "    </tr>\n",
              "  </thead>\n",
              "  <tbody>\n",
              "    <tr>\n",
              "      <th>0</th>\n",
              "      <td>2021-03-01</td>\n",
              "      <td>0</td>\n",
              "      <td>9408</td>\n",
              "    </tr>\n",
              "    <tr>\n",
              "      <th>1</th>\n",
              "      <td>2021-03-01</td>\n",
              "      <td>1</td>\n",
              "      <td>9416</td>\n",
              "    </tr>\n",
              "    <tr>\n",
              "      <th>2</th>\n",
              "      <td>2021-03-01</td>\n",
              "      <td>2</td>\n",
              "      <td>9424</td>\n",
              "    </tr>\n",
              "    <tr>\n",
              "      <th>3</th>\n",
              "      <td>2021-03-01</td>\n",
              "      <td>3</td>\n",
              "      <td>9432</td>\n",
              "    </tr>\n",
              "    <tr>\n",
              "      <th>4</th>\n",
              "      <td>2021-03-01</td>\n",
              "      <td>5</td>\n",
              "      <td>9448</td>\n",
              "    </tr>\n",
              "  </tbody>\n",
              "</table>\n",
              "</div>\n",
              "      <button class=\"colab-df-convert\" onclick=\"convertToInteractive('df-2037262c-6b04-4213-a06a-7e5908a5ba33')\"\n",
              "              title=\"Convert this dataframe to an interactive table.\"\n",
              "              style=\"display:none;\">\n",
              "        \n",
              "  <svg xmlns=\"http://www.w3.org/2000/svg\" height=\"24px\"viewBox=\"0 0 24 24\"\n",
              "       width=\"24px\">\n",
              "    <path d=\"M0 0h24v24H0V0z\" fill=\"none\"/>\n",
              "    <path d=\"M18.56 5.44l.94 2.06.94-2.06 2.06-.94-2.06-.94-.94-2.06-.94 2.06-2.06.94zm-11 1L8.5 8.5l.94-2.06 2.06-.94-2.06-.94L8.5 2.5l-.94 2.06-2.06.94zm10 10l.94 2.06.94-2.06 2.06-.94-2.06-.94-.94-2.06-.94 2.06-2.06.94z\"/><path d=\"M17.41 7.96l-1.37-1.37c-.4-.4-.92-.59-1.43-.59-.52 0-1.04.2-1.43.59L10.3 9.45l-7.72 7.72c-.78.78-.78 2.05 0 2.83L4 21.41c.39.39.9.59 1.41.59.51 0 1.02-.2 1.41-.59l7.78-7.78 2.81-2.81c.8-.78.8-2.07 0-2.86zM5.41 20L4 18.59l7.72-7.72 1.47 1.35L5.41 20z\"/>\n",
              "  </svg>\n",
              "      </button>\n",
              "      \n",
              "  <style>\n",
              "    .colab-df-container {\n",
              "      display:flex;\n",
              "      flex-wrap:wrap;\n",
              "      gap: 12px;\n",
              "    }\n",
              "\n",
              "    .colab-df-convert {\n",
              "      background-color: #E8F0FE;\n",
              "      border: none;\n",
              "      border-radius: 50%;\n",
              "      cursor: pointer;\n",
              "      display: none;\n",
              "      fill: #1967D2;\n",
              "      height: 32px;\n",
              "      padding: 0 0 0 0;\n",
              "      width: 32px;\n",
              "    }\n",
              "\n",
              "    .colab-df-convert:hover {\n",
              "      background-color: #E2EBFA;\n",
              "      box-shadow: 0px 1px 2px rgba(60, 64, 67, 0.3), 0px 1px 3px 1px rgba(60, 64, 67, 0.15);\n",
              "      fill: #174EA6;\n",
              "    }\n",
              "\n",
              "    [theme=dark] .colab-df-convert {\n",
              "      background-color: #3B4455;\n",
              "      fill: #D2E3FC;\n",
              "    }\n",
              "\n",
              "    [theme=dark] .colab-df-convert:hover {\n",
              "      background-color: #434B5C;\n",
              "      box-shadow: 0px 1px 3px 1px rgba(0, 0, 0, 0.15);\n",
              "      filter: drop-shadow(0px 1px 2px rgba(0, 0, 0, 0.3));\n",
              "      fill: #FFFFFF;\n",
              "    }\n",
              "  </style>\n",
              "\n",
              "      <script>\n",
              "        const buttonEl =\n",
              "          document.querySelector('#df-2037262c-6b04-4213-a06a-7e5908a5ba33 button.colab-df-convert');\n",
              "        buttonEl.style.display =\n",
              "          google.colab.kernel.accessAllowed ? 'block' : 'none';\n",
              "\n",
              "        async function convertToInteractive(key) {\n",
              "          const element = document.querySelector('#df-2037262c-6b04-4213-a06a-7e5908a5ba33');\n",
              "          const dataTable =\n",
              "            await google.colab.kernel.invokeFunction('convertToInteractive',\n",
              "                                                     [key], {});\n",
              "          if (!dataTable) return;\n",
              "\n",
              "          const docLinkHtml = 'Like what you see? Visit the ' +\n",
              "            '<a target=\"_blank\" href=https://colab.research.google.com/notebooks/data_table.ipynb>data table notebook</a>'\n",
              "            + ' to learn more about interactive tables.';\n",
              "          element.innerHTML = '';\n",
              "          dataTable['output_type'] = 'display_data';\n",
              "          await google.colab.output.renderOutput(dataTable, element);\n",
              "          const docLink = document.createElement('div');\n",
              "          docLink.innerHTML = docLinkHtml;\n",
              "          element.appendChild(docLink);\n",
              "        }\n",
              "      </script>\n",
              "    </div>\n",
              "  </div>\n",
              "  "
            ]
          },
          "metadata": {},
          "execution_count": 118
        }
      ]
    },
    {
      "cell_type": "code",
      "source": [
        "df=test_final.set_index(\"date\")"
      ],
      "metadata": {
        "id": "TI-UaRcH9mDL"
      },
      "execution_count": null,
      "outputs": []
    },
    {
      "cell_type": "code",
      "source": [
        "df.to_csv('/content/grive/MyDrive/lasso.csv')"
      ],
      "metadata": {
        "id": "S_EFaeFW9mJX"
      },
      "execution_count": null,
      "outputs": []
    },
    {
      "cell_type": "code",
      "source": [
        "df.head()"
      ],
      "metadata": {
        "id": "1JTDIUpMPrUV",
        "colab": {
          "base_uri": "https://localhost:8080/",
          "height": 238
        },
        "outputId": "f4275372-e281-4d59-f23e-55363a5c7d75"
      },
      "execution_count": null,
      "outputs": [
        {
          "output_type": "execute_result",
          "data": {
            "text/plain": [
              "            hour  demand\n",
              "date                    \n",
              "2021-03-01     0    9408\n",
              "2021-03-01     1    9416\n",
              "2021-03-01     2    9424\n",
              "2021-03-01     3    9432\n",
              "2021-03-01     5    9448"
            ],
            "text/html": [
              "\n",
              "  <div id=\"df-ab66699a-7dba-4885-820b-7730d25b0813\">\n",
              "    <div class=\"colab-df-container\">\n",
              "      <div>\n",
              "<style scoped>\n",
              "    .dataframe tbody tr th:only-of-type {\n",
              "        vertical-align: middle;\n",
              "    }\n",
              "\n",
              "    .dataframe tbody tr th {\n",
              "        vertical-align: top;\n",
              "    }\n",
              "\n",
              "    .dataframe thead th {\n",
              "        text-align: right;\n",
              "    }\n",
              "</style>\n",
              "<table border=\"1\" class=\"dataframe\">\n",
              "  <thead>\n",
              "    <tr style=\"text-align: right;\">\n",
              "      <th></th>\n",
              "      <th>hour</th>\n",
              "      <th>demand</th>\n",
              "    </tr>\n",
              "    <tr>\n",
              "      <th>date</th>\n",
              "      <th></th>\n",
              "      <th></th>\n",
              "    </tr>\n",
              "  </thead>\n",
              "  <tbody>\n",
              "    <tr>\n",
              "      <th>2021-03-01</th>\n",
              "      <td>0</td>\n",
              "      <td>9408</td>\n",
              "    </tr>\n",
              "    <tr>\n",
              "      <th>2021-03-01</th>\n",
              "      <td>1</td>\n",
              "      <td>9416</td>\n",
              "    </tr>\n",
              "    <tr>\n",
              "      <th>2021-03-01</th>\n",
              "      <td>2</td>\n",
              "      <td>9424</td>\n",
              "    </tr>\n",
              "    <tr>\n",
              "      <th>2021-03-01</th>\n",
              "      <td>3</td>\n",
              "      <td>9432</td>\n",
              "    </tr>\n",
              "    <tr>\n",
              "      <th>2021-03-01</th>\n",
              "      <td>5</td>\n",
              "      <td>9448</td>\n",
              "    </tr>\n",
              "  </tbody>\n",
              "</table>\n",
              "</div>\n",
              "      <button class=\"colab-df-convert\" onclick=\"convertToInteractive('df-ab66699a-7dba-4885-820b-7730d25b0813')\"\n",
              "              title=\"Convert this dataframe to an interactive table.\"\n",
              "              style=\"display:none;\">\n",
              "        \n",
              "  <svg xmlns=\"http://www.w3.org/2000/svg\" height=\"24px\"viewBox=\"0 0 24 24\"\n",
              "       width=\"24px\">\n",
              "    <path d=\"M0 0h24v24H0V0z\" fill=\"none\"/>\n",
              "    <path d=\"M18.56 5.44l.94 2.06.94-2.06 2.06-.94-2.06-.94-.94-2.06-.94 2.06-2.06.94zm-11 1L8.5 8.5l.94-2.06 2.06-.94-2.06-.94L8.5 2.5l-.94 2.06-2.06.94zm10 10l.94 2.06.94-2.06 2.06-.94-2.06-.94-.94-2.06-.94 2.06-2.06.94z\"/><path d=\"M17.41 7.96l-1.37-1.37c-.4-.4-.92-.59-1.43-.59-.52 0-1.04.2-1.43.59L10.3 9.45l-7.72 7.72c-.78.78-.78 2.05 0 2.83L4 21.41c.39.39.9.59 1.41.59.51 0 1.02-.2 1.41-.59l7.78-7.78 2.81-2.81c.8-.78.8-2.07 0-2.86zM5.41 20L4 18.59l7.72-7.72 1.47 1.35L5.41 20z\"/>\n",
              "  </svg>\n",
              "      </button>\n",
              "      \n",
              "  <style>\n",
              "    .colab-df-container {\n",
              "      display:flex;\n",
              "      flex-wrap:wrap;\n",
              "      gap: 12px;\n",
              "    }\n",
              "\n",
              "    .colab-df-convert {\n",
              "      background-color: #E8F0FE;\n",
              "      border: none;\n",
              "      border-radius: 50%;\n",
              "      cursor: pointer;\n",
              "      display: none;\n",
              "      fill: #1967D2;\n",
              "      height: 32px;\n",
              "      padding: 0 0 0 0;\n",
              "      width: 32px;\n",
              "    }\n",
              "\n",
              "    .colab-df-convert:hover {\n",
              "      background-color: #E2EBFA;\n",
              "      box-shadow: 0px 1px 2px rgba(60, 64, 67, 0.3), 0px 1px 3px 1px rgba(60, 64, 67, 0.15);\n",
              "      fill: #174EA6;\n",
              "    }\n",
              "\n",
              "    [theme=dark] .colab-df-convert {\n",
              "      background-color: #3B4455;\n",
              "      fill: #D2E3FC;\n",
              "    }\n",
              "\n",
              "    [theme=dark] .colab-df-convert:hover {\n",
              "      background-color: #434B5C;\n",
              "      box-shadow: 0px 1px 3px 1px rgba(0, 0, 0, 0.15);\n",
              "      filter: drop-shadow(0px 1px 2px rgba(0, 0, 0, 0.3));\n",
              "      fill: #FFFFFF;\n",
              "    }\n",
              "  </style>\n",
              "\n",
              "      <script>\n",
              "        const buttonEl =\n",
              "          document.querySelector('#df-ab66699a-7dba-4885-820b-7730d25b0813 button.colab-df-convert');\n",
              "        buttonEl.style.display =\n",
              "          google.colab.kernel.accessAllowed ? 'block' : 'none';\n",
              "\n",
              "        async function convertToInteractive(key) {\n",
              "          const element = document.querySelector('#df-ab66699a-7dba-4885-820b-7730d25b0813');\n",
              "          const dataTable =\n",
              "            await google.colab.kernel.invokeFunction('convertToInteractive',\n",
              "                                                     [key], {});\n",
              "          if (!dataTable) return;\n",
              "\n",
              "          const docLinkHtml = 'Like what you see? Visit the ' +\n",
              "            '<a target=\"_blank\" href=https://colab.research.google.com/notebooks/data_table.ipynb>data table notebook</a>'\n",
              "            + ' to learn more about interactive tables.';\n",
              "          element.innerHTML = '';\n",
              "          dataTable['output_type'] = 'display_data';\n",
              "          await google.colab.output.renderOutput(dataTable, element);\n",
              "          const docLink = document.createElement('div');\n",
              "          docLink.innerHTML = docLinkHtml;\n",
              "          element.appendChild(docLink);\n",
              "        }\n",
              "      </script>\n",
              "    </div>\n",
              "  </div>\n",
              "  "
            ]
          },
          "metadata": {},
          "execution_count": 121
        }
      ]
    },
    {
      "cell_type": "code",
      "source": [
        "# Final RMSE SCORES:\n"
      ],
      "metadata": {
        "id": "eBEiaBc--mTN"
      },
      "execution_count": null,
      "outputs": []
    },
    {
      "cell_type": "code",
      "source": [
        "col=x_train.shape[1] # columns number"
      ],
      "metadata": {
        "id": "D5NSqkJba0nX"
      },
      "execution_count": null,
      "outputs": []
    },
    {
      "cell_type": "markdown",
      "source": [
        "##DNN "
      ],
      "metadata": {
        "id": "JOr7TD4Mm88r"
      }
    },
    {
      "cell_type": "code",
      "source": [
        "#loading modules for deep learning \n",
        "import numpy as np\n",
        "import tensorflow as tf\n",
        "import keras\n",
        "from keras.models import Sequential\n",
        "from keras.layers import Dense, Dropout, Activation, Flatten\n"
      ],
      "metadata": {
        "id": "FCmFq_atAXgs"
      },
      "execution_count": null,
      "outputs": []
    },
    {
      "cell_type": "code",
      "source": [
        "# creating our neural network layers \n",
        "\n",
        "def regression():\n",
        "  model = Sequential()\n",
        "  model.add(Dense(80,activation='relu',input_shape=(col,)))\n",
        "  #model.add(Dense(100,activation='relu'))\n",
        "  \n",
        "  \n",
        "\n",
        "  model.add(Dense(1))\n",
        "\n",
        "  model.compile(optimizer=\"adam\",loss=\"mean_squared_error\")\n",
        "\n",
        "  return model\n",
        "\n",
        "# after hyper tunning we are able to get a dense layer of 80 for this problem with good rmse score."
      ],
      "metadata": {
        "id": "hpD8cSNYMcdK"
      },
      "execution_count": null,
      "outputs": []
    },
    {
      "cell_type": "code",
      "source": [
        "model_dnn = regression()"
      ],
      "metadata": {
        "id": "q33twTRuMcjt"
      },
      "execution_count": null,
      "outputs": []
    },
    {
      "cell_type": "code",
      "source": [
        "# fitting our model with train data & for 150 epochs.we are able to get a good rmse score after tunning it.\n",
        "model_dnn.fit(x_train,y_train,validation_split=0.2,epochs=150,verbose=2)"
      ],
      "metadata": {
        "colab": {
          "base_uri": "https://localhost:8080/"
        },
        "id": "_aN087E8Mcmm",
        "outputId": "0007a5aa-0b87-4f0a-a404-d6e4da07f427"
      },
      "execution_count": null,
      "outputs": [
        {
          "output_type": "stream",
          "name": "stdout",
          "text": [
            "Epoch 1/150\n",
            "365/365 - 1s - loss: 5751.4141 - val_loss: 5183.6738 - 1s/epoch - 4ms/step\n",
            "Epoch 2/150\n",
            "365/365 - 1s - loss: 2762.0889 - val_loss: 2401.8662 - 592ms/epoch - 2ms/step\n",
            "Epoch 3/150\n",
            "365/365 - 1s - loss: 1787.0492 - val_loss: 1583.8007 - 615ms/epoch - 2ms/step\n",
            "Epoch 4/150\n",
            "365/365 - 1s - loss: 1682.8794 - val_loss: 1476.1125 - 635ms/epoch - 2ms/step\n",
            "Epoch 5/150\n",
            "365/365 - 1s - loss: 1646.5992 - val_loss: 1443.0769 - 640ms/epoch - 2ms/step\n",
            "Epoch 6/150\n",
            "365/365 - 1s - loss: 1620.1661 - val_loss: 1410.9457 - 567ms/epoch - 2ms/step\n",
            "Epoch 7/150\n",
            "365/365 - 1s - loss: 1590.8898 - val_loss: 1383.1128 - 598ms/epoch - 2ms/step\n",
            "Epoch 8/150\n",
            "365/365 - 1s - loss: 1557.7902 - val_loss: 1356.6554 - 556ms/epoch - 2ms/step\n",
            "Epoch 9/150\n",
            "365/365 - 1s - loss: 1530.8588 - val_loss: 1331.1149 - 626ms/epoch - 2ms/step\n",
            "Epoch 10/150\n",
            "365/365 - 1s - loss: 1509.0864 - val_loss: 1316.8204 - 567ms/epoch - 2ms/step\n",
            "Epoch 11/150\n",
            "365/365 - 1s - loss: 1493.4031 - val_loss: 1304.0699 - 617ms/epoch - 2ms/step\n",
            "Epoch 12/150\n",
            "365/365 - 1s - loss: 1482.2196 - val_loss: 1300.1132 - 572ms/epoch - 2ms/step\n",
            "Epoch 13/150\n",
            "365/365 - 1s - loss: 1474.5948 - val_loss: 1293.4973 - 556ms/epoch - 2ms/step\n",
            "Epoch 14/150\n",
            "365/365 - 1s - loss: 1468.3696 - val_loss: 1289.3605 - 563ms/epoch - 2ms/step\n",
            "Epoch 15/150\n",
            "365/365 - 1s - loss: 1463.6321 - val_loss: 1286.3198 - 591ms/epoch - 2ms/step\n",
            "Epoch 16/150\n",
            "365/365 - 1s - loss: 1460.1776 - val_loss: 1284.0841 - 638ms/epoch - 2ms/step\n",
            "Epoch 17/150\n",
            "365/365 - 1s - loss: 1456.1335 - val_loss: 1282.9714 - 636ms/epoch - 2ms/step\n",
            "Epoch 18/150\n",
            "365/365 - 1s - loss: 1453.5187 - val_loss: 1279.1364 - 601ms/epoch - 2ms/step\n",
            "Epoch 19/150\n",
            "365/365 - 1s - loss: 1450.7253 - val_loss: 1278.4194 - 565ms/epoch - 2ms/step\n",
            "Epoch 20/150\n",
            "365/365 - 1s - loss: 1448.7783 - val_loss: 1275.8530 - 631ms/epoch - 2ms/step\n",
            "Epoch 21/150\n",
            "365/365 - 1s - loss: 1446.7218 - val_loss: 1274.5939 - 579ms/epoch - 2ms/step\n",
            "Epoch 22/150\n",
            "365/365 - 1s - loss: 1444.8638 - val_loss: 1271.4620 - 583ms/epoch - 2ms/step\n",
            "Epoch 23/150\n",
            "365/365 - 1s - loss: 1442.5205 - val_loss: 1273.2633 - 600ms/epoch - 2ms/step\n",
            "Epoch 24/150\n",
            "365/365 - 1s - loss: 1439.5917 - val_loss: 1271.3995 - 602ms/epoch - 2ms/step\n",
            "Epoch 25/150\n",
            "365/365 - 1s - loss: 1437.8966 - val_loss: 1269.6046 - 619ms/epoch - 2ms/step\n",
            "Epoch 26/150\n",
            "365/365 - 1s - loss: 1436.5048 - val_loss: 1273.0099 - 637ms/epoch - 2ms/step\n",
            "Epoch 27/150\n",
            "365/365 - 1s - loss: 1435.5165 - val_loss: 1278.1238 - 553ms/epoch - 2ms/step\n",
            "Epoch 28/150\n",
            "365/365 - 1s - loss: 1433.2355 - val_loss: 1266.0424 - 607ms/epoch - 2ms/step\n",
            "Epoch 29/150\n",
            "365/365 - 1s - loss: 1432.7932 - val_loss: 1271.3915 - 569ms/epoch - 2ms/step\n",
            "Epoch 30/150\n",
            "365/365 - 1s - loss: 1430.2546 - val_loss: 1267.4353 - 624ms/epoch - 2ms/step\n",
            "Epoch 31/150\n",
            "365/365 - 1s - loss: 1429.1553 - val_loss: 1268.5192 - 618ms/epoch - 2ms/step\n",
            "Epoch 32/150\n",
            "365/365 - 1s - loss: 1428.0649 - val_loss: 1267.6447 - 1s/epoch - 4ms/step\n",
            "Epoch 33/150\n",
            "365/365 - 1s - loss: 1427.2170 - val_loss: 1261.7008 - 566ms/epoch - 2ms/step\n",
            "Epoch 34/150\n",
            "365/365 - 1s - loss: 1425.2263 - val_loss: 1266.2012 - 602ms/epoch - 2ms/step\n",
            "Epoch 35/150\n",
            "365/365 - 1s - loss: 1423.5546 - val_loss: 1261.9910 - 543ms/epoch - 1ms/step\n",
            "Epoch 36/150\n",
            "365/365 - 1s - loss: 1423.4518 - val_loss: 1261.9703 - 575ms/epoch - 2ms/step\n",
            "Epoch 37/150\n",
            "365/365 - 1s - loss: 1421.3810 - val_loss: 1260.8621 - 561ms/epoch - 2ms/step\n",
            "Epoch 38/150\n",
            "365/365 - 1s - loss: 1419.8931 - val_loss: 1263.5033 - 594ms/epoch - 2ms/step\n",
            "Epoch 39/150\n",
            "365/365 - 1s - loss: 1420.1119 - val_loss: 1263.3622 - 611ms/epoch - 2ms/step\n",
            "Epoch 40/150\n",
            "365/365 - 1s - loss: 1418.3287 - val_loss: 1258.4562 - 609ms/epoch - 2ms/step\n",
            "Epoch 41/150\n",
            "365/365 - 1s - loss: 1418.1793 - val_loss: 1259.3849 - 602ms/epoch - 2ms/step\n",
            "Epoch 42/150\n",
            "365/365 - 1s - loss: 1415.1187 - val_loss: 1256.7458 - 551ms/epoch - 2ms/step\n",
            "Epoch 43/150\n",
            "365/365 - 1s - loss: 1416.0001 - val_loss: 1257.4113 - 559ms/epoch - 2ms/step\n",
            "Epoch 44/150\n",
            "365/365 - 1s - loss: 1414.3715 - val_loss: 1254.5999 - 602ms/epoch - 2ms/step\n",
            "Epoch 45/150\n",
            "365/365 - 1s - loss: 1412.8600 - val_loss: 1257.0988 - 567ms/epoch - 2ms/step\n",
            "Epoch 46/150\n",
            "365/365 - 1s - loss: 1412.3893 - val_loss: 1257.2264 - 603ms/epoch - 2ms/step\n",
            "Epoch 47/150\n",
            "365/365 - 1s - loss: 1411.1323 - val_loss: 1255.1633 - 622ms/epoch - 2ms/step\n",
            "Epoch 48/150\n",
            "365/365 - 1s - loss: 1410.9402 - val_loss: 1255.6134 - 606ms/epoch - 2ms/step\n",
            "Epoch 49/150\n",
            "365/365 - 1s - loss: 1408.6926 - val_loss: 1256.5782 - 608ms/epoch - 2ms/step\n",
            "Epoch 50/150\n",
            "365/365 - 1s - loss: 1408.4977 - val_loss: 1255.5585 - 622ms/epoch - 2ms/step\n",
            "Epoch 51/150\n",
            "365/365 - 1s - loss: 1407.7927 - val_loss: 1257.9973 - 556ms/epoch - 2ms/step\n",
            "Epoch 52/150\n",
            "365/365 - 1s - loss: 1407.6132 - val_loss: 1255.3845 - 641ms/epoch - 2ms/step\n",
            "Epoch 53/150\n",
            "365/365 - 1s - loss: 1406.7316 - val_loss: 1256.5940 - 624ms/epoch - 2ms/step\n",
            "Epoch 54/150\n",
            "365/365 - 1s - loss: 1405.1123 - val_loss: 1252.4341 - 621ms/epoch - 2ms/step\n",
            "Epoch 55/150\n",
            "365/365 - 1s - loss: 1404.9188 - val_loss: 1259.0669 - 580ms/epoch - 2ms/step\n",
            "Epoch 56/150\n",
            "365/365 - 1s - loss: 1404.2009 - val_loss: 1252.9589 - 605ms/epoch - 2ms/step\n",
            "Epoch 57/150\n",
            "365/365 - 1s - loss: 1402.7316 - val_loss: 1246.8896 - 554ms/epoch - 2ms/step\n",
            "Epoch 58/150\n",
            "365/365 - 1s - loss: 1403.5133 - val_loss: 1252.3232 - 605ms/epoch - 2ms/step\n",
            "Epoch 59/150\n",
            "365/365 - 1s - loss: 1401.4607 - val_loss: 1249.6857 - 617ms/epoch - 2ms/step\n",
            "Epoch 60/150\n",
            "365/365 - 1s - loss: 1402.1565 - val_loss: 1252.9285 - 575ms/epoch - 2ms/step\n",
            "Epoch 61/150\n",
            "365/365 - 1s - loss: 1400.8208 - val_loss: 1250.0397 - 562ms/epoch - 2ms/step\n",
            "Epoch 62/150\n",
            "365/365 - 1s - loss: 1399.8782 - val_loss: 1253.0930 - 622ms/epoch - 2ms/step\n",
            "Epoch 63/150\n",
            "365/365 - 1s - loss: 1399.2229 - val_loss: 1250.4167 - 564ms/epoch - 2ms/step\n",
            "Epoch 64/150\n",
            "365/365 - 1s - loss: 1398.3748 - val_loss: 1249.9143 - 580ms/epoch - 2ms/step\n",
            "Epoch 65/150\n",
            "365/365 - 1s - loss: 1398.5801 - val_loss: 1251.0364 - 603ms/epoch - 2ms/step\n",
            "Epoch 66/150\n",
            "365/365 - 1s - loss: 1397.0735 - val_loss: 1260.0625 - 569ms/epoch - 2ms/step\n",
            "Epoch 67/150\n",
            "365/365 - 1s - loss: 1396.5215 - val_loss: 1246.7450 - 637ms/epoch - 2ms/step\n",
            "Epoch 68/150\n",
            "365/365 - 1s - loss: 1397.1595 - val_loss: 1251.3643 - 613ms/epoch - 2ms/step\n",
            "Epoch 69/150\n",
            "365/365 - 1s - loss: 1396.0066 - val_loss: 1251.6923 - 605ms/epoch - 2ms/step\n",
            "Epoch 70/150\n",
            "365/365 - 1s - loss: 1395.4928 - val_loss: 1250.8099 - 569ms/epoch - 2ms/step\n",
            "Epoch 71/150\n",
            "365/365 - 1s - loss: 1395.1508 - val_loss: 1258.4792 - 626ms/epoch - 2ms/step\n",
            "Epoch 72/150\n",
            "365/365 - 1s - loss: 1394.9746 - val_loss: 1255.1876 - 625ms/epoch - 2ms/step\n",
            "Epoch 73/150\n",
            "365/365 - 1s - loss: 1394.6770 - val_loss: 1251.4652 - 614ms/epoch - 2ms/step\n",
            "Epoch 74/150\n",
            "365/365 - 1s - loss: 1393.4962 - val_loss: 1251.0793 - 565ms/epoch - 2ms/step\n",
            "Epoch 75/150\n",
            "365/365 - 1s - loss: 1392.8568 - val_loss: 1255.8904 - 575ms/epoch - 2ms/step\n",
            "Epoch 76/150\n",
            "365/365 - 1s - loss: 1393.6432 - val_loss: 1246.3313 - 605ms/epoch - 2ms/step\n",
            "Epoch 77/150\n",
            "365/365 - 1s - loss: 1392.4949 - val_loss: 1252.5886 - 627ms/epoch - 2ms/step\n",
            "Epoch 78/150\n",
            "365/365 - 1s - loss: 1392.4832 - val_loss: 1247.4417 - 570ms/epoch - 2ms/step\n",
            "Epoch 79/150\n",
            "365/365 - 1s - loss: 1391.1448 - val_loss: 1248.0076 - 588ms/epoch - 2ms/step\n",
            "Epoch 80/150\n",
            "365/365 - 1s - loss: 1390.9852 - val_loss: 1249.8708 - 594ms/epoch - 2ms/step\n",
            "Epoch 81/150\n",
            "365/365 - 1s - loss: 1391.4193 - val_loss: 1248.3958 - 578ms/epoch - 2ms/step\n",
            "Epoch 82/150\n",
            "365/365 - 1s - loss: 1390.6257 - val_loss: 1255.7664 - 634ms/epoch - 2ms/step\n",
            "Epoch 83/150\n",
            "365/365 - 1s - loss: 1389.9630 - val_loss: 1255.1985 - 608ms/epoch - 2ms/step\n",
            "Epoch 84/150\n",
            "365/365 - 1s - loss: 1390.4572 - val_loss: 1250.7666 - 564ms/epoch - 2ms/step\n",
            "Epoch 85/150\n",
            "365/365 - 1s - loss: 1389.5127 - val_loss: 1254.4299 - 566ms/epoch - 2ms/step\n",
            "Epoch 86/150\n",
            "365/365 - 1s - loss: 1389.2715 - val_loss: 1257.1147 - 599ms/epoch - 2ms/step\n",
            "Epoch 87/150\n",
            "365/365 - 1s - loss: 1388.5657 - val_loss: 1246.9565 - 578ms/epoch - 2ms/step\n",
            "Epoch 88/150\n",
            "365/365 - 1s - loss: 1387.9387 - val_loss: 1260.8514 - 575ms/epoch - 2ms/step\n",
            "Epoch 89/150\n",
            "365/365 - 1s - loss: 1388.4545 - val_loss: 1247.8618 - 634ms/epoch - 2ms/step\n",
            "Epoch 90/150\n",
            "365/365 - 1s - loss: 1388.3506 - val_loss: 1256.7600 - 608ms/epoch - 2ms/step\n",
            "Epoch 91/150\n",
            "365/365 - 1s - loss: 1387.7340 - val_loss: 1253.4949 - 613ms/epoch - 2ms/step\n",
            "Epoch 92/150\n",
            "365/365 - 1s - loss: 1386.8771 - val_loss: 1252.4994 - 609ms/epoch - 2ms/step\n",
            "Epoch 93/150\n",
            "365/365 - 1s - loss: 1386.1447 - val_loss: 1252.6816 - 559ms/epoch - 2ms/step\n",
            "Epoch 94/150\n",
            "365/365 - 1s - loss: 1386.3635 - val_loss: 1253.8995 - 576ms/epoch - 2ms/step\n",
            "Epoch 95/150\n",
            "365/365 - 1s - loss: 1385.9835 - val_loss: 1255.0985 - 605ms/epoch - 2ms/step\n",
            "Epoch 96/150\n",
            "365/365 - 1s - loss: 1387.2214 - val_loss: 1256.7479 - 617ms/epoch - 2ms/step\n",
            "Epoch 97/150\n",
            "365/365 - 1s - loss: 1385.3739 - val_loss: 1255.2638 - 562ms/epoch - 2ms/step\n",
            "Epoch 98/150\n",
            "365/365 - 1s - loss: 1385.2561 - val_loss: 1249.8029 - 612ms/epoch - 2ms/step\n",
            "Epoch 99/150\n",
            "365/365 - 1s - loss: 1385.6506 - val_loss: 1260.9266 - 580ms/epoch - 2ms/step\n",
            "Epoch 100/150\n",
            "365/365 - 1s - loss: 1384.7472 - val_loss: 1249.4067 - 554ms/epoch - 2ms/step\n",
            "Epoch 101/150\n",
            "365/365 - 1s - loss: 1384.0658 - val_loss: 1262.8931 - 578ms/epoch - 2ms/step\n",
            "Epoch 102/150\n",
            "365/365 - 1s - loss: 1384.1531 - val_loss: 1250.1187 - 639ms/epoch - 2ms/step\n",
            "Epoch 103/150\n",
            "365/365 - 1s - loss: 1384.4924 - val_loss: 1255.4352 - 625ms/epoch - 2ms/step\n",
            "Epoch 104/150\n",
            "365/365 - 1s - loss: 1383.4928 - val_loss: 1251.6343 - 579ms/epoch - 2ms/step\n",
            "Epoch 105/150\n",
            "365/365 - 1s - loss: 1383.5497 - val_loss: 1251.2644 - 618ms/epoch - 2ms/step\n",
            "Epoch 106/150\n",
            "365/365 - 1s - loss: 1382.9637 - val_loss: 1252.8566 - 655ms/epoch - 2ms/step\n",
            "Epoch 107/150\n",
            "365/365 - 1s - loss: 1382.6123 - val_loss: 1252.9758 - 599ms/epoch - 2ms/step\n",
            "Epoch 108/150\n",
            "365/365 - 1s - loss: 1382.5931 - val_loss: 1251.7953 - 563ms/epoch - 2ms/step\n",
            "Epoch 109/150\n",
            "365/365 - 1s - loss: 1382.4237 - val_loss: 1256.3655 - 552ms/epoch - 2ms/step\n",
            "Epoch 110/150\n",
            "365/365 - 1s - loss: 1382.2009 - val_loss: 1252.0228 - 634ms/epoch - 2ms/step\n",
            "Epoch 111/150\n",
            "365/365 - 1s - loss: 1381.0543 - val_loss: 1253.6107 - 610ms/epoch - 2ms/step\n",
            "Epoch 112/150\n",
            "365/365 - 1s - loss: 1381.4210 - val_loss: 1251.4437 - 617ms/epoch - 2ms/step\n",
            "Epoch 113/150\n",
            "365/365 - 1s - loss: 1381.0583 - val_loss: 1255.9178 - 613ms/epoch - 2ms/step\n",
            "Epoch 114/150\n",
            "365/365 - 1s - loss: 1380.9497 - val_loss: 1257.1785 - 554ms/epoch - 2ms/step\n",
            "Epoch 115/150\n",
            "365/365 - 1s - loss: 1380.7999 - val_loss: 1260.9503 - 567ms/epoch - 2ms/step\n",
            "Epoch 116/150\n",
            "365/365 - 1s - loss: 1381.2656 - val_loss: 1249.5664 - 574ms/epoch - 2ms/step\n",
            "Epoch 117/150\n",
            "365/365 - 1s - loss: 1380.5657 - val_loss: 1251.7238 - 585ms/epoch - 2ms/step\n",
            "Epoch 118/150\n",
            "365/365 - 1s - loss: 1379.6782 - val_loss: 1251.1061 - 589ms/epoch - 2ms/step\n",
            "Epoch 119/150\n",
            "365/365 - 1s - loss: 1380.3046 - val_loss: 1249.9377 - 558ms/epoch - 2ms/step\n",
            "Epoch 120/150\n",
            "365/365 - 1s - loss: 1379.2170 - val_loss: 1256.3986 - 558ms/epoch - 2ms/step\n",
            "Epoch 121/150\n",
            "365/365 - 1s - loss: 1379.5051 - val_loss: 1257.9344 - 591ms/epoch - 2ms/step\n",
            "Epoch 122/150\n",
            "365/365 - 1s - loss: 1378.8639 - val_loss: 1253.5023 - 560ms/epoch - 2ms/step\n",
            "Epoch 123/150\n",
            "365/365 - 1s - loss: 1379.2147 - val_loss: 1254.6340 - 551ms/epoch - 2ms/step\n",
            "Epoch 124/150\n",
            "365/365 - 1s - loss: 1378.5702 - val_loss: 1253.4337 - 605ms/epoch - 2ms/step\n",
            "Epoch 125/150\n",
            "365/365 - 1s - loss: 1378.2737 - val_loss: 1254.1940 - 552ms/epoch - 2ms/step\n",
            "Epoch 126/150\n",
            "365/365 - 1s - loss: 1377.5190 - val_loss: 1249.5446 - 583ms/epoch - 2ms/step\n",
            "Epoch 127/150\n",
            "365/365 - 1s - loss: 1377.5571 - val_loss: 1255.1273 - 576ms/epoch - 2ms/step\n",
            "Epoch 128/150\n",
            "365/365 - 1s - loss: 1377.5355 - val_loss: 1258.7065 - 558ms/epoch - 2ms/step\n",
            "Epoch 129/150\n",
            "365/365 - 1s - loss: 1377.7971 - val_loss: 1258.0300 - 617ms/epoch - 2ms/step\n",
            "Epoch 130/150\n",
            "365/365 - 1s - loss: 1376.3191 - val_loss: 1262.4270 - 554ms/epoch - 2ms/step\n",
            "Epoch 131/150\n",
            "365/365 - 1s - loss: 1377.0731 - val_loss: 1261.2350 - 575ms/epoch - 2ms/step\n",
            "Epoch 132/150\n",
            "365/365 - 1s - loss: 1376.7191 - val_loss: 1258.8741 - 564ms/epoch - 2ms/step\n",
            "Epoch 133/150\n",
            "365/365 - 1s - loss: 1376.0865 - val_loss: 1252.3976 - 550ms/epoch - 2ms/step\n",
            "Epoch 134/150\n",
            "365/365 - 1s - loss: 1376.1614 - val_loss: 1248.7266 - 561ms/epoch - 2ms/step\n",
            "Epoch 135/150\n",
            "365/365 - 1s - loss: 1376.3301 - val_loss: 1250.6554 - 615ms/epoch - 2ms/step\n",
            "Epoch 136/150\n",
            "365/365 - 1s - loss: 1375.4102 - val_loss: 1262.9154 - 625ms/epoch - 2ms/step\n",
            "Epoch 137/150\n",
            "365/365 - 1s - loss: 1376.1233 - val_loss: 1252.0532 - 617ms/epoch - 2ms/step\n",
            "Epoch 138/150\n",
            "365/365 - 1s - loss: 1375.6101 - val_loss: 1257.5488 - 571ms/epoch - 2ms/step\n",
            "Epoch 139/150\n",
            "365/365 - 1s - loss: 1374.8871 - val_loss: 1253.0175 - 631ms/epoch - 2ms/step\n",
            "Epoch 140/150\n",
            "365/365 - 1s - loss: 1374.6721 - val_loss: 1258.5197 - 565ms/epoch - 2ms/step\n",
            "Epoch 141/150\n",
            "365/365 - 1s - loss: 1375.1624 - val_loss: 1262.2170 - 584ms/epoch - 2ms/step\n",
            "Epoch 142/150\n",
            "365/365 - 1s - loss: 1374.2756 - val_loss: 1268.5378 - 594ms/epoch - 2ms/step\n",
            "Epoch 143/150\n",
            "365/365 - 1s - loss: 1373.3311 - val_loss: 1257.8058 - 584ms/epoch - 2ms/step\n",
            "Epoch 144/150\n",
            "365/365 - 1s - loss: 1374.4116 - val_loss: 1256.5721 - 576ms/epoch - 2ms/step\n",
            "Epoch 145/150\n",
            "365/365 - 1s - loss: 1374.1315 - val_loss: 1256.6309 - 552ms/epoch - 2ms/step\n",
            "Epoch 146/150\n",
            "365/365 - 1s - loss: 1373.3768 - val_loss: 1252.3971 - 634ms/epoch - 2ms/step\n",
            "Epoch 147/150\n",
            "365/365 - 1s - loss: 1373.5889 - val_loss: 1252.1252 - 598ms/epoch - 2ms/step\n",
            "Epoch 148/150\n",
            "365/365 - 1s - loss: 1373.8038 - val_loss: 1256.7129 - 578ms/epoch - 2ms/step\n",
            "Epoch 149/150\n",
            "365/365 - 1s - loss: 1372.8623 - val_loss: 1254.1206 - 600ms/epoch - 2ms/step\n",
            "Epoch 150/150\n",
            "365/365 - 1s - loss: 1372.9669 - val_loss: 1251.4553 - 612ms/epoch - 2ms/step\n"
          ]
        },
        {
          "output_type": "execute_result",
          "data": {
            "text/plain": [
              "<keras.callbacks.History at 0x7fdd633610d0>"
            ]
          },
          "metadata": {},
          "execution_count": 127
        }
      ]
    },
    {
      "cell_type": "code",
      "source": [
        "# fitting our validatation data\n",
        "y = model_dnn.predict(x_valid)"
      ],
      "metadata": {
        "id": "ETMUWiNdMcph"
      },
      "execution_count": null,
      "outputs": []
    },
    {
      "cell_type": "code",
      "source": [
        "y # output"
      ],
      "metadata": {
        "colab": {
          "base_uri": "https://localhost:8080/"
        },
        "id": "sJi68s9WoKkV",
        "outputId": "376719ba-d120-4031-bae4-5455a081ccb4"
      },
      "execution_count": null,
      "outputs": [
        {
          "output_type": "execute_result",
          "data": {
            "text/plain": [
              "array([[49.72172],\n",
              "       [51.69488],\n",
              "       [54.36572],\n",
              "       ...,\n",
              "       [84.62538],\n",
              "       [79.11505],\n",
              "       [73.64997]], dtype=float32)"
            ]
          },
          "metadata": {},
          "execution_count": 129
        }
      ]
    },
    {
      "cell_type": "code",
      "source": [
        "loss_dnn=mean_squared_error(y,y_valid) # calculating mean squared error"
      ],
      "metadata": {
        "id": "axynxYLWMcsK"
      },
      "execution_count": null,
      "outputs": []
    },
    {
      "cell_type": "code",
      "source": [
        "import math \n",
        "math.sqrt(loss_dnn) # for 160 eophs "
      ],
      "metadata": {
        "colab": {
          "base_uri": "https://localhost:8080/"
        },
        "id": "EvTT9CUkMcu5",
        "outputId": "0cb038e3-6f99-45b0-8659-f58053e43ed4"
      },
      "execution_count": null,
      "outputs": [
        {
          "output_type": "execute_result",
          "data": {
            "text/plain": [
              "38.70442025947229"
            ]
          },
          "metadata": {},
          "execution_count": 131
        }
      ]
    },
    {
      "cell_type": "code",
      "source": [
        "# for 150 epochs 38.58380867087268\n",
        " # for 100 eophs 39.09979115059641\n",
        " # for 200 epochs 39.30247768232674"
      ],
      "metadata": {
        "id": "W5eJrv3ufX6u"
      },
      "execution_count": null,
      "outputs": []
    },
    {
      "cell_type": "markdown",
      "source": [
        "##DNN on test data"
      ],
      "metadata": {
        "id": "He5ZDyuQqgUE"
      }
    },
    {
      "cell_type": "code",
      "source": [
        "test = pd.read_csv('/content/grive/MyDrive/test_6QvDdzb.csv')"
      ],
      "metadata": {
        "id": "5YOSd-lonWAl"
      },
      "execution_count": null,
      "outputs": []
    },
    {
      "cell_type": "code",
      "source": [
        "test.shape"
      ],
      "metadata": {
        "colab": {
          "base_uri": "https://localhost:8080/"
        },
        "outputId": "707d5cbe-8ad4-4f43-b045-3da6cd82a40d",
        "id": "WVIyG4WxnWAl"
      },
      "execution_count": null,
      "outputs": [
        {
          "output_type": "execute_result",
          "data": {
            "text/plain": [
              "(7650, 2)"
            ]
          },
          "metadata": {},
          "execution_count": 134
        }
      ]
    },
    {
      "cell_type": "code",
      "source": [
        "# FE on test data \n",
        "\n",
        "test['month'] = pd.to_datetime(test['date']).dt.month\n",
        "test['year'] = pd.to_datetime(test['date']).dt.year\n",
        "test['date1']=pd.to_datetime(test['date']).dt.day\n",
        "test[\"week\"]=pd.to_datetime(test['date']).dt.dayofweek"
      ],
      "metadata": {
        "id": "z5zDg6HanWAm"
      },
      "execution_count": null,
      "outputs": []
    },
    {
      "cell_type": "code",
      "source": [
        "test1=test.drop([\"date\"],axis=1)\n",
        "test1.shape"
      ],
      "metadata": {
        "colab": {
          "base_uri": "https://localhost:8080/"
        },
        "outputId": "7fa38549-75fb-4a47-9aac-dba1f431efe3",
        "id": "q_-YvH37nWAm"
      },
      "execution_count": null,
      "outputs": [
        {
          "output_type": "execute_result",
          "data": {
            "text/plain": [
              "(7650, 5)"
            ]
          },
          "metadata": {},
          "execution_count": 136
        }
      ]
    },
    {
      "cell_type": "code",
      "source": [
        "test1=scaler.transform(test1) #normalization of ourtrain data "
      ],
      "metadata": {
        "id": "RDYvdlqOoTYV"
      },
      "execution_count": null,
      "outputs": []
    },
    {
      "cell_type": "code",
      "source": [
        "pred_dnn = model_dnn.predict(test1) # predicting model on test data."
      ],
      "metadata": {
        "id": "FvppHf5NnFNF"
      },
      "execution_count": null,
      "outputs": []
    },
    {
      "cell_type": "code",
      "source": [
        "j2=pred_dnn"
      ],
      "metadata": {
        "id": "CwHuD3KInFNF"
      },
      "execution_count": null,
      "outputs": []
    },
    {
      "cell_type": "code",
      "source": [
        "demand=pd.DataFrame(j2,columns=[\"outputprediction\"]) # output converted into data frame "
      ],
      "metadata": {
        "id": "MNB1k-fnnFNF"
      },
      "execution_count": null,
      "outputs": []
    },
    {
      "cell_type": "code",
      "source": [
        "test_final=test = pd.read_csv('/content/grive/MyDrive/test_6QvDdzb.csv') # lodading test data "
      ],
      "metadata": {
        "id": "mUw2TVjTnnz6"
      },
      "execution_count": null,
      "outputs": []
    },
    {
      "cell_type": "code",
      "source": [
        "test_final[\"demand\"]=demand"
      ],
      "metadata": {
        "id": "VptLdbpvnnz6"
      },
      "execution_count": null,
      "outputs": []
    },
    {
      "cell_type": "code",
      "source": [
        "test_final[\"demand\"]=test_final[\"demand\"].apply(lambda x:round(x))"
      ],
      "metadata": {
        "id": "ATKvBnGVnnz7"
      },
      "execution_count": null,
      "outputs": []
    },
    {
      "cell_type": "code",
      "source": [
        "test_final.head()"
      ],
      "metadata": {
        "colab": {
          "base_uri": "https://localhost:8080/",
          "height": 206
        },
        "outputId": "1ba1f385-a3f6-4a9b-ca7a-ccdf431e4aa3",
        "id": "-TI49WmXnnz7"
      },
      "execution_count": null,
      "outputs": [
        {
          "output_type": "execute_result",
          "data": {
            "text/plain": [
              "         date  hour  demand\n",
              "0  2021-03-01     0      49\n",
              "1  2021-03-01     1      51\n",
              "2  2021-03-01     2      53\n",
              "3  2021-03-01     3      55\n",
              "4  2021-03-01     5      60"
            ],
            "text/html": [
              "\n",
              "  <div id=\"df-46c88e37-f1fc-40dd-916f-370624d3c98d\">\n",
              "    <div class=\"colab-df-container\">\n",
              "      <div>\n",
              "<style scoped>\n",
              "    .dataframe tbody tr th:only-of-type {\n",
              "        vertical-align: middle;\n",
              "    }\n",
              "\n",
              "    .dataframe tbody tr th {\n",
              "        vertical-align: top;\n",
              "    }\n",
              "\n",
              "    .dataframe thead th {\n",
              "        text-align: right;\n",
              "    }\n",
              "</style>\n",
              "<table border=\"1\" class=\"dataframe\">\n",
              "  <thead>\n",
              "    <tr style=\"text-align: right;\">\n",
              "      <th></th>\n",
              "      <th>date</th>\n",
              "      <th>hour</th>\n",
              "      <th>demand</th>\n",
              "    </tr>\n",
              "  </thead>\n",
              "  <tbody>\n",
              "    <tr>\n",
              "      <th>0</th>\n",
              "      <td>2021-03-01</td>\n",
              "      <td>0</td>\n",
              "      <td>49</td>\n",
              "    </tr>\n",
              "    <tr>\n",
              "      <th>1</th>\n",
              "      <td>2021-03-01</td>\n",
              "      <td>1</td>\n",
              "      <td>51</td>\n",
              "    </tr>\n",
              "    <tr>\n",
              "      <th>2</th>\n",
              "      <td>2021-03-01</td>\n",
              "      <td>2</td>\n",
              "      <td>53</td>\n",
              "    </tr>\n",
              "    <tr>\n",
              "      <th>3</th>\n",
              "      <td>2021-03-01</td>\n",
              "      <td>3</td>\n",
              "      <td>55</td>\n",
              "    </tr>\n",
              "    <tr>\n",
              "      <th>4</th>\n",
              "      <td>2021-03-01</td>\n",
              "      <td>5</td>\n",
              "      <td>60</td>\n",
              "    </tr>\n",
              "  </tbody>\n",
              "</table>\n",
              "</div>\n",
              "      <button class=\"colab-df-convert\" onclick=\"convertToInteractive('df-46c88e37-f1fc-40dd-916f-370624d3c98d')\"\n",
              "              title=\"Convert this dataframe to an interactive table.\"\n",
              "              style=\"display:none;\">\n",
              "        \n",
              "  <svg xmlns=\"http://www.w3.org/2000/svg\" height=\"24px\"viewBox=\"0 0 24 24\"\n",
              "       width=\"24px\">\n",
              "    <path d=\"M0 0h24v24H0V0z\" fill=\"none\"/>\n",
              "    <path d=\"M18.56 5.44l.94 2.06.94-2.06 2.06-.94-2.06-.94-.94-2.06-.94 2.06-2.06.94zm-11 1L8.5 8.5l.94-2.06 2.06-.94-2.06-.94L8.5 2.5l-.94 2.06-2.06.94zm10 10l.94 2.06.94-2.06 2.06-.94-2.06-.94-.94-2.06-.94 2.06-2.06.94z\"/><path d=\"M17.41 7.96l-1.37-1.37c-.4-.4-.92-.59-1.43-.59-.52 0-1.04.2-1.43.59L10.3 9.45l-7.72 7.72c-.78.78-.78 2.05 0 2.83L4 21.41c.39.39.9.59 1.41.59.51 0 1.02-.2 1.41-.59l7.78-7.78 2.81-2.81c.8-.78.8-2.07 0-2.86zM5.41 20L4 18.59l7.72-7.72 1.47 1.35L5.41 20z\"/>\n",
              "  </svg>\n",
              "      </button>\n",
              "      \n",
              "  <style>\n",
              "    .colab-df-container {\n",
              "      display:flex;\n",
              "      flex-wrap:wrap;\n",
              "      gap: 12px;\n",
              "    }\n",
              "\n",
              "    .colab-df-convert {\n",
              "      background-color: #E8F0FE;\n",
              "      border: none;\n",
              "      border-radius: 50%;\n",
              "      cursor: pointer;\n",
              "      display: none;\n",
              "      fill: #1967D2;\n",
              "      height: 32px;\n",
              "      padding: 0 0 0 0;\n",
              "      width: 32px;\n",
              "    }\n",
              "\n",
              "    .colab-df-convert:hover {\n",
              "      background-color: #E2EBFA;\n",
              "      box-shadow: 0px 1px 2px rgba(60, 64, 67, 0.3), 0px 1px 3px 1px rgba(60, 64, 67, 0.15);\n",
              "      fill: #174EA6;\n",
              "    }\n",
              "\n",
              "    [theme=dark] .colab-df-convert {\n",
              "      background-color: #3B4455;\n",
              "      fill: #D2E3FC;\n",
              "    }\n",
              "\n",
              "    [theme=dark] .colab-df-convert:hover {\n",
              "      background-color: #434B5C;\n",
              "      box-shadow: 0px 1px 3px 1px rgba(0, 0, 0, 0.15);\n",
              "      filter: drop-shadow(0px 1px 2px rgba(0, 0, 0, 0.3));\n",
              "      fill: #FFFFFF;\n",
              "    }\n",
              "  </style>\n",
              "\n",
              "      <script>\n",
              "        const buttonEl =\n",
              "          document.querySelector('#df-46c88e37-f1fc-40dd-916f-370624d3c98d button.colab-df-convert');\n",
              "        buttonEl.style.display =\n",
              "          google.colab.kernel.accessAllowed ? 'block' : 'none';\n",
              "\n",
              "        async function convertToInteractive(key) {\n",
              "          const element = document.querySelector('#df-46c88e37-f1fc-40dd-916f-370624d3c98d');\n",
              "          const dataTable =\n",
              "            await google.colab.kernel.invokeFunction('convertToInteractive',\n",
              "                                                     [key], {});\n",
              "          if (!dataTable) return;\n",
              "\n",
              "          const docLinkHtml = 'Like what you see? Visit the ' +\n",
              "            '<a target=\"_blank\" href=https://colab.research.google.com/notebooks/data_table.ipynb>data table notebook</a>'\n",
              "            + ' to learn more about interactive tables.';\n",
              "          element.innerHTML = '';\n",
              "          dataTable['output_type'] = 'display_data';\n",
              "          await google.colab.output.renderOutput(dataTable, element);\n",
              "          const docLink = document.createElement('div');\n",
              "          docLink.innerHTML = docLinkHtml;\n",
              "          element.appendChild(docLink);\n",
              "        }\n",
              "      </script>\n",
              "    </div>\n",
              "  </div>\n",
              "  "
            ]
          },
          "metadata": {},
          "execution_count": 144
        }
      ]
    },
    {
      "cell_type": "code",
      "source": [
        "df=test_final.set_index(\"date\") # setting data as per required format."
      ],
      "metadata": {
        "id": "9z0Qs7Wlnnz7"
      },
      "execution_count": null,
      "outputs": []
    },
    {
      "cell_type": "code",
      "source": [
        "df"
      ],
      "metadata": {
        "colab": {
          "base_uri": "https://localhost:8080/",
          "height": 455
        },
        "id": "dhu12Xh4nnSz",
        "outputId": "6c6f7675-cef8-4711-f8b0-5774188e7f78"
      },
      "execution_count": null,
      "outputs": [
        {
          "output_type": "execute_result",
          "data": {
            "text/plain": [
              "            hour  demand\n",
              "date                    \n",
              "2021-03-01     0      49\n",
              "2021-03-01     1      51\n",
              "2021-03-01     2      53\n",
              "2021-03-01     3      55\n",
              "2021-03-01     5      60\n",
              "...          ...     ...\n",
              "2022-03-28    19      78\n",
              "2022-03-28    20      75\n",
              "2022-03-28    21      71\n",
              "2022-03-28    22      66\n",
              "2022-03-28    23      61\n",
              "\n",
              "[7650 rows x 2 columns]"
            ],
            "text/html": [
              "\n",
              "  <div id=\"df-ff58d8c1-bad6-4936-a6ed-601a9b22eba9\">\n",
              "    <div class=\"colab-df-container\">\n",
              "      <div>\n",
              "<style scoped>\n",
              "    .dataframe tbody tr th:only-of-type {\n",
              "        vertical-align: middle;\n",
              "    }\n",
              "\n",
              "    .dataframe tbody tr th {\n",
              "        vertical-align: top;\n",
              "    }\n",
              "\n",
              "    .dataframe thead th {\n",
              "        text-align: right;\n",
              "    }\n",
              "</style>\n",
              "<table border=\"1\" class=\"dataframe\">\n",
              "  <thead>\n",
              "    <tr style=\"text-align: right;\">\n",
              "      <th></th>\n",
              "      <th>hour</th>\n",
              "      <th>demand</th>\n",
              "    </tr>\n",
              "    <tr>\n",
              "      <th>date</th>\n",
              "      <th></th>\n",
              "      <th></th>\n",
              "    </tr>\n",
              "  </thead>\n",
              "  <tbody>\n",
              "    <tr>\n",
              "      <th>2021-03-01</th>\n",
              "      <td>0</td>\n",
              "      <td>49</td>\n",
              "    </tr>\n",
              "    <tr>\n",
              "      <th>2021-03-01</th>\n",
              "      <td>1</td>\n",
              "      <td>51</td>\n",
              "    </tr>\n",
              "    <tr>\n",
              "      <th>2021-03-01</th>\n",
              "      <td>2</td>\n",
              "      <td>53</td>\n",
              "    </tr>\n",
              "    <tr>\n",
              "      <th>2021-03-01</th>\n",
              "      <td>3</td>\n",
              "      <td>55</td>\n",
              "    </tr>\n",
              "    <tr>\n",
              "      <th>2021-03-01</th>\n",
              "      <td>5</td>\n",
              "      <td>60</td>\n",
              "    </tr>\n",
              "    <tr>\n",
              "      <th>...</th>\n",
              "      <td>...</td>\n",
              "      <td>...</td>\n",
              "    </tr>\n",
              "    <tr>\n",
              "      <th>2022-03-28</th>\n",
              "      <td>19</td>\n",
              "      <td>78</td>\n",
              "    </tr>\n",
              "    <tr>\n",
              "      <th>2022-03-28</th>\n",
              "      <td>20</td>\n",
              "      <td>75</td>\n",
              "    </tr>\n",
              "    <tr>\n",
              "      <th>2022-03-28</th>\n",
              "      <td>21</td>\n",
              "      <td>71</td>\n",
              "    </tr>\n",
              "    <tr>\n",
              "      <th>2022-03-28</th>\n",
              "      <td>22</td>\n",
              "      <td>66</td>\n",
              "    </tr>\n",
              "    <tr>\n",
              "      <th>2022-03-28</th>\n",
              "      <td>23</td>\n",
              "      <td>61</td>\n",
              "    </tr>\n",
              "  </tbody>\n",
              "</table>\n",
              "<p>7650 rows × 2 columns</p>\n",
              "</div>\n",
              "      <button class=\"colab-df-convert\" onclick=\"convertToInteractive('df-ff58d8c1-bad6-4936-a6ed-601a9b22eba9')\"\n",
              "              title=\"Convert this dataframe to an interactive table.\"\n",
              "              style=\"display:none;\">\n",
              "        \n",
              "  <svg xmlns=\"http://www.w3.org/2000/svg\" height=\"24px\"viewBox=\"0 0 24 24\"\n",
              "       width=\"24px\">\n",
              "    <path d=\"M0 0h24v24H0V0z\" fill=\"none\"/>\n",
              "    <path d=\"M18.56 5.44l.94 2.06.94-2.06 2.06-.94-2.06-.94-.94-2.06-.94 2.06-2.06.94zm-11 1L8.5 8.5l.94-2.06 2.06-.94-2.06-.94L8.5 2.5l-.94 2.06-2.06.94zm10 10l.94 2.06.94-2.06 2.06-.94-2.06-.94-.94-2.06-.94 2.06-2.06.94z\"/><path d=\"M17.41 7.96l-1.37-1.37c-.4-.4-.92-.59-1.43-.59-.52 0-1.04.2-1.43.59L10.3 9.45l-7.72 7.72c-.78.78-.78 2.05 0 2.83L4 21.41c.39.39.9.59 1.41.59.51 0 1.02-.2 1.41-.59l7.78-7.78 2.81-2.81c.8-.78.8-2.07 0-2.86zM5.41 20L4 18.59l7.72-7.72 1.47 1.35L5.41 20z\"/>\n",
              "  </svg>\n",
              "      </button>\n",
              "      \n",
              "  <style>\n",
              "    .colab-df-container {\n",
              "      display:flex;\n",
              "      flex-wrap:wrap;\n",
              "      gap: 12px;\n",
              "    }\n",
              "\n",
              "    .colab-df-convert {\n",
              "      background-color: #E8F0FE;\n",
              "      border: none;\n",
              "      border-radius: 50%;\n",
              "      cursor: pointer;\n",
              "      display: none;\n",
              "      fill: #1967D2;\n",
              "      height: 32px;\n",
              "      padding: 0 0 0 0;\n",
              "      width: 32px;\n",
              "    }\n",
              "\n",
              "    .colab-df-convert:hover {\n",
              "      background-color: #E2EBFA;\n",
              "      box-shadow: 0px 1px 2px rgba(60, 64, 67, 0.3), 0px 1px 3px 1px rgba(60, 64, 67, 0.15);\n",
              "      fill: #174EA6;\n",
              "    }\n",
              "\n",
              "    [theme=dark] .colab-df-convert {\n",
              "      background-color: #3B4455;\n",
              "      fill: #D2E3FC;\n",
              "    }\n",
              "\n",
              "    [theme=dark] .colab-df-convert:hover {\n",
              "      background-color: #434B5C;\n",
              "      box-shadow: 0px 1px 3px 1px rgba(0, 0, 0, 0.15);\n",
              "      filter: drop-shadow(0px 1px 2px rgba(0, 0, 0, 0.3));\n",
              "      fill: #FFFFFF;\n",
              "    }\n",
              "  </style>\n",
              "\n",
              "      <script>\n",
              "        const buttonEl =\n",
              "          document.querySelector('#df-ff58d8c1-bad6-4936-a6ed-601a9b22eba9 button.colab-df-convert');\n",
              "        buttonEl.style.display =\n",
              "          google.colab.kernel.accessAllowed ? 'block' : 'none';\n",
              "\n",
              "        async function convertToInteractive(key) {\n",
              "          const element = document.querySelector('#df-ff58d8c1-bad6-4936-a6ed-601a9b22eba9');\n",
              "          const dataTable =\n",
              "            await google.colab.kernel.invokeFunction('convertToInteractive',\n",
              "                                                     [key], {});\n",
              "          if (!dataTable) return;\n",
              "\n",
              "          const docLinkHtml = 'Like what you see? Visit the ' +\n",
              "            '<a target=\"_blank\" href=https://colab.research.google.com/notebooks/data_table.ipynb>data table notebook</a>'\n",
              "            + ' to learn more about interactive tables.';\n",
              "          element.innerHTML = '';\n",
              "          dataTable['output_type'] = 'display_data';\n",
              "          await google.colab.output.renderOutput(dataTable, element);\n",
              "          const docLink = document.createElement('div');\n",
              "          docLink.innerHTML = docLinkHtml;\n",
              "          element.appendChild(docLink);\n",
              "        }\n",
              "      </script>\n",
              "    </div>\n",
              "  </div>\n",
              "  "
            ]
          },
          "metadata": {},
          "execution_count": 146
        }
      ]
    },
    {
      "cell_type": "code",
      "source": [
        "df.to_csv('/content/grive/MyDrive/DNN_new.csv')"
      ],
      "metadata": {
        "id": "CHZYiVzBnnZH"
      },
      "execution_count": null,
      "outputs": []
    },
    {
      "cell_type": "code",
      "source": [
        ""
      ],
      "metadata": {
        "id": "4NikRGyntXht"
      },
      "execution_count": null,
      "outputs": []
    },
    {
      "cell_type": "code",
      "source": [
        ""
      ],
      "metadata": {
        "id": "6MKf9WnNtXkn"
      },
      "execution_count": null,
      "outputs": []
    },
    {
      "cell_type": "markdown",
      "source": [
        "##Gradient boosting"
      ],
      "metadata": {
        "id": "4YTTT7aI05by"
      }
    },
    {
      "cell_type": "code",
      "source": [
        "from sklearn.ensemble import GradientBoostingRegressor"
      ],
      "metadata": {
        "id": "W5-fWpx7tXnj"
      },
      "execution_count": null,
      "outputs": []
    },
    {
      "cell_type": "code",
      "source": [
        "# setting gradient booasting to squared error \n",
        "reg = GradientBoostingRegressor(random_state=0,criterion='squared_error')\n",
        "reg.fit(x_train, y_train)"
      ],
      "metadata": {
        "colab": {
          "base_uri": "https://localhost:8080/"
        },
        "id": "tDKLHM3DtXqF",
        "outputId": "a8f812c4-aeba-4351-d2c5-003085b0f653"
      },
      "execution_count": null,
      "outputs": [
        {
          "output_type": "execute_result",
          "data": {
            "text/plain": [
              "GradientBoostingRegressor(criterion='squared_error', random_state=0)"
            ]
          },
          "metadata": {},
          "execution_count": 149
        }
      ]
    },
    {
      "cell_type": "code",
      "source": [
        "y_reg=reg.predict(x_valid) # predicting it on validation data without hyper tunning"
      ],
      "metadata": {
        "id": "J4lDxfJ-tXtG"
      },
      "execution_count": null,
      "outputs": []
    },
    {
      "cell_type": "code",
      "source": [
        "loss_reg=mean_squared_error(y_reg,y_valid) # calculating squared loss "
      ],
      "metadata": {
        "id": "mLJ5FywdtXv1"
      },
      "execution_count": null,
      "outputs": []
    },
    {
      "cell_type": "code",
      "source": [
        "loss=sqrt(loss_reg)\n",
        "loss          # RMSE loss "
      ],
      "metadata": {
        "colab": {
          "base_uri": "https://localhost:8080/"
        },
        "id": "W5P-ysjMtXyq",
        "outputId": "9f135eac-f5f9-429f-8640-854ec1fbd95a"
      },
      "execution_count": null,
      "outputs": [
        {
          "output_type": "execute_result",
          "data": {
            "text/plain": [
              "37.58390963641146"
            ]
          },
          "metadata": {},
          "execution_count": 152
        }
      ]
    },
    {
      "cell_type": "code",
      "source": [
        ""
      ],
      "metadata": {
        "id": "PWh3LRs0tX1M"
      },
      "execution_count": null,
      "outputs": []
    },
    {
      "cell_type": "markdown",
      "source": [
        "##HYper parameter tunning of gradient boosting"
      ],
      "metadata": {
        "id": "jPM4PzvB09Uf"
      }
    },
    {
      "cell_type": "code",
      "source": [
        "# hyper parameter tunning with nestimators .and checking for rmse loss.\n",
        "n_estimators=[5,50,250,500,700,800,900]\n",
        "for i in n_estimators:\n",
        "  reg = GradientBoostingRegressor(random_state=0,criterion='squared_error',n_estimators=i)\n",
        "  reg.fit(x_train, y_train)\n",
        "  y_reg=reg.predict(x_valid)\n",
        "  loss_reg=mean_squared_error(y_reg,y_valid)\n",
        "  loss=sqrt(loss_reg)\n",
        "  print(i)\n",
        "  print(\"RMSE:\",loss)\n",
        "\n",
        "  #nestimator value 700 we lot low rmse score"
      ],
      "metadata": {
        "colab": {
          "base_uri": "https://localhost:8080/"
        },
        "id": "5etlCBH_v-l1",
        "outputId": "893cb30c-7569-468d-df1d-5996cca74e55"
      },
      "execution_count": null,
      "outputs": [
        {
          "output_type": "stream",
          "name": "stdout",
          "text": [
            "5\n",
            "RMSE: 42.806101378668465\n",
            "50\n",
            "RMSE: 38.294293101772496\n",
            "250\n",
            "RMSE: 37.2010624225084\n",
            "500\n",
            "RMSE: 37.13616195962469\n",
            "700\n",
            "RMSE: 37.12983198436382\n",
            "800\n",
            "RMSE: 37.16095071647598\n",
            "900\n",
            "RMSE: 37.19968586931624\n"
          ]
        }
      ]
    },
    {
      "cell_type": "code",
      "source": [
        "# hyper parameter tunning \n",
        "\n",
        "max_depth=[1,3,5,7,9]\n",
        "for i in max_depth:\n",
        "  reg = GradientBoostingRegressor(random_state=0,criterion='squared_error',n_estimators=700,max_depth=i)\n",
        "  reg.fit(x_train, y_train)\n",
        "  y_reg=reg.predict(x_valid)\n",
        "  loss_reg=mean_squared_error(y_reg,y_valid)\n",
        "  loss=sqrt(loss_reg)\n",
        "  print(i)\n",
        "  print(\"RMSE:\",loss)\n",
        "\n",
        "# for maxdepth of 3 rmse value is very less."
      ],
      "metadata": {
        "colab": {
          "base_uri": "https://localhost:8080/"
        },
        "id": "Yz_7BG4Yzjoj",
        "outputId": "29d9cebb-d5ef-46c5-993c-3d124ccd57a5"
      },
      "execution_count": null,
      "outputs": [
        {
          "output_type": "stream",
          "name": "stdout",
          "text": [
            "1\n",
            "RMSE: 39.399734564242486\n",
            "3\n",
            "RMSE: 37.12983198436382\n",
            "5\n",
            "RMSE: 39.58752300914193\n",
            "7\n",
            "RMSE: 42.601736892645874\n",
            "9\n",
            "RMSE: 43.12845859736164\n"
          ]
        }
      ]
    },
    {
      "cell_type": "code",
      "source": [
        "# final gradient boosting with our hyper paramters \n",
        "reg = GradientBoostingRegressor(random_state=0,criterion='squared_error',n_estimators=700,max_depth=3)\n",
        "reg.fit(x_train, y_train)\n",
        "y_reg=reg.predict(x_valid)\n",
        "loss_reg=mean_squared_error(y_reg,y_valid)\n",
        "loss=sqrt(loss_reg)\n"
      ],
      "metadata": {
        "id": "5TYKdzKgwMUT"
      },
      "execution_count": null,
      "outputs": []
    },
    {
      "cell_type": "code",
      "source": [
        "\n"
      ],
      "metadata": {
        "id": "-WPX1xIHwRIR"
      },
      "execution_count": null,
      "outputs": []
    },
    {
      "cell_type": "code",
      "source": [
        "loss # rmse loss\n"
      ],
      "metadata": {
        "colab": {
          "base_uri": "https://localhost:8080/"
        },
        "id": "6R0QOFgS0mfR",
        "outputId": "fec9ef1f-068b-407b-cd33-1e4cfe6a6e44"
      },
      "execution_count": null,
      "outputs": [
        {
          "output_type": "execute_result",
          "data": {
            "text/plain": [
              "37.12983198436382"
            ]
          },
          "metadata": {},
          "execution_count": 156
        }
      ]
    },
    {
      "cell_type": "markdown",
      "source": [
        "##Gradient boosting on test data"
      ],
      "metadata": {
        "id": "TEuD--jN2nVD"
      }
    },
    {
      "cell_type": "code",
      "source": [
        "test = pd.read_csv('/content/grive/MyDrive/test_6QvDdzb.csv') # loading test data"
      ],
      "metadata": {
        "id": "xAi90kr91PEc"
      },
      "execution_count": null,
      "outputs": []
    },
    {
      "cell_type": "code",
      "source": [
        "test.shape"
      ],
      "metadata": {
        "colab": {
          "base_uri": "https://localhost:8080/"
        },
        "outputId": "f52e2de6-c2b7-4b6a-ef9b-784fb0264009",
        "id": "mp4reGVk1PEd"
      },
      "execution_count": null,
      "outputs": [
        {
          "output_type": "execute_result",
          "data": {
            "text/plain": [
              "(7650, 2)"
            ]
          },
          "metadata": {},
          "execution_count": 158
        }
      ]
    },
    {
      "cell_type": "code",
      "source": [
        "#making test data similiar to train data\n",
        "test['month'] = pd.to_datetime(test['date']).dt.month\n",
        "test['year'] = pd.to_datetime(test['date']).dt.year\n",
        "test['date1']=pd.to_datetime(test['date']).dt.day\n",
        "test[\"week\"]=pd.to_datetime(test['date']).dt.dayofweek "
      ],
      "metadata": {
        "id": "zlk6oowW1PEd"
      },
      "execution_count": null,
      "outputs": []
    },
    {
      "cell_type": "code",
      "source": [
        "test1=test.drop([\"date\"],axis=1)\n",
        "test1.shape"
      ],
      "metadata": {
        "colab": {
          "base_uri": "https://localhost:8080/"
        },
        "outputId": "72f06239-d323-4719-fe85-2da265332877",
        "id": "cm_BOxmF1PEd"
      },
      "execution_count": null,
      "outputs": [
        {
          "output_type": "execute_result",
          "data": {
            "text/plain": [
              "(7650, 5)"
            ]
          },
          "metadata": {},
          "execution_count": 160
        }
      ]
    },
    {
      "cell_type": "code",
      "source": [
        "test1=scaler.transform(test1) #normalization of our test data "
      ],
      "metadata": {
        "id": "2m5ctEmE1PEd"
      },
      "execution_count": null,
      "outputs": []
    },
    {
      "cell_type": "code",
      "source": [
        ""
      ],
      "metadata": {
        "id": "P_XhiDbo1Ijv"
      },
      "execution_count": null,
      "outputs": []
    },
    {
      "cell_type": "code",
      "source": [
        "y_reg=reg.predict(test1) # fitting test data to our model"
      ],
      "metadata": {
        "id": "Yeh_lHlB1oY-"
      },
      "execution_count": null,
      "outputs": []
    },
    {
      "cell_type": "code",
      "source": [
        "y_reg.shape"
      ],
      "metadata": {
        "colab": {
          "base_uri": "https://localhost:8080/"
        },
        "id": "fHSPI0ryzrng",
        "outputId": "cfaad58d-e7bf-4718-d933-28f74f4c0ddc"
      },
      "execution_count": null,
      "outputs": [
        {
          "output_type": "execute_result",
          "data": {
            "text/plain": [
              "(7650,)"
            ]
          },
          "metadata": {},
          "execution_count": 163
        }
      ]
    },
    {
      "cell_type": "code",
      "source": [
        "y_reg"
      ],
      "metadata": {
        "colab": {
          "base_uri": "https://localhost:8080/"
        },
        "id": "5WnBmkc40YEI",
        "outputId": "35bb21e7-7d89-4546-b3b8-a2daa1253a19"
      },
      "execution_count": null,
      "outputs": [
        {
          "output_type": "execute_result",
          "data": {
            "text/plain": [
              "array([57.283905  , 51.75624222, 56.76450173, ..., 73.50817155,\n",
              "       69.14049645, 63.99106388])"
            ]
          },
          "metadata": {},
          "execution_count": 164
        }
      ]
    },
    {
      "cell_type": "code",
      "source": [
        "j=y_reg"
      ],
      "metadata": {
        "id": "C4DeW4nD1oY-"
      },
      "execution_count": null,
      "outputs": []
    },
    {
      "cell_type": "code",
      "source": [
        "demand=pd.DataFrame(j,columns=[\"outputprediction\"]) # converting it into data frame"
      ],
      "metadata": {
        "id": "4TuFVj_K1oY-"
      },
      "execution_count": null,
      "outputs": []
    },
    {
      "cell_type": "code",
      "source": [
        "test_final=test = pd.read_csv('/content/grive/MyDrive/test_6QvDdzb.csv')"
      ],
      "metadata": {
        "id": "afilq39i1oY-"
      },
      "execution_count": null,
      "outputs": []
    },
    {
      "cell_type": "code",
      "source": [
        "test_final[\"demand\"]=demand"
      ],
      "metadata": {
        "id": "KTbjpsBT1oY-"
      },
      "execution_count": null,
      "outputs": []
    },
    {
      "cell_type": "code",
      "source": [
        "test_final[\"demand\"]=test_final[\"demand\"].apply(lambda x:round(x)) # rounding of the values "
      ],
      "metadata": {
        "id": "09l2BcLR1oY-"
      },
      "execution_count": null,
      "outputs": []
    },
    {
      "cell_type": "code",
      "source": [
        "test_final.head()"
      ],
      "metadata": {
        "colab": {
          "base_uri": "https://localhost:8080/",
          "height": 206
        },
        "outputId": "d982ce8a-c768-46bc-ca3f-9eb6dce0a379",
        "id": "kr6Ako-N1oY-"
      },
      "execution_count": null,
      "outputs": [
        {
          "output_type": "execute_result",
          "data": {
            "text/plain": [
              "         date  hour  demand\n",
              "0  2021-03-01     0      57\n",
              "1  2021-03-01     1      52\n",
              "2  2021-03-01     2      57\n",
              "3  2021-03-01     3      59\n",
              "4  2021-03-01     5      61"
            ],
            "text/html": [
              "\n",
              "  <div id=\"df-7cd366eb-4b04-4e1d-932c-2525e30407ee\">\n",
              "    <div class=\"colab-df-container\">\n",
              "      <div>\n",
              "<style scoped>\n",
              "    .dataframe tbody tr th:only-of-type {\n",
              "        vertical-align: middle;\n",
              "    }\n",
              "\n",
              "    .dataframe tbody tr th {\n",
              "        vertical-align: top;\n",
              "    }\n",
              "\n",
              "    .dataframe thead th {\n",
              "        text-align: right;\n",
              "    }\n",
              "</style>\n",
              "<table border=\"1\" class=\"dataframe\">\n",
              "  <thead>\n",
              "    <tr style=\"text-align: right;\">\n",
              "      <th></th>\n",
              "      <th>date</th>\n",
              "      <th>hour</th>\n",
              "      <th>demand</th>\n",
              "    </tr>\n",
              "  </thead>\n",
              "  <tbody>\n",
              "    <tr>\n",
              "      <th>0</th>\n",
              "      <td>2021-03-01</td>\n",
              "      <td>0</td>\n",
              "      <td>57</td>\n",
              "    </tr>\n",
              "    <tr>\n",
              "      <th>1</th>\n",
              "      <td>2021-03-01</td>\n",
              "      <td>1</td>\n",
              "      <td>52</td>\n",
              "    </tr>\n",
              "    <tr>\n",
              "      <th>2</th>\n",
              "      <td>2021-03-01</td>\n",
              "      <td>2</td>\n",
              "      <td>57</td>\n",
              "    </tr>\n",
              "    <tr>\n",
              "      <th>3</th>\n",
              "      <td>2021-03-01</td>\n",
              "      <td>3</td>\n",
              "      <td>59</td>\n",
              "    </tr>\n",
              "    <tr>\n",
              "      <th>4</th>\n",
              "      <td>2021-03-01</td>\n",
              "      <td>5</td>\n",
              "      <td>61</td>\n",
              "    </tr>\n",
              "  </tbody>\n",
              "</table>\n",
              "</div>\n",
              "      <button class=\"colab-df-convert\" onclick=\"convertToInteractive('df-7cd366eb-4b04-4e1d-932c-2525e30407ee')\"\n",
              "              title=\"Convert this dataframe to an interactive table.\"\n",
              "              style=\"display:none;\">\n",
              "        \n",
              "  <svg xmlns=\"http://www.w3.org/2000/svg\" height=\"24px\"viewBox=\"0 0 24 24\"\n",
              "       width=\"24px\">\n",
              "    <path d=\"M0 0h24v24H0V0z\" fill=\"none\"/>\n",
              "    <path d=\"M18.56 5.44l.94 2.06.94-2.06 2.06-.94-2.06-.94-.94-2.06-.94 2.06-2.06.94zm-11 1L8.5 8.5l.94-2.06 2.06-.94-2.06-.94L8.5 2.5l-.94 2.06-2.06.94zm10 10l.94 2.06.94-2.06 2.06-.94-2.06-.94-.94-2.06-.94 2.06-2.06.94z\"/><path d=\"M17.41 7.96l-1.37-1.37c-.4-.4-.92-.59-1.43-.59-.52 0-1.04.2-1.43.59L10.3 9.45l-7.72 7.72c-.78.78-.78 2.05 0 2.83L4 21.41c.39.39.9.59 1.41.59.51 0 1.02-.2 1.41-.59l7.78-7.78 2.81-2.81c.8-.78.8-2.07 0-2.86zM5.41 20L4 18.59l7.72-7.72 1.47 1.35L5.41 20z\"/>\n",
              "  </svg>\n",
              "      </button>\n",
              "      \n",
              "  <style>\n",
              "    .colab-df-container {\n",
              "      display:flex;\n",
              "      flex-wrap:wrap;\n",
              "      gap: 12px;\n",
              "    }\n",
              "\n",
              "    .colab-df-convert {\n",
              "      background-color: #E8F0FE;\n",
              "      border: none;\n",
              "      border-radius: 50%;\n",
              "      cursor: pointer;\n",
              "      display: none;\n",
              "      fill: #1967D2;\n",
              "      height: 32px;\n",
              "      padding: 0 0 0 0;\n",
              "      width: 32px;\n",
              "    }\n",
              "\n",
              "    .colab-df-convert:hover {\n",
              "      background-color: #E2EBFA;\n",
              "      box-shadow: 0px 1px 2px rgba(60, 64, 67, 0.3), 0px 1px 3px 1px rgba(60, 64, 67, 0.15);\n",
              "      fill: #174EA6;\n",
              "    }\n",
              "\n",
              "    [theme=dark] .colab-df-convert {\n",
              "      background-color: #3B4455;\n",
              "      fill: #D2E3FC;\n",
              "    }\n",
              "\n",
              "    [theme=dark] .colab-df-convert:hover {\n",
              "      background-color: #434B5C;\n",
              "      box-shadow: 0px 1px 3px 1px rgba(0, 0, 0, 0.15);\n",
              "      filter: drop-shadow(0px 1px 2px rgba(0, 0, 0, 0.3));\n",
              "      fill: #FFFFFF;\n",
              "    }\n",
              "  </style>\n",
              "\n",
              "      <script>\n",
              "        const buttonEl =\n",
              "          document.querySelector('#df-7cd366eb-4b04-4e1d-932c-2525e30407ee button.colab-df-convert');\n",
              "        buttonEl.style.display =\n",
              "          google.colab.kernel.accessAllowed ? 'block' : 'none';\n",
              "\n",
              "        async function convertToInteractive(key) {\n",
              "          const element = document.querySelector('#df-7cd366eb-4b04-4e1d-932c-2525e30407ee');\n",
              "          const dataTable =\n",
              "            await google.colab.kernel.invokeFunction('convertToInteractive',\n",
              "                                                     [key], {});\n",
              "          if (!dataTable) return;\n",
              "\n",
              "          const docLinkHtml = 'Like what you see? Visit the ' +\n",
              "            '<a target=\"_blank\" href=https://colab.research.google.com/notebooks/data_table.ipynb>data table notebook</a>'\n",
              "            + ' to learn more about interactive tables.';\n",
              "          element.innerHTML = '';\n",
              "          dataTable['output_type'] = 'display_data';\n",
              "          await google.colab.output.renderOutput(dataTable, element);\n",
              "          const docLink = document.createElement('div');\n",
              "          docLink.innerHTML = docLinkHtml;\n",
              "          element.appendChild(docLink);\n",
              "        }\n",
              "      </script>\n",
              "    </div>\n",
              "  </div>\n",
              "  "
            ]
          },
          "metadata": {},
          "execution_count": 170
        }
      ]
    },
    {
      "cell_type": "code",
      "source": [
        ""
      ],
      "metadata": {
        "id": "EBddbC1G1ImO"
      },
      "execution_count": null,
      "outputs": []
    },
    {
      "cell_type": "code",
      "source": [
        "df=test_final.set_index(\"date\")"
      ],
      "metadata": {
        "id": "x8eFLetx2HYe"
      },
      "execution_count": null,
      "outputs": []
    },
    {
      "cell_type": "code",
      "source": [
        "df"
      ],
      "metadata": {
        "colab": {
          "base_uri": "https://localhost:8080/",
          "height": 455
        },
        "outputId": "3c9f3cde-ec14-4cc1-98cb-269905d7d8d8",
        "id": "SM5a3ipS2HYe"
      },
      "execution_count": null,
      "outputs": [
        {
          "output_type": "execute_result",
          "data": {
            "text/plain": [
              "            hour  demand\n",
              "date                    \n",
              "2021-03-01     0      57\n",
              "2021-03-01     1      52\n",
              "2021-03-01     2      57\n",
              "2021-03-01     3      59\n",
              "2021-03-01     5      61\n",
              "...          ...     ...\n",
              "2022-03-28    19      89\n",
              "2022-03-28    20      80\n",
              "2022-03-28    21      74\n",
              "2022-03-28    22      69\n",
              "2022-03-28    23      64\n",
              "\n",
              "[7650 rows x 2 columns]"
            ],
            "text/html": [
              "\n",
              "  <div id=\"df-f0609cce-0e46-4144-9512-1d9d448d5859\">\n",
              "    <div class=\"colab-df-container\">\n",
              "      <div>\n",
              "<style scoped>\n",
              "    .dataframe tbody tr th:only-of-type {\n",
              "        vertical-align: middle;\n",
              "    }\n",
              "\n",
              "    .dataframe tbody tr th {\n",
              "        vertical-align: top;\n",
              "    }\n",
              "\n",
              "    .dataframe thead th {\n",
              "        text-align: right;\n",
              "    }\n",
              "</style>\n",
              "<table border=\"1\" class=\"dataframe\">\n",
              "  <thead>\n",
              "    <tr style=\"text-align: right;\">\n",
              "      <th></th>\n",
              "      <th>hour</th>\n",
              "      <th>demand</th>\n",
              "    </tr>\n",
              "    <tr>\n",
              "      <th>date</th>\n",
              "      <th></th>\n",
              "      <th></th>\n",
              "    </tr>\n",
              "  </thead>\n",
              "  <tbody>\n",
              "    <tr>\n",
              "      <th>2021-03-01</th>\n",
              "      <td>0</td>\n",
              "      <td>57</td>\n",
              "    </tr>\n",
              "    <tr>\n",
              "      <th>2021-03-01</th>\n",
              "      <td>1</td>\n",
              "      <td>52</td>\n",
              "    </tr>\n",
              "    <tr>\n",
              "      <th>2021-03-01</th>\n",
              "      <td>2</td>\n",
              "      <td>57</td>\n",
              "    </tr>\n",
              "    <tr>\n",
              "      <th>2021-03-01</th>\n",
              "      <td>3</td>\n",
              "      <td>59</td>\n",
              "    </tr>\n",
              "    <tr>\n",
              "      <th>2021-03-01</th>\n",
              "      <td>5</td>\n",
              "      <td>61</td>\n",
              "    </tr>\n",
              "    <tr>\n",
              "      <th>...</th>\n",
              "      <td>...</td>\n",
              "      <td>...</td>\n",
              "    </tr>\n",
              "    <tr>\n",
              "      <th>2022-03-28</th>\n",
              "      <td>19</td>\n",
              "      <td>89</td>\n",
              "    </tr>\n",
              "    <tr>\n",
              "      <th>2022-03-28</th>\n",
              "      <td>20</td>\n",
              "      <td>80</td>\n",
              "    </tr>\n",
              "    <tr>\n",
              "      <th>2022-03-28</th>\n",
              "      <td>21</td>\n",
              "      <td>74</td>\n",
              "    </tr>\n",
              "    <tr>\n",
              "      <th>2022-03-28</th>\n",
              "      <td>22</td>\n",
              "      <td>69</td>\n",
              "    </tr>\n",
              "    <tr>\n",
              "      <th>2022-03-28</th>\n",
              "      <td>23</td>\n",
              "      <td>64</td>\n",
              "    </tr>\n",
              "  </tbody>\n",
              "</table>\n",
              "<p>7650 rows × 2 columns</p>\n",
              "</div>\n",
              "      <button class=\"colab-df-convert\" onclick=\"convertToInteractive('df-f0609cce-0e46-4144-9512-1d9d448d5859')\"\n",
              "              title=\"Convert this dataframe to an interactive table.\"\n",
              "              style=\"display:none;\">\n",
              "        \n",
              "  <svg xmlns=\"http://www.w3.org/2000/svg\" height=\"24px\"viewBox=\"0 0 24 24\"\n",
              "       width=\"24px\">\n",
              "    <path d=\"M0 0h24v24H0V0z\" fill=\"none\"/>\n",
              "    <path d=\"M18.56 5.44l.94 2.06.94-2.06 2.06-.94-2.06-.94-.94-2.06-.94 2.06-2.06.94zm-11 1L8.5 8.5l.94-2.06 2.06-.94-2.06-.94L8.5 2.5l-.94 2.06-2.06.94zm10 10l.94 2.06.94-2.06 2.06-.94-2.06-.94-.94-2.06-.94 2.06-2.06.94z\"/><path d=\"M17.41 7.96l-1.37-1.37c-.4-.4-.92-.59-1.43-.59-.52 0-1.04.2-1.43.59L10.3 9.45l-7.72 7.72c-.78.78-.78 2.05 0 2.83L4 21.41c.39.39.9.59 1.41.59.51 0 1.02-.2 1.41-.59l7.78-7.78 2.81-2.81c.8-.78.8-2.07 0-2.86zM5.41 20L4 18.59l7.72-7.72 1.47 1.35L5.41 20z\"/>\n",
              "  </svg>\n",
              "      </button>\n",
              "      \n",
              "  <style>\n",
              "    .colab-df-container {\n",
              "      display:flex;\n",
              "      flex-wrap:wrap;\n",
              "      gap: 12px;\n",
              "    }\n",
              "\n",
              "    .colab-df-convert {\n",
              "      background-color: #E8F0FE;\n",
              "      border: none;\n",
              "      border-radius: 50%;\n",
              "      cursor: pointer;\n",
              "      display: none;\n",
              "      fill: #1967D2;\n",
              "      height: 32px;\n",
              "      padding: 0 0 0 0;\n",
              "      width: 32px;\n",
              "    }\n",
              "\n",
              "    .colab-df-convert:hover {\n",
              "      background-color: #E2EBFA;\n",
              "      box-shadow: 0px 1px 2px rgba(60, 64, 67, 0.3), 0px 1px 3px 1px rgba(60, 64, 67, 0.15);\n",
              "      fill: #174EA6;\n",
              "    }\n",
              "\n",
              "    [theme=dark] .colab-df-convert {\n",
              "      background-color: #3B4455;\n",
              "      fill: #D2E3FC;\n",
              "    }\n",
              "\n",
              "    [theme=dark] .colab-df-convert:hover {\n",
              "      background-color: #434B5C;\n",
              "      box-shadow: 0px 1px 3px 1px rgba(0, 0, 0, 0.15);\n",
              "      filter: drop-shadow(0px 1px 2px rgba(0, 0, 0, 0.3));\n",
              "      fill: #FFFFFF;\n",
              "    }\n",
              "  </style>\n",
              "\n",
              "      <script>\n",
              "        const buttonEl =\n",
              "          document.querySelector('#df-f0609cce-0e46-4144-9512-1d9d448d5859 button.colab-df-convert');\n",
              "        buttonEl.style.display =\n",
              "          google.colab.kernel.accessAllowed ? 'block' : 'none';\n",
              "\n",
              "        async function convertToInteractive(key) {\n",
              "          const element = document.querySelector('#df-f0609cce-0e46-4144-9512-1d9d448d5859');\n",
              "          const dataTable =\n",
              "            await google.colab.kernel.invokeFunction('convertToInteractive',\n",
              "                                                     [key], {});\n",
              "          if (!dataTable) return;\n",
              "\n",
              "          const docLinkHtml = 'Like what you see? Visit the ' +\n",
              "            '<a target=\"_blank\" href=https://colab.research.google.com/notebooks/data_table.ipynb>data table notebook</a>'\n",
              "            + ' to learn more about interactive tables.';\n",
              "          element.innerHTML = '';\n",
              "          dataTable['output_type'] = 'display_data';\n",
              "          await google.colab.output.renderOutput(dataTable, element);\n",
              "          const docLink = document.createElement('div');\n",
              "          docLink.innerHTML = docLinkHtml;\n",
              "          element.appendChild(docLink);\n",
              "        }\n",
              "      </script>\n",
              "    </div>\n",
              "  </div>\n",
              "  "
            ]
          },
          "metadata": {},
          "execution_count": 172
        }
      ]
    },
    {
      "cell_type": "code",
      "source": [
        "df.to_csv('/content/grive/MyDrive/gradientboostingfinal12.csv')"
      ],
      "metadata": {
        "id": "scdu6dah2HYe"
      },
      "execution_count": null,
      "outputs": []
    },
    {
      "cell_type": "code",
      "source": [
        ""
      ],
      "metadata": {
        "id": "fj0OGTMH2G46"
      },
      "execution_count": null,
      "outputs": []
    },
    {
      "cell_type": "code",
      "source": [
        ""
      ],
      "metadata": {
        "id": "WiFFHhlA9tj_"
      },
      "execution_count": null,
      "outputs": []
    },
    {
      "cell_type": "markdown",
      "source": [
        "## Final RMSE scores of our model on x_valid\n",
        "\n",
        "1.   XGBBOOST : 37.475210927557406\n",
        "2.   LINEAR REGRESSSION:<p>Lasso: 43.68976174561418<p>.<p2>Ridge:43.824465119715185<p2>\n",
        "3.   DNN :39.09850907817783\n",
        "4.   Gradient boosting regression : 37.12983198436382\n",
        "\n",
        "\n",
        "\n",
        "\n",
        "\n",
        "\n",
        "\n",
        "\n"
      ],
      "metadata": {
        "id": "XAkGeKMrAcbi"
      }
    },
    {
      "cell_type": "code",
      "source": [
        "#Gradient boosting regression was good model among all for this data set with low rmse score."
      ],
      "metadata": {
        "id": "f_G-dyzyAXmQ"
      },
      "execution_count": null,
      "outputs": []
    }
  ]
}